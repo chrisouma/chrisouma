{
  "nbformat": 4,
  "nbformat_minor": 0,
  "metadata": {
    "colab": {
      "provenance": [],
      "authorship_tag": "ABX9TyMFlqtqAAji1ZJpuHG9BmOh",
      "include_colab_link": true
    },
    "kernelspec": {
      "name": "python3",
      "display_name": "Python 3"
    },
    "language_info": {
      "name": "python"
    }
  },
  "cells": [
    {
      "cell_type": "markdown",
      "metadata": {
        "id": "view-in-github",
        "colab_type": "text"
      },
      "source": [
        "<a href=\"https://colab.research.google.com/github/chrisouma/chrisouma/blob/main/Deep_learning_for_text_and_sequences.ipynb\" target=\"_parent\"><img src=\"https://colab.research.google.com/assets/colab-badge.svg\" alt=\"Open In Colab\"/></a>"
      ]
    },
    {
      "cell_type": "code",
      "execution_count": 1,
      "metadata": {
        "colab": {
          "base_uri": "https://localhost:8080/"
        },
        "id": "t9xrmXsm_OZB",
        "outputId": "96fc49f4-3a11-4ad3-dcc5-4257fdb0837f"
      },
      "outputs": [
        {
          "output_type": "execute_result",
          "data": {
            "text/plain": [
              "{'The',\n",
              " 'The boy',\n",
              " 'boy',\n",
              " 'boy came',\n",
              " 'came',\n",
              " 'came home',\n",
              " 'home',\n",
              " 'home late',\n",
              " 'late'}"
            ]
          },
          "metadata": {},
          "execution_count": 1
        }
      ],
      "source": [
        "{\"The\",\"The boy\",\"boy\",\"boy came\",\"came\",\"came home\",\"home\",\"home late\",\"late\"}"
      ]
    },
    {
      "cell_type": "code",
      "source": [
        "{\"The\",\"The boy\",\"boy\",\"boy came\",\"The boy came\",\"came\",\"came home\",\"home\",\"boy came home\",\"home late\",\"late\",\"came home late\"}"
      ],
      "metadata": {
        "colab": {
          "base_uri": "https://localhost:8080/"
        },
        "id": "IOcDcKpvS7BB",
        "outputId": "0a605131-812a-42b0-e013-493c0e0a3268"
      },
      "execution_count": 2,
      "outputs": [
        {
          "output_type": "execute_result",
          "data": {
            "text/plain": [
              "{'The',\n",
              " 'The boy',\n",
              " 'The boy came',\n",
              " 'boy',\n",
              " 'boy came',\n",
              " 'boy came home',\n",
              " 'came',\n",
              " 'came home',\n",
              " 'came home late',\n",
              " 'home',\n",
              " 'home late',\n",
              " 'late'}"
            ]
          },
          "metadata": {},
          "execution_count": 2
        }
      ]
    },
    {
      "cell_type": "code",
      "source": [
        "#word-level one-hot encoding\n",
        "import numpy as np\n",
        "samples=['The baby sat on the mat','The hen ate his book']\n",
        "token_index={}\n",
        "for sample in samples:\n",
        "  for word in sample.split():\n",
        "    if word not in token_index:\n",
        "      token_index[word]=len(token_index)+1\n",
        "max_length=10\n",
        "results=np.zeros((len(samples),max_length,max(token_index.values())+1))\n",
        "for i,sample in enumerate(samples):\n",
        "  for j,word in list(enumerate(sample.split()))[:max_length]:\n",
        "    index=token_index.get(word)\n",
        "    results[i,j,index]=1."
      ],
      "metadata": {
        "id": "pHveJABzWspF"
      },
      "execution_count": 2,
      "outputs": []
    },
    {
      "cell_type": "code",
      "source": [
        "#Character-level one-hot encoding\n",
        "import string\n",
        "samples=['The baby sat on the mat','The hen ate his book']\n",
        "characters=string.printable\n",
        "token_index=dict(zip(range(1,len(characters)+1),characters))\n",
        "max_length=50\n",
        "results=np.zeros((len(samples),max_length,max(token_index.keys())+1))\n",
        "for i,sample in enumerate(samples):\n",
        "  for j,character in enumerate(sample):\n",
        "    index=token_index.get(character)\n",
        "    results[i,j,index]=1."
      ],
      "metadata": {
        "id": "uIE8V5xFeuDZ"
      },
      "execution_count": 7,
      "outputs": []
    },
    {
      "cell_type": "code",
      "source": [
        "#keras for word-level one-hot encoding\n",
        "from keras.preprocessing.text import Tokenizer\n",
        "samples=['The baby sat on the mat','The hen ate his book']\n",
        "tokenizer=Tokenizer(num_words=1200)\n",
        "tokenizer.fit_on_texts(samples)\n",
        "sequences=tokenizer.texts_to_sequences(samples)\n",
        "one_hot_results=tokenizer.texts_to_matrix(samples,mode='binary')\n",
        "word_index=tokenizer.word_index\n",
        "print('Found %s unique tokens.'%len(word_index))"
      ],
      "metadata": {
        "colab": {
          "base_uri": "https://localhost:8080/"
        },
        "id": "VzbXmMw5e4Qq",
        "outputId": "e6a51aaa-16cf-411a-ed87-833fce4f3cc4"
      },
      "execution_count": 10,
      "outputs": [
        {
          "output_type": "stream",
          "name": "stdout",
          "text": [
            "Found 9 unique tokens.\n"
          ]
        }
      ]
    },
    {
      "cell_type": "code",
      "source": [
        "#Word-level one-hot encoding with hashing trick\n",
        "samples=['The baby sat on the mat','The hen ate his book']\n",
        "dimensionality=1500\n",
        "max_length=10\n",
        "results=np.zeros((len(samples),max_length,dimensionality))\n",
        "for i, sample in enumerate(samples):\n",
        "  for j,word in list(enumerate(sample.split()))[:max_length]:\n",
        "    index=abs(hash(word))%dimensionality\n",
        "    results[i,j,index]=1."
      ],
      "metadata": {
        "id": "aHBFimnONNPF"
      },
      "execution_count": 3,
      "outputs": []
    },
    {
      "cell_type": "code",
      "source": [
        "#Instantiating an Embedding layer\n",
        "from keras.layers import Embedding\n",
        "embedding_layer=Embedding(1200,64)"
      ],
      "metadata": {
        "id": "reJ7TJ9xP83-"
      },
      "execution_count": 4,
      "outputs": []
    },
    {
      "cell_type": "code",
      "source": [
        "#Loading the IMDB dat for the use of Embedding layer\n",
        "from keras.datasets import imdb\n",
        "from keras import preprocessing\n",
        "max_features=10000\n",
        "maxlen=20\n",
        "(x_train,y_train),(x_test,y_test)=imdb.load_data(num_words=max_features)\n",
        "x_train=preprocessing.sequence.pad_sequences(x_train,maxlen=maxlen)\n",
        "x_test=preprocessing.sequence.pad_sequences(x_test,maxlen=maxlen)"
      ],
      "metadata": {
        "colab": {
          "base_uri": "https://localhost:8080/"
        },
        "id": "zRfaaIw7Qg-e",
        "outputId": "9ace471f-539d-4b4a-b8fb-edee1b1e69e3"
      },
      "execution_count": 5,
      "outputs": [
        {
          "output_type": "stream",
          "name": "stdout",
          "text": [
            "Downloading data from https://storage.googleapis.com/tensorflow/tf-keras-datasets/imdb.npz\n",
            "17464789/17464789 [==============================] - 0s 0us/step\n"
          ]
        }
      ]
    },
    {
      "cell_type": "code",
      "source": [
        "#using Embedding layer and classifier on the IMDB data\n",
        "from keras.models import Sequential\n",
        "from keras.layers import Flatten,Dense,Embedding\n",
        "model=Sequential()\n",
        "model.add(Embedding(10000,8,input_length=maxlen))\n",
        "model.add(Flatten())\n",
        "model.add(Dense(1,activation='sigmoid'))\n",
        "model.compile(optimizer='rmsprop',loss='binary_crossentropy',metrics=['acc'])\n",
        "model.summary()\n",
        "history=model.fit(x_train,y_train,epochs=20,batch_size=32,validation_split=0.2)"
      ],
      "metadata": {
        "colab": {
          "base_uri": "https://localhost:8080/"
        },
        "id": "C-zo6OiQRzFI",
        "outputId": "3d22b2b3-dc84-4441-fb7e-4bec9448a15b"
      },
      "execution_count": 6,
      "outputs": [
        {
          "output_type": "stream",
          "name": "stdout",
          "text": [
            "Model: \"sequential\"\n",
            "_________________________________________________________________\n",
            " Layer (type)                Output Shape              Param #   \n",
            "=================================================================\n",
            " embedding_1 (Embedding)     (None, 20, 8)             80000     \n",
            "                                                                 \n",
            " flatten (Flatten)           (None, 160)               0         \n",
            "                                                                 \n",
            " dense (Dense)               (None, 1)                 161       \n",
            "                                                                 \n",
            "=================================================================\n",
            "Total params: 80161 (313.13 KB)\n",
            "Trainable params: 80161 (313.13 KB)\n",
            "Non-trainable params: 0 (0.00 Byte)\n",
            "_________________________________________________________________\n",
            "Epoch 1/20\n",
            "625/625 [==============================] - 3s 3ms/step - loss: 0.6752 - acc: 0.6083 - val_loss: 0.6335 - val_acc: 0.6908\n",
            "Epoch 2/20\n",
            "625/625 [==============================] - 2s 3ms/step - loss: 0.5531 - acc: 0.7463 - val_loss: 0.5314 - val_acc: 0.7260\n",
            "Epoch 3/20\n",
            "625/625 [==============================] - 2s 3ms/step - loss: 0.4660 - acc: 0.7862 - val_loss: 0.5052 - val_acc: 0.7392\n",
            "Epoch 4/20\n",
            "625/625 [==============================] - 3s 5ms/step - loss: 0.4249 - acc: 0.8073 - val_loss: 0.4958 - val_acc: 0.7468\n",
            "Epoch 5/20\n",
            "625/625 [==============================] - 1s 2ms/step - loss: 0.3974 - acc: 0.8227 - val_loss: 0.4954 - val_acc: 0.7522\n",
            "Epoch 6/20\n",
            "625/625 [==============================] - 2s 3ms/step - loss: 0.3748 - acc: 0.8360 - val_loss: 0.5008 - val_acc: 0.7550\n",
            "Epoch 7/20\n",
            "625/625 [==============================] - 2s 2ms/step - loss: 0.3548 - acc: 0.8475 - val_loss: 0.5041 - val_acc: 0.7512\n",
            "Epoch 8/20\n",
            "625/625 [==============================] - 2s 3ms/step - loss: 0.3359 - acc: 0.8588 - val_loss: 0.5103 - val_acc: 0.7508\n",
            "Epoch 9/20\n",
            "625/625 [==============================] - 2s 3ms/step - loss: 0.3178 - acc: 0.8690 - val_loss: 0.5186 - val_acc: 0.7514\n",
            "Epoch 10/20\n",
            "625/625 [==============================] - 2s 3ms/step - loss: 0.3006 - acc: 0.8766 - val_loss: 0.5269 - val_acc: 0.7466\n",
            "Epoch 11/20\n",
            "625/625 [==============================] - 3s 5ms/step - loss: 0.2834 - acc: 0.8871 - val_loss: 0.5368 - val_acc: 0.7466\n",
            "Epoch 12/20\n",
            "625/625 [==============================] - 2s 3ms/step - loss: 0.2669 - acc: 0.8942 - val_loss: 0.5470 - val_acc: 0.7454\n",
            "Epoch 13/20\n",
            "625/625 [==============================] - 1s 2ms/step - loss: 0.2515 - acc: 0.9015 - val_loss: 0.5572 - val_acc: 0.7406\n",
            "Epoch 14/20\n",
            "625/625 [==============================] - 2s 3ms/step - loss: 0.2369 - acc: 0.9104 - val_loss: 0.5696 - val_acc: 0.7378\n",
            "Epoch 15/20\n",
            "625/625 [==============================] - 2s 2ms/step - loss: 0.2226 - acc: 0.9169 - val_loss: 0.5815 - val_acc: 0.7358\n",
            "Epoch 16/20\n",
            "625/625 [==============================] - 2s 2ms/step - loss: 0.2093 - acc: 0.9233 - val_loss: 0.5947 - val_acc: 0.7336\n",
            "Epoch 17/20\n",
            "625/625 [==============================] - 2s 2ms/step - loss: 0.1973 - acc: 0.9269 - val_loss: 0.6074 - val_acc: 0.7326\n",
            "Epoch 18/20\n",
            "625/625 [==============================] - 2s 3ms/step - loss: 0.1855 - acc: 0.9344 - val_loss: 0.6214 - val_acc: 0.7302\n",
            "Epoch 19/20\n",
            "625/625 [==============================] - 3s 4ms/step - loss: 0.1748 - acc: 0.9377 - val_loss: 0.6368 - val_acc: 0.7288\n",
            "Epoch 20/20\n",
            "625/625 [==============================] - 2s 3ms/step - loss: 0.1646 - acc: 0.9415 - val_loss: 0.6521 - val_acc: 0.7264\n"
          ]
        }
      ]
    }
  ]
}