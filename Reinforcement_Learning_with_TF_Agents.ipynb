{
  "nbformat": 4,
  "nbformat_minor": 0,
  "metadata": {
    "colab": {
      "provenance": [],
      "authorship_tag": "ABX9TyNDmqKa/uuiYhoXet3+u9Qy",
      "include_colab_link": true
    },
    "kernelspec": {
      "name": "python3",
      "display_name": "Python 3"
    },
    "language_info": {
      "name": "python"
    }
  },
  "cells": [
    {
      "cell_type": "markdown",
      "metadata": {
        "id": "view-in-github",
        "colab_type": "text"
      },
      "source": [
        "<a href=\"https://colab.research.google.com/github/chrisouma/chrisouma/blob/main/Reinforcement_Learning_with_TF_Agents.ipynb\" target=\"_parent\"><img src=\"https://colab.research.google.com/assets/colab-badge.svg\" alt=\"Open In Colab\"/></a>"
      ]
    },
    {
      "cell_type": "code",
      "execution_count": 2,
      "metadata": {
        "colab": {
          "base_uri": "https://localhost:8080/"
        },
        "id": "ByJfVUQVhkOX",
        "outputId": "2085ae6f-7891-44d5-cbbd-c719d1b42c4d"
      },
      "outputs": [
        {
          "output_type": "stream",
          "name": "stdout",
          "text": [
            "\r0% [Working]\r            \rGet:1 https://cloud.r-project.org/bin/linux/ubuntu jammy-cran40/ InRelease [3,626 B]\n",
            "Hit:2 https://developer.download.nvidia.com/compute/cuda/repos/ubuntu2204/x86_64  InRelease\n",
            "Hit:3 http://archive.ubuntu.com/ubuntu jammy InRelease\n",
            "Get:4 http://security.ubuntu.com/ubuntu jammy-security InRelease [129 kB]\n",
            "Get:5 http://archive.ubuntu.com/ubuntu jammy-updates InRelease [128 kB]\n",
            "Get:6 http://archive.ubuntu.com/ubuntu jammy-backports InRelease [127 kB]\n",
            "Get:7 http://archive.ubuntu.com/ubuntu jammy-updates/universe amd64 Packages [1,376 kB]\n",
            "Get:8 http://security.ubuntu.com/ubuntu jammy-security/main amd64 Packages [1,854 kB]\n",
            "Get:9 http://archive.ubuntu.com/ubuntu jammy-updates/main amd64 Packages [2,125 kB]\n",
            "Get:10 http://archive.ubuntu.com/ubuntu jammy-backports/main amd64 Packages [110 kB]\n",
            "Get:11 http://archive.ubuntu.com/ubuntu jammy-backports/universe amd64 Packages [35.0 kB]\n",
            "Get:12 http://security.ubuntu.com/ubuntu jammy-security/universe amd64 Packages [1,084 kB]\n",
            "Hit:13 https://ppa.launchpadcontent.net/c2d4u.team/c2d4u4.0+/ubuntu jammy InRelease\n",
            "Hit:14 https://ppa.launchpadcontent.net/deadsnakes/ppa/ubuntu jammy InRelease\n",
            "Hit:15 https://ppa.launchpadcontent.net/graphics-drivers/ppa/ubuntu jammy InRelease\n",
            "Hit:16 https://ppa.launchpadcontent.net/ubuntugis/ppa/ubuntu jammy InRelease\n",
            "Fetched 6,972 kB in 3s (2,462 kB/s)\n",
            "Reading package lists... Done\n",
            "E: Invalid operation install-y\n",
            "Collecting imageio==2.4.0\n",
            "  Downloading imageio-2.4.0.tar.gz (3.3 MB)\n",
            "\u001b[2K     \u001b[90m━━━━━━━━━━━━━━━━━━━━━━━━━━━━━━━━━━━━━━━━\u001b[0m \u001b[32m3.3/3.3 MB\u001b[0m \u001b[31m13.2 MB/s\u001b[0m eta \u001b[36m0:00:00\u001b[0m\n",
            "\u001b[?25h  Preparing metadata (setup.py) ... \u001b[?25l\u001b[?25hdone\n",
            "Requirement already satisfied: numpy in /usr/local/lib/python3.10/dist-packages (from imageio==2.4.0) (1.25.2)\n",
            "Requirement already satisfied: pillow in /usr/local/lib/python3.10/dist-packages (from imageio==2.4.0) (9.4.0)\n",
            "Building wheels for collected packages: imageio\n",
            "  Building wheel for imageio (setup.py) ... \u001b[?25l\u001b[?25hdone\n",
            "  Created wheel for imageio: filename=imageio-2.4.0-py3-none-any.whl size=3303892 sha256=e3a2149a02bfa4e348871a8c9afce20392faa38c9e21741434aa50f8ed781dc6\n",
            "  Stored in directory: /root/.cache/pip/wheels/8a/d8/1c/eb9350a4bd3ae8e8814a2f7f9cc832fedad8ea5a926181d60d\n",
            "Successfully built imageio\n",
            "Installing collected packages: imageio\n",
            "  Attempting uninstall: imageio\n",
            "    Found existing installation: imageio 2.31.6\n",
            "    Uninstalling imageio-2.31.6:\n",
            "      Successfully uninstalled imageio-2.31.6\n",
            "\u001b[31mERROR: pip's dependency resolver does not currently take into account all the packages that are installed. This behaviour is the source of the following dependency conflicts.\n",
            "moviepy 1.0.3 requires imageio<3.0,>=2.5; python_version >= \"3.4\", but you have imageio 2.4.0 which is incompatible.\n",
            "scikit-image 0.19.3 requires imageio>=2.4.1, but you have imageio 2.4.0 which is incompatible.\u001b[0m\u001b[31m\n",
            "\u001b[0mSuccessfully installed imageio-2.4.0\n",
            "Collecting pyvirtualdisplay\n",
            "  Downloading PyVirtualDisplay-3.0-py3-none-any.whl (15 kB)\n",
            "Installing collected packages: pyvirtualdisplay\n",
            "Successfully installed pyvirtualdisplay-3.0\n",
            "Collecting tf-agents[reverb]\n",
            "  Downloading tf_agents-0.19.0-py3-none-any.whl (1.4 MB)\n",
            "\u001b[2K     \u001b[90m━━━━━━━━━━━━━━━━━━━━━━━━━━━━━━━━━━━━━━━━\u001b[0m \u001b[32m1.4/1.4 MB\u001b[0m \u001b[31m9.0 MB/s\u001b[0m eta \u001b[36m0:00:00\u001b[0m\n",
            "\u001b[?25hRequirement already satisfied: absl-py>=0.6.1 in /usr/local/lib/python3.10/dist-packages (from tf-agents[reverb]) (1.4.0)\n",
            "Requirement already satisfied: cloudpickle>=1.3 in /usr/local/lib/python3.10/dist-packages (from tf-agents[reverb]) (2.2.1)\n",
            "Requirement already satisfied: gin-config>=0.4.0 in /usr/local/lib/python3.10/dist-packages (from tf-agents[reverb]) (0.5.0)\n",
            "Collecting gym<=0.23.0,>=0.17.0 (from tf-agents[reverb])\n",
            "  Downloading gym-0.23.0.tar.gz (624 kB)\n",
            "\u001b[2K     \u001b[90m━━━━━━━━━━━━━━━━━━━━━━━━━━━━━━━━━━━━━━━━\u001b[0m \u001b[32m624.4/624.4 kB\u001b[0m \u001b[31m13.4 MB/s\u001b[0m eta \u001b[36m0:00:00\u001b[0m\n",
            "\u001b[?25h  Installing build dependencies ... \u001b[?25l\u001b[?25hdone\n",
            "  Getting requirements to build wheel ... \u001b[?25l\u001b[?25hdone\n",
            "  Preparing metadata (pyproject.toml) ... \u001b[?25l\u001b[?25hdone\n",
            "Requirement already satisfied: numpy>=1.19.0 in /usr/local/lib/python3.10/dist-packages (from tf-agents[reverb]) (1.25.2)\n",
            "Requirement already satisfied: pillow in /usr/local/lib/python3.10/dist-packages (from tf-agents[reverb]) (9.4.0)\n",
            "Requirement already satisfied: six>=1.10.0 in /usr/local/lib/python3.10/dist-packages (from tf-agents[reverb]) (1.16.0)\n",
            "Requirement already satisfied: protobuf>=3.11.3 in /usr/local/lib/python3.10/dist-packages (from tf-agents[reverb]) (3.20.3)\n",
            "Requirement already satisfied: wrapt>=1.11.1 in /usr/local/lib/python3.10/dist-packages (from tf-agents[reverb]) (1.14.1)\n",
            "Collecting typing-extensions==4.5.0 (from tf-agents[reverb])\n",
            "  Downloading typing_extensions-4.5.0-py3-none-any.whl (27 kB)\n",
            "Collecting pygame==2.1.3 (from tf-agents[reverb])\n",
            "  Downloading pygame-2.1.3-cp310-cp310-manylinux_2_17_x86_64.manylinux2014_x86_64.whl (13.7 MB)\n",
            "\u001b[2K     \u001b[90m━━━━━━━━━━━━━━━━━━━━━━━━━━━━━━━━━━━━━━━━\u001b[0m \u001b[32m13.7/13.7 MB\u001b[0m \u001b[31m45.2 MB/s\u001b[0m eta \u001b[36m0:00:00\u001b[0m\n",
            "\u001b[?25hRequirement already satisfied: tensorflow-probability~=0.23.0 in /usr/local/lib/python3.10/dist-packages (from tf-agents[reverb]) (0.23.0)\n",
            "Collecting rlds (from tf-agents[reverb])\n",
            "  Downloading rlds-0.1.8-py3-none-manylinux2010_x86_64.whl (48 kB)\n",
            "\u001b[2K     \u001b[90m━━━━━━━━━━━━━━━━━━━━━━━━━━━━━━━━━━━━━━━━\u001b[0m \u001b[32m48.4/48.4 kB\u001b[0m \u001b[31m5.6 MB/s\u001b[0m eta \u001b[36m0:00:00\u001b[0m\n",
            "\u001b[?25hCollecting dm-reverb~=0.14.0 (from tf-agents[reverb])\n",
            "  Downloading dm_reverb-0.14.0-cp310-cp310-manylinux2014_x86_64.whl (6.4 MB)\n",
            "\u001b[2K     \u001b[90m━━━━━━━━━━━━━━━━━━━━━━━━━━━━━━━━━━━━━━━━\u001b[0m \u001b[32m6.4/6.4 MB\u001b[0m \u001b[31m61.9 MB/s\u001b[0m eta \u001b[36m0:00:00\u001b[0m\n",
            "\u001b[?25hRequirement already satisfied: tensorflow~=2.15.0 in /usr/local/lib/python3.10/dist-packages (from tf-agents[reverb]) (2.15.0)\n",
            "Requirement already satisfied: dm-tree in /usr/local/lib/python3.10/dist-packages (from dm-reverb~=0.14.0->tf-agents[reverb]) (0.1.8)\n",
            "Requirement already satisfied: portpicker in /usr/local/lib/python3.10/dist-packages (from dm-reverb~=0.14.0->tf-agents[reverb]) (1.5.2)\n",
            "Requirement already satisfied: gym-notices>=0.0.4 in /usr/local/lib/python3.10/dist-packages (from gym<=0.23.0,>=0.17.0->tf-agents[reverb]) (0.0.8)\n",
            "Requirement already satisfied: astunparse>=1.6.0 in /usr/local/lib/python3.10/dist-packages (from tensorflow~=2.15.0->tf-agents[reverb]) (1.6.3)\n",
            "Requirement already satisfied: flatbuffers>=23.5.26 in /usr/local/lib/python3.10/dist-packages (from tensorflow~=2.15.0->tf-agents[reverb]) (24.3.25)\n",
            "Requirement already satisfied: gast!=0.5.0,!=0.5.1,!=0.5.2,>=0.2.1 in /usr/local/lib/python3.10/dist-packages (from tensorflow~=2.15.0->tf-agents[reverb]) (0.5.4)\n",
            "Requirement already satisfied: google-pasta>=0.1.1 in /usr/local/lib/python3.10/dist-packages (from tensorflow~=2.15.0->tf-agents[reverb]) (0.2.0)\n",
            "Requirement already satisfied: h5py>=2.9.0 in /usr/local/lib/python3.10/dist-packages (from tensorflow~=2.15.0->tf-agents[reverb]) (3.9.0)\n",
            "Requirement already satisfied: libclang>=13.0.0 in /usr/local/lib/python3.10/dist-packages (from tensorflow~=2.15.0->tf-agents[reverb]) (18.1.1)\n",
            "Requirement already satisfied: ml-dtypes~=0.2.0 in /usr/local/lib/python3.10/dist-packages (from tensorflow~=2.15.0->tf-agents[reverb]) (0.2.0)\n",
            "Requirement already satisfied: opt-einsum>=2.3.2 in /usr/local/lib/python3.10/dist-packages (from tensorflow~=2.15.0->tf-agents[reverb]) (3.3.0)\n",
            "Requirement already satisfied: packaging in /usr/local/lib/python3.10/dist-packages (from tensorflow~=2.15.0->tf-agents[reverb]) (24.0)\n",
            "Requirement already satisfied: setuptools in /usr/local/lib/python3.10/dist-packages (from tensorflow~=2.15.0->tf-agents[reverb]) (67.7.2)\n",
            "Requirement already satisfied: termcolor>=1.1.0 in /usr/local/lib/python3.10/dist-packages (from tensorflow~=2.15.0->tf-agents[reverb]) (2.4.0)\n",
            "Requirement already satisfied: tensorflow-io-gcs-filesystem>=0.23.1 in /usr/local/lib/python3.10/dist-packages (from tensorflow~=2.15.0->tf-agents[reverb]) (0.37.0)\n",
            "Requirement already satisfied: grpcio<2.0,>=1.24.3 in /usr/local/lib/python3.10/dist-packages (from tensorflow~=2.15.0->tf-agents[reverb]) (1.64.0)\n",
            "Requirement already satisfied: tensorboard<2.16,>=2.15 in /usr/local/lib/python3.10/dist-packages (from tensorflow~=2.15.0->tf-agents[reverb]) (2.15.2)\n",
            "Requirement already satisfied: tensorflow-estimator<2.16,>=2.15.0 in /usr/local/lib/python3.10/dist-packages (from tensorflow~=2.15.0->tf-agents[reverb]) (2.15.0)\n",
            "Requirement already satisfied: keras<2.16,>=2.15.0 in /usr/local/lib/python3.10/dist-packages (from tensorflow~=2.15.0->tf-agents[reverb]) (2.15.0)\n",
            "Requirement already satisfied: decorator in /usr/local/lib/python3.10/dist-packages (from tensorflow-probability~=0.23.0->tf-agents[reverb]) (4.4.2)\n",
            "Requirement already satisfied: wheel<1.0,>=0.23.0 in /usr/local/lib/python3.10/dist-packages (from astunparse>=1.6.0->tensorflow~=2.15.0->tf-agents[reverb]) (0.43.0)\n",
            "Requirement already satisfied: google-auth<3,>=1.6.3 in /usr/local/lib/python3.10/dist-packages (from tensorboard<2.16,>=2.15->tensorflow~=2.15.0->tf-agents[reverb]) (2.27.0)\n",
            "Requirement already satisfied: google-auth-oauthlib<2,>=0.5 in /usr/local/lib/python3.10/dist-packages (from tensorboard<2.16,>=2.15->tensorflow~=2.15.0->tf-agents[reverb]) (1.2.0)\n",
            "Requirement already satisfied: markdown>=2.6.8 in /usr/local/lib/python3.10/dist-packages (from tensorboard<2.16,>=2.15->tensorflow~=2.15.0->tf-agents[reverb]) (3.6)\n",
            "Requirement already satisfied: requests<3,>=2.21.0 in /usr/local/lib/python3.10/dist-packages (from tensorboard<2.16,>=2.15->tensorflow~=2.15.0->tf-agents[reverb]) (2.31.0)\n",
            "Requirement already satisfied: tensorboard-data-server<0.8.0,>=0.7.0 in /usr/local/lib/python3.10/dist-packages (from tensorboard<2.16,>=2.15->tensorflow~=2.15.0->tf-agents[reverb]) (0.7.2)\n",
            "Requirement already satisfied: werkzeug>=1.0.1 in /usr/local/lib/python3.10/dist-packages (from tensorboard<2.16,>=2.15->tensorflow~=2.15.0->tf-agents[reverb]) (3.0.3)\n",
            "Requirement already satisfied: psutil in /usr/local/lib/python3.10/dist-packages (from portpicker->dm-reverb~=0.14.0->tf-agents[reverb]) (5.9.5)\n",
            "Requirement already satisfied: cachetools<6.0,>=2.0.0 in /usr/local/lib/python3.10/dist-packages (from google-auth<3,>=1.6.3->tensorboard<2.16,>=2.15->tensorflow~=2.15.0->tf-agents[reverb]) (5.3.3)\n",
            "Requirement already satisfied: pyasn1-modules>=0.2.1 in /usr/local/lib/python3.10/dist-packages (from google-auth<3,>=1.6.3->tensorboard<2.16,>=2.15->tensorflow~=2.15.0->tf-agents[reverb]) (0.4.0)\n",
            "Requirement already satisfied: rsa<5,>=3.1.4 in /usr/local/lib/python3.10/dist-packages (from google-auth<3,>=1.6.3->tensorboard<2.16,>=2.15->tensorflow~=2.15.0->tf-agents[reverb]) (4.9)\n",
            "Requirement already satisfied: requests-oauthlib>=0.7.0 in /usr/local/lib/python3.10/dist-packages (from google-auth-oauthlib<2,>=0.5->tensorboard<2.16,>=2.15->tensorflow~=2.15.0->tf-agents[reverb]) (1.3.1)\n",
            "Requirement already satisfied: charset-normalizer<4,>=2 in /usr/local/lib/python3.10/dist-packages (from requests<3,>=2.21.0->tensorboard<2.16,>=2.15->tensorflow~=2.15.0->tf-agents[reverb]) (3.3.2)\n",
            "Requirement already satisfied: idna<4,>=2.5 in /usr/local/lib/python3.10/dist-packages (from requests<3,>=2.21.0->tensorboard<2.16,>=2.15->tensorflow~=2.15.0->tf-agents[reverb]) (3.7)\n",
            "Requirement already satisfied: urllib3<3,>=1.21.1 in /usr/local/lib/python3.10/dist-packages (from requests<3,>=2.21.0->tensorboard<2.16,>=2.15->tensorflow~=2.15.0->tf-agents[reverb]) (2.0.7)\n",
            "Requirement already satisfied: certifi>=2017.4.17 in /usr/local/lib/python3.10/dist-packages (from requests<3,>=2.21.0->tensorboard<2.16,>=2.15->tensorflow~=2.15.0->tf-agents[reverb]) (2024.2.2)\n",
            "Requirement already satisfied: MarkupSafe>=2.1.1 in /usr/local/lib/python3.10/dist-packages (from werkzeug>=1.0.1->tensorboard<2.16,>=2.15->tensorflow~=2.15.0->tf-agents[reverb]) (2.1.5)\n",
            "Requirement already satisfied: pyasn1<0.7.0,>=0.4.6 in /usr/local/lib/python3.10/dist-packages (from pyasn1-modules>=0.2.1->google-auth<3,>=1.6.3->tensorboard<2.16,>=2.15->tensorflow~=2.15.0->tf-agents[reverb]) (0.6.0)\n",
            "Requirement already satisfied: oauthlib>=3.0.0 in /usr/local/lib/python3.10/dist-packages (from requests-oauthlib>=0.7.0->google-auth-oauthlib<2,>=0.5->tensorboard<2.16,>=2.15->tensorflow~=2.15.0->tf-agents[reverb]) (3.2.2)\n",
            "Building wheels for collected packages: gym\n",
            "  Building wheel for gym (pyproject.toml) ... \u001b[?25l\u001b[?25hdone\n",
            "  Created wheel for gym: filename=gym-0.23.0-py3-none-any.whl size=697632 sha256=8b85aa3a1be171a13b175a1c14af11169f72fd1e85508a0f24699ebc77666758\n",
            "  Stored in directory: /root/.cache/pip/wheels/3d/6f/b4/3991d4fae11d0ecb0754c11cc1b4e7745012850da4efaaf0b1\n",
            "Successfully built gym\n",
            "Installing collected packages: typing-extensions, rlds, pygame, gym, tf-agents, dm-reverb\n",
            "  Attempting uninstall: typing-extensions\n",
            "    Found existing installation: typing_extensions 4.11.0\n",
            "    Uninstalling typing_extensions-4.11.0:\n",
            "      Successfully uninstalled typing_extensions-4.11.0\n",
            "  Attempting uninstall: pygame\n",
            "    Found existing installation: pygame 2.5.2\n",
            "    Uninstalling pygame-2.5.2:\n",
            "      Successfully uninstalled pygame-2.5.2\n",
            "  Attempting uninstall: gym\n",
            "    Found existing installation: gym 0.25.2\n",
            "    Uninstalling gym-0.25.2:\n",
            "      Successfully uninstalled gym-0.25.2\n",
            "\u001b[31mERROR: pip's dependency resolver does not currently take into account all the packages that are installed. This behaviour is the source of the following dependency conflicts.\n",
            "torch 2.3.0+cu121 requires nvidia-cublas-cu12==12.1.3.1; platform_system == \"Linux\" and platform_machine == \"x86_64\", which is not installed.\n",
            "torch 2.3.0+cu121 requires nvidia-cuda-cupti-cu12==12.1.105; platform_system == \"Linux\" and platform_machine == \"x86_64\", which is not installed.\n",
            "torch 2.3.0+cu121 requires nvidia-cuda-nvrtc-cu12==12.1.105; platform_system == \"Linux\" and platform_machine == \"x86_64\", which is not installed.\n",
            "torch 2.3.0+cu121 requires nvidia-cuda-runtime-cu12==12.1.105; platform_system == \"Linux\" and platform_machine == \"x86_64\", which is not installed.\n",
            "torch 2.3.0+cu121 requires nvidia-cudnn-cu12==8.9.2.26; platform_system == \"Linux\" and platform_machine == \"x86_64\", which is not installed.\n",
            "torch 2.3.0+cu121 requires nvidia-cufft-cu12==11.0.2.54; platform_system == \"Linux\" and platform_machine == \"x86_64\", which is not installed.\n",
            "torch 2.3.0+cu121 requires nvidia-curand-cu12==10.3.2.106; platform_system == \"Linux\" and platform_machine == \"x86_64\", which is not installed.\n",
            "torch 2.3.0+cu121 requires nvidia-cusolver-cu12==11.4.5.107; platform_system == \"Linux\" and platform_machine == \"x86_64\", which is not installed.\n",
            "torch 2.3.0+cu121 requires nvidia-cusparse-cu12==12.1.0.106; platform_system == \"Linux\" and platform_machine == \"x86_64\", which is not installed.\n",
            "torch 2.3.0+cu121 requires nvidia-nccl-cu12==2.20.5; platform_system == \"Linux\" and platform_machine == \"x86_64\", which is not installed.\n",
            "torch 2.3.0+cu121 requires nvidia-nvtx-cu12==12.1.105; platform_system == \"Linux\" and platform_machine == \"x86_64\", which is not installed.\n",
            "sqlalchemy 2.0.30 requires typing-extensions>=4.6.0, but you have typing-extensions 4.5.0 which is incompatible.\n",
            "pydantic 2.7.1 requires typing-extensions>=4.6.1, but you have typing-extensions 4.5.0 which is incompatible.\n",
            "pydantic-core 2.18.2 requires typing-extensions!=4.7.0,>=4.6.0, but you have typing-extensions 4.5.0 which is incompatible.\n",
            "torch 2.3.0+cu121 requires typing-extensions>=4.8.0, but you have typing-extensions 4.5.0 which is incompatible.\u001b[0m\u001b[31m\n",
            "\u001b[0mSuccessfully installed dm-reverb-0.14.0 gym-0.23.0 pygame-2.1.3 rlds-0.1.8 tf-agents-0.19.0 typing-extensions-4.5.0\n",
            "Collecting pyglet\n",
            "  Downloading pyglet-2.0.15-py3-none-any.whl (884 kB)\n",
            "\u001b[2K     \u001b[90m━━━━━━━━━━━━━━━━━━━━━━━━━━━━━━━━━━━━━━━━\u001b[0m \u001b[32m884.3/884.3 kB\u001b[0m \u001b[31m6.7 MB/s\u001b[0m eta \u001b[36m0:00:00\u001b[0m\n",
            "\u001b[?25hInstalling collected packages: pyglet\n",
            "Successfully installed pyglet-2.0.15\n",
            "Requirement already satisfied: tf-keras in /usr/local/lib/python3.10/dist-packages (2.15.1)\n",
            "Requirement already satisfied: tensorflow<2.16,>=2.15 in /usr/local/lib/python3.10/dist-packages (from tf-keras) (2.15.0)\n",
            "Requirement already satisfied: absl-py>=1.0.0 in /usr/local/lib/python3.10/dist-packages (from tensorflow<2.16,>=2.15->tf-keras) (1.4.0)\n",
            "Requirement already satisfied: astunparse>=1.6.0 in /usr/local/lib/python3.10/dist-packages (from tensorflow<2.16,>=2.15->tf-keras) (1.6.3)\n",
            "Requirement already satisfied: flatbuffers>=23.5.26 in /usr/local/lib/python3.10/dist-packages (from tensorflow<2.16,>=2.15->tf-keras) (24.3.25)\n",
            "Requirement already satisfied: gast!=0.5.0,!=0.5.1,!=0.5.2,>=0.2.1 in /usr/local/lib/python3.10/dist-packages (from tensorflow<2.16,>=2.15->tf-keras) (0.5.4)\n",
            "Requirement already satisfied: google-pasta>=0.1.1 in /usr/local/lib/python3.10/dist-packages (from tensorflow<2.16,>=2.15->tf-keras) (0.2.0)\n",
            "Requirement already satisfied: h5py>=2.9.0 in /usr/local/lib/python3.10/dist-packages (from tensorflow<2.16,>=2.15->tf-keras) (3.9.0)\n",
            "Requirement already satisfied: libclang>=13.0.0 in /usr/local/lib/python3.10/dist-packages (from tensorflow<2.16,>=2.15->tf-keras) (18.1.1)\n",
            "Requirement already satisfied: ml-dtypes~=0.2.0 in /usr/local/lib/python3.10/dist-packages (from tensorflow<2.16,>=2.15->tf-keras) (0.2.0)\n",
            "Requirement already satisfied: numpy<2.0.0,>=1.23.5 in /usr/local/lib/python3.10/dist-packages (from tensorflow<2.16,>=2.15->tf-keras) (1.25.2)\n",
            "Requirement already satisfied: opt-einsum>=2.3.2 in /usr/local/lib/python3.10/dist-packages (from tensorflow<2.16,>=2.15->tf-keras) (3.3.0)\n",
            "Requirement already satisfied: packaging in /usr/local/lib/python3.10/dist-packages (from tensorflow<2.16,>=2.15->tf-keras) (24.0)\n",
            "Requirement already satisfied: protobuf!=4.21.0,!=4.21.1,!=4.21.2,!=4.21.3,!=4.21.4,!=4.21.5,<5.0.0dev,>=3.20.3 in /usr/local/lib/python3.10/dist-packages (from tensorflow<2.16,>=2.15->tf-keras) (3.20.3)\n",
            "Requirement already satisfied: setuptools in /usr/local/lib/python3.10/dist-packages (from tensorflow<2.16,>=2.15->tf-keras) (67.7.2)\n",
            "Requirement already satisfied: six>=1.12.0 in /usr/local/lib/python3.10/dist-packages (from tensorflow<2.16,>=2.15->tf-keras) (1.16.0)\n",
            "Requirement already satisfied: termcolor>=1.1.0 in /usr/local/lib/python3.10/dist-packages (from tensorflow<2.16,>=2.15->tf-keras) (2.4.0)\n",
            "Requirement already satisfied: typing-extensions>=3.6.6 in /usr/local/lib/python3.10/dist-packages (from tensorflow<2.16,>=2.15->tf-keras) (4.5.0)\n",
            "Requirement already satisfied: wrapt<1.15,>=1.11.0 in /usr/local/lib/python3.10/dist-packages (from tensorflow<2.16,>=2.15->tf-keras) (1.14.1)\n",
            "Requirement already satisfied: tensorflow-io-gcs-filesystem>=0.23.1 in /usr/local/lib/python3.10/dist-packages (from tensorflow<2.16,>=2.15->tf-keras) (0.37.0)\n",
            "Requirement already satisfied: grpcio<2.0,>=1.24.3 in /usr/local/lib/python3.10/dist-packages (from tensorflow<2.16,>=2.15->tf-keras) (1.64.0)\n",
            "Requirement already satisfied: tensorboard<2.16,>=2.15 in /usr/local/lib/python3.10/dist-packages (from tensorflow<2.16,>=2.15->tf-keras) (2.15.2)\n",
            "Requirement already satisfied: tensorflow-estimator<2.16,>=2.15.0 in /usr/local/lib/python3.10/dist-packages (from tensorflow<2.16,>=2.15->tf-keras) (2.15.0)\n",
            "Requirement already satisfied: keras<2.16,>=2.15.0 in /usr/local/lib/python3.10/dist-packages (from tensorflow<2.16,>=2.15->tf-keras) (2.15.0)\n",
            "Requirement already satisfied: wheel<1.0,>=0.23.0 in /usr/local/lib/python3.10/dist-packages (from astunparse>=1.6.0->tensorflow<2.16,>=2.15->tf-keras) (0.43.0)\n",
            "Requirement already satisfied: google-auth<3,>=1.6.3 in /usr/local/lib/python3.10/dist-packages (from tensorboard<2.16,>=2.15->tensorflow<2.16,>=2.15->tf-keras) (2.27.0)\n",
            "Requirement already satisfied: google-auth-oauthlib<2,>=0.5 in /usr/local/lib/python3.10/dist-packages (from tensorboard<2.16,>=2.15->tensorflow<2.16,>=2.15->tf-keras) (1.2.0)\n",
            "Requirement already satisfied: markdown>=2.6.8 in /usr/local/lib/python3.10/dist-packages (from tensorboard<2.16,>=2.15->tensorflow<2.16,>=2.15->tf-keras) (3.6)\n",
            "Requirement already satisfied: requests<3,>=2.21.0 in /usr/local/lib/python3.10/dist-packages (from tensorboard<2.16,>=2.15->tensorflow<2.16,>=2.15->tf-keras) (2.31.0)\n",
            "Requirement already satisfied: tensorboard-data-server<0.8.0,>=0.7.0 in /usr/local/lib/python3.10/dist-packages (from tensorboard<2.16,>=2.15->tensorflow<2.16,>=2.15->tf-keras) (0.7.2)\n",
            "Requirement already satisfied: werkzeug>=1.0.1 in /usr/local/lib/python3.10/dist-packages (from tensorboard<2.16,>=2.15->tensorflow<2.16,>=2.15->tf-keras) (3.0.3)\n",
            "Requirement already satisfied: cachetools<6.0,>=2.0.0 in /usr/local/lib/python3.10/dist-packages (from google-auth<3,>=1.6.3->tensorboard<2.16,>=2.15->tensorflow<2.16,>=2.15->tf-keras) (5.3.3)\n",
            "Requirement already satisfied: pyasn1-modules>=0.2.1 in /usr/local/lib/python3.10/dist-packages (from google-auth<3,>=1.6.3->tensorboard<2.16,>=2.15->tensorflow<2.16,>=2.15->tf-keras) (0.4.0)\n",
            "Requirement already satisfied: rsa<5,>=3.1.4 in /usr/local/lib/python3.10/dist-packages (from google-auth<3,>=1.6.3->tensorboard<2.16,>=2.15->tensorflow<2.16,>=2.15->tf-keras) (4.9)\n",
            "Requirement already satisfied: requests-oauthlib>=0.7.0 in /usr/local/lib/python3.10/dist-packages (from google-auth-oauthlib<2,>=0.5->tensorboard<2.16,>=2.15->tensorflow<2.16,>=2.15->tf-keras) (1.3.1)\n",
            "Requirement already satisfied: charset-normalizer<4,>=2 in /usr/local/lib/python3.10/dist-packages (from requests<3,>=2.21.0->tensorboard<2.16,>=2.15->tensorflow<2.16,>=2.15->tf-keras) (3.3.2)\n",
            "Requirement already satisfied: idna<4,>=2.5 in /usr/local/lib/python3.10/dist-packages (from requests<3,>=2.21.0->tensorboard<2.16,>=2.15->tensorflow<2.16,>=2.15->tf-keras) (3.7)\n",
            "Requirement already satisfied: urllib3<3,>=1.21.1 in /usr/local/lib/python3.10/dist-packages (from requests<3,>=2.21.0->tensorboard<2.16,>=2.15->tensorflow<2.16,>=2.15->tf-keras) (2.0.7)\n",
            "Requirement already satisfied: certifi>=2017.4.17 in /usr/local/lib/python3.10/dist-packages (from requests<3,>=2.21.0->tensorboard<2.16,>=2.15->tensorflow<2.16,>=2.15->tf-keras) (2024.2.2)\n",
            "Requirement already satisfied: MarkupSafe>=2.1.1 in /usr/local/lib/python3.10/dist-packages (from werkzeug>=1.0.1->tensorboard<2.16,>=2.15->tensorflow<2.16,>=2.15->tf-keras) (2.1.5)\n",
            "Requirement already satisfied: pyasn1<0.7.0,>=0.4.6 in /usr/local/lib/python3.10/dist-packages (from pyasn1-modules>=0.2.1->google-auth<3,>=1.6.3->tensorboard<2.16,>=2.15->tensorflow<2.16,>=2.15->tf-keras) (0.6.0)\n",
            "Requirement already satisfied: oauthlib>=3.0.0 in /usr/local/lib/python3.10/dist-packages (from requests-oauthlib>=0.7.0->google-auth-oauthlib<2,>=0.5->tensorboard<2.16,>=2.15->tensorflow<2.16,>=2.15->tf-keras) (3.2.2)\n"
          ]
        }
      ],
      "source": [
        "#Set up\n",
        "!sudo apt-get update\n",
        "!sudo apt-get install-y xvfb ffmpeg freeglut3-dev\n",
        "!pip install 'imageio==2.4.0'\n",
        "!pip install pyvirtualdisplay\n",
        "!pip install tf-agents[reverb]\n",
        "!pip install pyglet\n",
        "!pip install tf-keras"
      ]
    },
    {
      "cell_type": "code",
      "source": [
        "#Importing necessary packages\n",
        "import os\n",
        "#using keras-2 (tf-keras) rather than keras-3 (keras).\n",
        "os.environ['TF_USE_LEGACY_KERAS']='1'"
      ],
      "metadata": {
        "id": "nYpIoJQMj9t_"
      },
      "execution_count": 3,
      "outputs": []
    },
    {
      "cell_type": "code",
      "source": [
        "!pip install future"
      ],
      "metadata": {
        "colab": {
          "base_uri": "https://localhost:8080/"
        },
        "id": "N5-D56nBpBai",
        "outputId": "ab08caf2-b1c8-433f-e78a-252e8d72ca0a"
      },
      "execution_count": 7,
      "outputs": [
        {
          "output_type": "stream",
          "name": "stdout",
          "text": [
            "Requirement already satisfied: future in /usr/local/lib/python3.10/dist-packages (0.18.3)\n"
          ]
        }
      ]
    },
    {
      "cell_type": "code",
      "source": [
        "from __future__ import absolute_import, division, print_function\n",
        "import base64\n",
        "import imageio\n",
        "import IPython\n",
        "import matplotlib.pyplot as plt\n",
        "import numpy as np\n",
        "import PIL.Image\n",
        "import pyvirtualdisplay\n",
        "import reverb\n",
        "import tensorflow as tf\n",
        "from tf_agents.agents.dqn import dqn_agent\n",
        "from tf_agents.drivers import py_driver\n",
        "from tf_agents.environments import suite_gym\n",
        "from tf_agents.environments import tf_py_environment\n",
        "from tf_agents.eval import metric_utils\n",
        "from tf_agents.metrics import tf_metrics\n",
        "from tf_agents.networks import Sequential\n",
        "from tf_agents.policies import py_tf_eager_policy\n",
        "from tf_agents.policies import random_tf_policy\n",
        "from tf_agents.replay_buffers import reverb_replay_buffer\n",
        "from tf_agents.replay_buffers import reverb_utils\n",
        "from tf_agents.trajectories import trajectory\n",
        "from tf_agents.specs import tensor_spec\n",
        "from tf_agents.utils import common"
      ],
      "metadata": {
        "id": "aHFPJ_JAkvSk"
      },
      "execution_count": 64,
      "outputs": []
    },
    {
      "cell_type": "code",
      "source": [
        "!sudo apt-get install xvfb"
      ],
      "metadata": {
        "colab": {
          "base_uri": "https://localhost:8080/"
        },
        "id": "b_cryq7Vrrfa",
        "outputId": "78c6ef73-3d5c-4ebe-ae50-fc6a3a131cc7"
      },
      "execution_count": 65,
      "outputs": [
        {
          "output_type": "stream",
          "name": "stdout",
          "text": [
            "Reading package lists... Done\n",
            "Building dependency tree... Done\n",
            "Reading state information... Done\n",
            "xvfb is already the newest version (2:21.1.4-2ubuntu1.7~22.04.10).\n",
            "0 upgraded, 0 newly installed, 0 to remove and 47 not upgraded.\n"
          ]
        }
      ]
    },
    {
      "cell_type": "code",
      "source": [
        "#setting up a virtual display for rendering OpenAI gym environments\n",
        "display=pyvirtualdisplay.Display(visible=0,size=(1600,1100)).start()"
      ],
      "metadata": {
        "id": "3E6eyYnfqUJf"
      },
      "execution_count": 66,
      "outputs": []
    },
    {
      "cell_type": "code",
      "source": [
        "#to plot figures\n",
        "%matplotlib inline\n",
        "import matplotlib as mpl\n",
        "import matplotlib.pyplot as plt\n",
        "mpl.rc('axes',labelsize=14)\n",
        "mpl.rc('xtick',labelsize=12)\n",
        "mpl.rc('ytick',labelsize=12)"
      ],
      "metadata": {
        "id": "41y6Ra6V8RIR"
      },
      "execution_count": 67,
      "outputs": []
    },
    {
      "cell_type": "code",
      "source": [
        "# Setting Hyperparameters\n",
        "num_iterations = 20000\n",
        "initial_collect_steps=1000\n",
        "collect_steps_per_iteration =1\n",
        "replay_buffer_max_length = 100000\n",
        "batch_size=64\n",
        "learning_rate=1e-3\n",
        "log_interval=100\n",
        "num_eval_episodes=10\n",
        "eval_interval=1000"
      ],
      "metadata": {
        "id": "K5aga89n-ZLV"
      },
      "execution_count": 68,
      "outputs": []
    },
    {
      "cell_type": "code",
      "source": [
        "#Setting an environment for the TF-Agents using the tf_agents.environments\n",
        "#load the CartPole environment from the OpenAI Gym suite\n",
        "env_name='CartPole-v0'\n",
        "env=suite_gym.load(env_name)"
      ],
      "metadata": {
        "id": "Q2u6rvH2_zNc"
      },
      "execution_count": 69,
      "outputs": []
    },
    {
      "cell_type": "code",
      "source": [
        "#Rendering the environment to view how it looks\n",
        "env.reset()\n",
        "PIL.Image.fromarray(env.render())"
      ],
      "metadata": {
        "colab": {
          "base_uri": "https://localhost:8080/",
          "height": 417
        },
        "id": "5Hazi2iHAxkQ",
        "outputId": "66067d68-2424-44f8-b2e0-d7016f3694cb"
      },
      "execution_count": 70,
      "outputs": [
        {
          "output_type": "execute_result",
          "data": {
            "text/plain": [
              "<PIL.Image.Image image mode=RGB size=600x400>"
            ],
            "image/png": "[encoded data removed]"
          },
          "metadata": {},
          "execution_count": 70
        }
      ]
    },
    {
      "cell_type": "code",
      "source": [
        "#Using the environment.step and time_step_spec() to return specifications\n",
        "print('observation Spec')\n",
        "print(env.time_step_spec().observation)\n",
        "print('reward Spec')\n",
        "print(env.time_step_spec().reward)"
      ],
      "metadata": {
        "colab": {
          "base_uri": "https://localhost:8080/"
        },
        "id": "nB8WF4_9BNK0",
        "outputId": "5060d584-1b06-4aa8-a7d3-60d89fc653a7"
      },
      "execution_count": 71,
      "outputs": [
        {
          "output_type": "stream",
          "name": "stdout",
          "text": [
            "observation Spec\n",
            "BoundedArraySpec(shape=(4,), dtype=dtype('float32'), name='observation', minimum=[-4.8000002e+00 -3.4028235e+38 -4.1887903e-01 -3.4028235e+38], maximum=[4.8000002e+00 3.4028235e+38 4.1887903e-01 3.4028235e+38])\n",
            "reward Spec\n",
            "ArraySpec(shape=(), dtype=dtype('float32'), name='reward')\n"
          ]
        }
      ]
    },
    {
      "cell_type": "code",
      "source": [
        "#Using the 'action_spec()' which returns the shape, data types and allowed values of valid actions\n",
        "print('Action Spec:')\n",
        "print(env.action_spec())"
      ],
      "metadata": {
        "colab": {
          "base_uri": "https://localhost:8080/"
        },
        "id": "x5qyEShJCNV4",
        "outputId": "024b4fe9-e80a-4f70-83ef-e8e9b48196c2"
      },
      "execution_count": 72,
      "outputs": [
        {
          "output_type": "stream",
          "name": "stdout",
          "text": [
            "Action Spec:\n",
            "BoundedArraySpec(shape=(), dtype=dtype('int64'), name='action', minimum=0, maximum=1)\n"
          ]
        }
      ]
    },
    {
      "cell_type": "code",
      "source": [
        "time_step=env.reset()\n",
        "print('Timestep:')\n",
        "print(time_step)\n",
        "action=np.array(1,dtype=np.int32)\n",
        "next_time_step=env.step(action)\n",
        "print('Next Timestep:')\n",
        "print(next_time_step)"
      ],
      "metadata": {
        "colab": {
          "base_uri": "https://localhost:8080/"
        },
        "id": "tQNajQhFC6js",
        "outputId": "fce1e805-7dab-42ef-ecd3-d0a704cefeeb"
      },
      "execution_count": 73,
      "outputs": [
        {
          "output_type": "stream",
          "name": "stdout",
          "text": [
            "Timestep:\n",
            "TimeStep(\n",
            "{'step_type': array(0, dtype=int32),\n",
            " 'reward': array(0., dtype=float32),\n",
            " 'discount': array(1., dtype=float32),\n",
            " 'observation': array([-0.01067231,  0.01256626,  0.02329803, -0.03446341], dtype=float32)})\n",
            "Next Timestep:\n",
            "TimeStep(\n",
            "{'step_type': array(1, dtype=int32),\n",
            " 'reward': array(1., dtype=float32),\n",
            " 'discount': array(1., dtype=float32),\n",
            " 'observation': array([-0.01042099,  0.2073465 ,  0.02260876, -0.3197055 ], dtype=float32)})\n"
          ]
        }
      ]
    },
    {
      "cell_type": "code",
      "source": [
        "#Instantiate two environments  for training and model evaluation\n",
        "train_py_env=suite_gym.load(env_name)\n",
        "eval_py_env=suite_gym.load(env_name)"
      ],
      "metadata": {
        "id": "LC-u4JNgHzGr"
      },
      "execution_count": 74,
      "outputs": []
    },
    {
      "cell_type": "code",
      "source": [
        "#Converting the CartPole environment to tensorflow using the TFPyEnvironment wrapper\n",
        "train_env=tf_py_environment.TFPyEnvironment(train_py_env)\n",
        "eval_env=tf_py_environment.TFPyEnvironment(eval_py_env)"
      ],
      "metadata": {
        "id": "rDKt2ITFI03b"
      },
      "execution_count": 75,
      "outputs": []
    },
    {
      "cell_type": "code",
      "source": [
        "#Using the Agent\n",
        "#using the tf_agents.networks to create a QNetwork which contains of a sequence of tf.keras.layers.Dense layers\n",
        "from tensorflow.keras import Sequential\n",
        "from tensorflow.keras.layers import Dense\n",
        "from tf_agents.networks import sequential\n",
        "fc_layer_params = (100, 50)\n",
        "action_tensor_spec = tensor_spec.from_spec(env.action_spec())\n",
        "num_actions = action_tensor_spec.maximum - action_tensor_spec.minimum + 1\n",
        "# QNetwork consists of a sequence of Dense layers followed by a dense layer\n",
        "# with `num_actions` units to generate one q_value per available action as\n",
        "# its output.\n",
        "from tensorflow.keras.layers import Dense\n",
        "def dense_layer(num_units):\n",
        "  return tf.keras.layers.Dense(\n",
        "      num_units,\n",
        "      activation=tf.keras.activations.relu,\n",
        "      kernel_initializer=tf.keras.initializers.VarianceScaling(\n",
        "          scale=2.0,mode='fan_in',distribution='truncated_normal'))\n",
        "dense_layers = [dense_layer(num_units) for num_units in fc_layer_params]\n",
        "q_values_layer = tf.keras.layers.Dense(\n",
        "    num_actions,\n",
        "    activation=None,\n",
        "    kernel_initializer=tf.keras.initializers.RandomUniform(\n",
        "        minval=-0.03, maxval=0.03),\n",
        "    bias_initializer=tf.keras.initializers.Constant(-0.2))\n",
        "q_net = sequential.Sequential(dense_layers + [q_values_layer])\n",
        ""
      ],
      "metadata": {
        "id": "sF2TZM9iKn6r"
      },
      "execution_count": 85,
      "outputs": []
    },
    {
      "cell_type": "code",
      "source": [
        "#Using tf_agents.agents.dqn.dqn_agent to instantiate a DQnAgent\n",
        "optimizer=tf.keras.optimizers.Adam(learning_rate=learning_rate)\n",
        "train_step_counter=tf.Variable(0)\n",
        "agent=dqn_agent.DqnAgent(\n",
        "    train_env.time_step_spec(),\n",
        "    train_env.action_spec(),\n",
        "    q_network=q_net,\n",
        "    optimizer=optimizer,\n",
        "    td_errors_loss_fn=common.element_wise_squared_loss,\n",
        "    train_step_counter=train_step_counter)\n",
        "agent.initialize()"
      ],
      "metadata": {
        "id": "jw7kAqzMt3X6"
      },
      "execution_count": 86,
      "outputs": []
    },
    {
      "cell_type": "code",
      "source": [
        "#Defining policies which defines the way an agent beahves in an environment\n",
        "eval_policy=agent.policy\n",
        "collect_policy=agent.collect_policy"
      ],
      "metadata": {
        "id": "fB_sVUfD3A-r"
      },
      "execution_count": 87,
      "outputs": []
    },
    {
      "cell_type": "code",
      "source": [
        "#Creating policies independent of the agents using the tf_agents.policies.random_tf_policy\n",
        "random_policy=random_tf_policy.RandomTFPolicy(train_env.time_step_spec(),train_env.action_spec())"
      ],
      "metadata": {
        "id": "pHI79VV93db-"
      },
      "execution_count": 89,
      "outputs": []
    },
    {
      "cell_type": "code",
      "source": [
        "#Calling the 'policy.action(time_step)' inorder to get action from the policy\n",
        "# action - action to be taken (in this case0 or 1)\n",
        "#state-used for stateful(ie, RNN-based) policies\n",
        "#info-auxilliary data,such as log porbabilities of actions\n",
        "example_environment = tf_py_environment.TFPyEnvironment(suite_gym.load('CartPole-v0'))\n",
        "time_step=example_environment.reset()\n",
        "random_policy.action(time_step)"
      ],
      "metadata": {
        "colab": {
          "base_uri": "https://localhost:8080/"
        },
        "id": "zN4lwDs65ABN",
        "outputId": "bdb2969c-0413-4932-e815-32ca82883c4d"
      },
      "execution_count": 91,
      "outputs": [
        {
          "output_type": "execute_result",
          "data": {
            "text/plain": [
              "PolicyStep(action=<tf.Tensor: shape=(1,), dtype=int64, numpy=array([0])>, state=(), info=())"
            ]
          },
          "metadata": {},
          "execution_count": 91
        }
      ]
    },
    {
      "cell_type": "code",
      "source": [
        "#Metrics and Evaluation using the average return\n",
        "def compute_avg_return(environment,policy,num_episodes=10):\n",
        "  total_return=0.0\n",
        "  for _ in range(num_episodes):\n",
        "    time_step=environment.reset()\n",
        "    episode_return=0.0\n",
        "    while not time_step.is_last():\n",
        "      action_step=policy.action(time_step)\n",
        "      time_step=environment.step(action_step.action)\n",
        "      episode_return +=time_step.reward\n",
        "      total_return+=episode_return\n",
        "    avg_return=total_return/num_episodes\n",
        "    return avg_return.numpy()[0]\n",
        "    #running the computation on the 'random_policy' to show baseline performance in the environmment\n",
        "    compute_avg_return(eval_env,random_policy,num_eval_episodes)\n",
        "\n"
      ],
      "metadata": {
        "id": "H4O2dit28slc"
      },
      "execution_count": 92,
      "outputs": []
    },
    {
      "cell_type": "code",
      "source": [
        "#Using the 'reverb', an efficient,extensible, and easy-to-use replay system in order to keep track of the data collected from the environment\n",
        "#the replay buffer is constructed using the specs describing the tensors that are to be stoired which can be obtained from the 'agent.collect_data_spec.'\n",
        "table_name='uniform_table'\n",
        "replay_buffer_signature=tensor_spec.from_spec(\n",
        "    agent.collect_data_spec)\n",
        "replay_buffer_signature=tensor_spec.add_outer_dim(\n",
        "    replay_buffer_signature)\n",
        "table=reverb.Table(\n",
        "    table_name,\n",
        "    max_size=replay_buffer_max_length,\n",
        "    sampler=reverb.selectors.Uniform(),\n",
        "    remover=reverb.selectors.Fifo(),\n",
        "    rate_limiter=reverb.rate_limiters.MinSize(1),\n",
        "    signature=replay_buffer_signature)\n",
        "reverb_server=reverb.Server([table])\n",
        "replay_buffer=reverb_replay_buffer.ReverbReplayBuffer(\n",
        "    agent.collect_data_spec,\n",
        "    table_name=table_name,\n",
        "    sequence_length=2,\n",
        "    local_server=reverb_server)\n",
        "rb_observer=reverb_utils.ReverbAddTrajectoryObserver(\n",
        "    replay_buffer.py_client,\n",
        "    table_name,\n",
        "    sequence_length=2)\n",
        "agent.collect_data_spec\n",
        "agent.collect_data_spec._fields\n"
      ],
      "metadata": {
        "colab": {
          "base_uri": "https://localhost:8080/"
        },
        "id": "Cek9pFEy_0qt",
        "outputId": "b31c2b7d-3771-40fd-95c7-f6ad6cb0de1f"
      },
      "execution_count": 97,
      "outputs": [
        {
          "output_type": "execute_result",
          "data": {
            "text/plain": [
              "('step_type',\n",
              " 'observation',\n",
              " 'action',\n",
              " 'policy_info',\n",
              " 'next_step_type',\n",
              " 'reward',\n",
              " 'discount')"
            ]
          },
          "metadata": {},
          "execution_count": 97
        }
      ]
    },
    {
      "cell_type": "code",
      "source": [
        "#DAta Collection\n",
        "#Executing the random policy in the environment for steps, recording the data in the replay buffer using the 'PyDriver' to run the experience collecting loop\n",
        "py_driver.PyDriver(\n",
        "    env,\n",
        "    py_tf_eager_policy.PyTFEagerPolicy(\n",
        "        random_policy, use_tf_function=True),\n",
        "    [rb_observer],\n",
        "    max_steps=initial_collect_steps).run(train_py_env.reset())"
      ],
      "metadata": {
        "colab": {
          "base_uri": "https://localhost:8080/"
        },
        "id": "r6RcrIJhGt9d",
        "outputId": "b6ebb389-c11b-4cd2-c436-f95e0d3f66a3"
      },
      "execution_count": 98,
      "outputs": [
        {
          "output_type": "execute_result",
          "data": {
            "text/plain": [
              "(TimeStep(\n",
              " {'step_type': array(1, dtype=int32),\n",
              "  'reward': array(1., dtype=float32),\n",
              "  'discount': array(1., dtype=float32),\n",
              "  'observation': array([-0.01325836,  0.7713843 , -0.03638182, -1.2010822 ], dtype=float32)}),\n",
              " ())"
            ]
          },
          "metadata": {},
          "execution_count": 98
        }
      ]
    },
    {
      "cell_type": "code",
      "source": [
        "#Enabling the agent access the replay buffer which will be provided by creating an iterable 'tf.data.Dataset' to feed the agent\n",
        "#Dataset generates trajectories with shape[Bx2x...]\n",
        "dataset=replay_buffer.as_dataset(\n",
        "    num_parallel_calls=3,\n",
        "    sample_batch_size=batch_size,\n",
        "    num_steps=2).prefetch(3)\n",
        "dataset"
      ],
      "metadata": {
        "colab": {
          "base_uri": "https://localhost:8080/"
        },
        "id": "YXeyOTC2I2kT",
        "outputId": "a39263b0-d608-42b2-ecdc-d2f5dd801bf8"
      },
      "execution_count": 99,
      "outputs": [
        {
          "output_type": "execute_result",
          "data": {
            "text/plain": [
              "<_PrefetchDataset element_spec=(Trajectory(\n",
              "{'step_type': TensorSpec(shape=(64, 2), dtype=tf.int32, name=None),\n",
              " 'observation': TensorSpec(shape=(64, 2, 4), dtype=tf.float32, name=None),\n",
              " 'action': TensorSpec(shape=(64, 2), dtype=tf.int64, name=None),\n",
              " 'policy_info': (),\n",
              " 'next_step_type': TensorSpec(shape=(64, 2), dtype=tf.int32, name=None),\n",
              " 'reward': TensorSpec(shape=(64, 2), dtype=tf.float32, name=None),\n",
              " 'discount': TensorSpec(shape=(64, 2), dtype=tf.float32, name=None)}), SampleInfo(key=TensorSpec(shape=(64, 2), dtype=tf.uint64, name=None), probability=TensorSpec(shape=(64, 2), dtype=tf.float64, name=None), table_size=TensorSpec(shape=(64, 2), dtype=tf.int64, name=None), priority=TensorSpec(shape=(64, 2), dtype=tf.float64, name=None), times_sampled=TensorSpec(shape=(64, 2), dtype=tf.int32, name=None)))>"
            ]
          },
          "metadata": {},
          "execution_count": 99
        }
      ]
    },
    {
      "cell_type": "code",
      "source": [
        "iterator=iter(dataset)\n",
        "print(iterator)"
      ],
      "metadata": {
        "colab": {
          "base_uri": "https://localhost:8080/"
        },
        "id": "mJxYM64yJ7Vv",
        "outputId": "b3b4c5a4-1327-4b0a-d359-6c20c6f85cc6"
      },
      "execution_count": 100,
      "outputs": [
        {
          "output_type": "stream",
          "name": "stdout",
          "text": [
            "<tensorflow.python.data.ops.iterator_ops.OwnedIterator object at 0x7e42aca39090>\n"
          ]
        }
      ]
    },
    {
      "cell_type": "code",
      "source": [
        "#Training the agent\n",
        "try:\n",
        "  %%time\n",
        "except:\n",
        "  pass\n",
        "#Optimize by wrapping some of the code in a graph using TF function\n",
        "agent.train=common.function(agent.train)\n",
        "#Reset the train step\n",
        "agent.train_step_counter.assign(0)\n",
        "#Evaluate agent's policy before training\n",
        "avg_return=compute_avg_return(eval_env,agent.policy,num_eval_episodes)\n",
        "returns=[avg_return]\n",
        "#Reset the environment\n",
        "time_step=train_py_env.reset()\n",
        "#Create a driver to collect the experience\n",
        "collect_driver=py_driver.PyDriver(\n",
        "    env,\n",
        "    py_tf_eager_policy.PyTFEagerPolicy(\n",
        "        agent.collect_policy, use_tf_function=True),\n",
        "    [rb_observer],\n",
        "    max_steps=collect_steps_per_iteration)\n",
        "for _ in range(num_iterations):\n",
        "  #Collect few steps and save to the replay buffer\n",
        "  time_step,_=collect_driver.run(time_step)\n",
        "  #Sample a batch of the data from buffer and update the agent's network\n",
        "  experience, unused_info=next(iterator)\n",
        "  train_loss=agent.train(experience).loss\n",
        "  step=agent.train_step_counter.numpy()\n",
        "  if step% log_interval==0:\n",
        "    print('step={0}:loss={1}'.format(step,train_loss))\n",
        "  if step% eval_interval==0:\n",
        "    avg_return=compute_avg_return(eval_env,agent.policy,num_eval_episodes)\n",
        "    print('step={0}:Average Return={1}'.format(step,avg_return))\n",
        "    returns.append(avg_return)"
      ],
      "metadata": {
        "colab": {
          "base_uri": "https://localhost:8080/"
        },
        "id": "LbrvzNGwKXX8",
        "outputId": "e0c28228-d1a3-4607-db95-dd4b1c73df23"
      },
      "execution_count": 101,
      "outputs": [
        {
          "output_type": "stream",
          "name": "stderr",
          "text": [
            "WARNING:tensorflow:From /usr/local/lib/python3.10/dist-packages/tensorflow/python/util/dispatch.py:1260: calling foldr_v2 (from tensorflow.python.ops.functional_ops) with back_prop=False is deprecated and will be removed in a future version.\n",
            "Instructions for updating:\n",
            "back_prop=False is deprecated. Consider using tf.stop_gradient instead.\n",
            "Instead of:\n",
            "results = tf.foldr(fn, elems, back_prop=False)\n",
            "Use:\n",
            "results = tf.nest.map_structure(tf.stop_gradient, tf.foldr(fn, elems))\n"
          ]
        },
        {
          "output_type": "stream",
          "name": "stdout",
          "text": [
            "step=100:loss=49.087982177734375\n",
            "step=200:loss=56.024898529052734\n",
            "step=300:loss=42.737030029296875\n",
            "step=400:loss=33.219825744628906\n",
            "step=500:loss=10.28372573852539\n",
            "step=600:loss=38.52490234375\n",
            "step=700:loss=36.00163650512695\n",
            "step=800:loss=36.970542907714844\n",
            "step=900:loss=99.053466796875\n",
            "step=1000:loss=92.7410888671875\n",
            "step=1000:Average Return=556.5\n",
            "step=1100:loss=329.28009033203125\n",
            "step=1200:loss=330.28045654296875\n",
            "step=1300:loss=156.83935546875\n",
            "step=1400:loss=270.86395263671875\n",
            "step=1500:loss=1553.5098876953125\n",
            "step=1600:loss=513.1344604492188\n",
            "step=1700:loss=615.3523559570312\n",
            "step=1800:loss=538.640869140625\n",
            "step=1900:loss=915.9217529296875\n",
            "step=2000:loss=189.30657958984375\n",
            "step=2000:Average Return=891.0999755859375\n",
            "step=2100:loss=164.49334716796875\n",
            "step=2200:loss=1268.6756591796875\n",
            "step=2300:loss=238.39736938476562\n",
            "step=2400:loss=949.366943359375\n",
            "step=2500:loss=906.7010498046875\n",
            "step=2600:loss=1939.8099365234375\n",
            "step=2700:loss=1586.6396484375\n",
            "step=2800:loss=435.82415771484375\n",
            "step=2900:loss=2525.856201171875\n",
            "step=3000:loss=502.1539001464844\n",
            "step=3000:Average Return=2010.0\n",
            "step=3100:loss=400.091064453125\n",
            "step=3200:loss=377.3590393066406\n",
            "step=3300:loss=267.5587463378906\n",
            "step=3400:loss=196.41104125976562\n",
            "step=3500:loss=204.57696533203125\n",
            "step=3600:loss=11692.642578125\n",
            "step=3700:loss=452.87408447265625\n",
            "step=3800:loss=352.690185546875\n",
            "step=3900:loss=350.3876037597656\n",
            "step=4000:loss=214.7299041748047\n",
            "step=4000:Average Return=2010.0\n",
            "step=4100:loss=289.6834716796875\n",
            "step=4200:loss=1587.490234375\n",
            "step=4300:loss=3275.7568359375\n",
            "step=4400:loss=461.3706970214844\n",
            "step=4500:loss=368.04425048828125\n",
            "step=4600:loss=408.52484130859375\n",
            "step=4700:loss=446.81109619140625\n",
            "step=4800:loss=293.2740173339844\n",
            "step=4900:loss=332.2148132324219\n",
            "step=5000:loss=804.6007690429688\n",
            "step=5000:Average Return=2010.0\n",
            "step=5100:loss=437.2634582519531\n",
            "step=5200:loss=391.88616943359375\n",
            "step=5300:loss=1554.34326171875\n",
            "step=5400:loss=710.2608032226562\n",
            "step=5500:loss=301.06591796875\n",
            "step=5600:loss=434.67669677734375\n",
            "step=5700:loss=432.2256164550781\n",
            "step=5800:loss=854.085693359375\n",
            "step=5900:loss=742.326904296875\n",
            "step=6000:loss=573.7648315429688\n",
            "step=6000:Average Return=1795.5\n",
            "step=6100:loss=479.9677429199219\n",
            "step=6200:loss=869.2899169921875\n",
            "step=6300:loss=616.5894775390625\n",
            "step=6400:loss=660.546142578125\n",
            "step=6500:loss=895.85546875\n",
            "step=6600:loss=385.4921875\n",
            "step=6700:loss=593.7843627929688\n",
            "step=6800:loss=1009.027099609375\n",
            "step=6900:loss=603.3345947265625\n",
            "step=7000:loss=242.61859130859375\n",
            "step=7000:Average Return=1833.5999755859375\n",
            "step=7100:loss=396.85198974609375\n",
            "step=7200:loss=950.7455444335938\n",
            "step=7300:loss=391.13189697265625\n",
            "step=7400:loss=506.034912109375\n",
            "step=7500:loss=515.3193359375\n",
            "step=7600:loss=1223.54931640625\n",
            "step=7700:loss=2352.94140625\n",
            "step=7800:loss=362.67694091796875\n",
            "step=7900:loss=665.531982421875\n",
            "step=8000:loss=892.7132568359375\n",
            "step=8000:Average Return=2010.0\n",
            "step=8100:loss=806.1906127929688\n",
            "step=8200:loss=337.24560546875\n",
            "step=8300:loss=555.5424194335938\n",
            "step=8400:loss=380.946044921875\n",
            "step=8500:loss=439.759765625\n",
            "step=8600:loss=552.48828125\n",
            "step=8700:loss=466.396484375\n",
            "step=8800:loss=366.8153076171875\n",
            "step=8900:loss=497.9937438964844\n",
            "step=9000:loss=322.4369201660156\n",
            "step=9000:Average Return=2010.0\n",
            "step=9100:loss=540.4152221679688\n",
            "step=9200:loss=39625.26171875\n",
            "step=9300:loss=343.48004150390625\n",
            "step=9400:loss=320.2982482910156\n",
            "step=9500:loss=699.2334594726562\n",
            "step=9600:loss=10367.384765625\n",
            "step=9700:loss=864.912841796875\n",
            "step=9800:loss=821.5658569335938\n",
            "step=9900:loss=1181.6767578125\n",
            "step=10000:loss=3863.253662109375\n",
            "step=10000:Average Return=2010.0\n",
            "step=10100:loss=405.9229431152344\n",
            "step=10200:loss=305.1367492675781\n",
            "step=10300:loss=1003.9609375\n",
            "step=10400:loss=836.69580078125\n",
            "step=10500:loss=441.58026123046875\n",
            "step=10600:loss=873.8321533203125\n",
            "step=10700:loss=962.55908203125\n",
            "step=10800:loss=1294.489013671875\n",
            "step=10900:loss=602.5572509765625\n",
            "step=11000:loss=433.9584655761719\n",
            "step=11000:Average Return=2010.0\n",
            "step=11100:loss=513.268310546875\n",
            "step=11200:loss=1080.280029296875\n",
            "step=11300:loss=782.8800659179688\n",
            "step=11400:loss=511.43365478515625\n",
            "step=11500:loss=985.7801513671875\n",
            "step=11600:loss=17230.330078125\n",
            "step=11700:loss=585.335205078125\n",
            "step=11800:loss=71438.7734375\n",
            "step=11900:loss=1299.546142578125\n",
            "step=12000:loss=725.748046875\n",
            "step=12000:Average Return=2010.0\n",
            "step=12100:loss=1099.7501220703125\n",
            "step=12200:loss=828.6752319335938\n",
            "step=12300:loss=538.9866333007812\n",
            "step=12400:loss=14315.9296875\n",
            "step=12500:loss=1556.65087890625\n",
            "step=12600:loss=759.2028198242188\n",
            "step=12700:loss=1011.6618041992188\n",
            "step=12800:loss=598.82373046875\n",
            "step=12900:loss=83463.9375\n",
            "step=13000:loss=526.1723022460938\n",
            "step=13000:Average Return=2010.0\n",
            "step=13100:loss=874.2062377929688\n",
            "step=13200:loss=591.7364501953125\n",
            "step=13300:loss=1093.4296875\n",
            "step=13400:loss=606.712646484375\n",
            "step=13500:loss=115999.5\n",
            "step=13600:loss=1008.3010864257812\n",
            "step=13700:loss=672.991455078125\n",
            "step=13800:loss=1126.87939453125\n",
            "step=13900:loss=1512.8070068359375\n",
            "step=14000:loss=136567.578125\n",
            "step=14000:Average Return=2010.0\n",
            "step=14100:loss=954.1043701171875\n",
            "step=14200:loss=3258.845703125\n",
            "step=14300:loss=193809.703125\n",
            "step=14400:loss=1128.752685546875\n",
            "step=14500:loss=1480.072265625\n",
            "step=14600:loss=104375.453125\n",
            "step=14700:loss=1818.82470703125\n",
            "step=14800:loss=342476.34375\n",
            "step=14900:loss=371227.25\n",
            "step=15000:loss=12419.8251953125\n",
            "step=15000:Average Return=2010.0\n",
            "step=15100:loss=8946.8544921875\n",
            "step=15200:loss=1200413.5\n",
            "step=15300:loss=23787.42578125\n",
            "step=15400:loss=894859.9375\n",
            "step=15500:loss=19366.37890625\n",
            "step=15600:loss=29464.88671875\n",
            "step=15700:loss=76707.640625\n",
            "step=15800:loss=25779.12890625\n",
            "step=15900:loss=29236.013671875\n",
            "step=16000:loss=56296.1015625\n",
            "step=16000:Average Return=2010.0\n",
            "step=16100:loss=18947.78515625\n",
            "step=16200:loss=25259.51953125\n",
            "step=16300:loss=40743.453125\n",
            "step=16400:loss=44380.234375\n",
            "step=16500:loss=33073.80859375\n",
            "step=16600:loss=28350.26953125\n",
            "step=16700:loss=18030.6484375\n",
            "step=16800:loss=42931.0859375\n",
            "step=16900:loss=123211.8125\n",
            "step=17000:loss=5875095.0\n",
            "step=17000:Average Return=2010.0\n",
            "step=17100:loss=30775.79296875\n",
            "step=17200:loss=40149.12109375\n",
            "step=17300:loss=4397784.0\n",
            "step=17400:loss=32419.3046875\n",
            "step=17500:loss=19925.76171875\n",
            "step=17600:loss=47928.2578125\n",
            "step=17700:loss=50223.359375\n",
            "step=17800:loss=390907.28125\n",
            "step=17900:loss=34236.7734375\n",
            "step=18000:loss=4260915.0\n",
            "step=18000:Average Return=2010.0\n",
            "step=18100:loss=48773.97265625\n",
            "step=18200:loss=265438.3125\n",
            "step=18300:loss=28320.376953125\n",
            "step=18400:loss=4583678.0\n",
            "step=18500:loss=2205048.75\n",
            "step=18600:loss=42568.3046875\n",
            "step=18700:loss=39138.2578125\n",
            "step=18800:loss=3254708.75\n",
            "step=18900:loss=43238.03515625\n",
            "step=19000:loss=38155.5\n",
            "step=19000:Average Return=2010.0\n",
            "step=19100:loss=37578.265625\n",
            "step=19200:loss=26768.99609375\n",
            "step=19300:loss=1240807.25\n",
            "step=19400:loss=19752.408203125\n",
            "step=19500:loss=23371.791015625\n",
            "step=19600:loss=1894859.375\n",
            "step=19700:loss=21322.5390625\n",
            "step=19800:loss=47317.4921875\n",
            "step=19900:loss=41703.2890625\n",
            "step=20000:loss=1444392.0\n",
            "step=20000:Average Return=2010.0\n"
          ]
        }
      ]
    },
    {
      "cell_type": "code",
      "source": [
        "#Visualizations\n",
        "iterations=range(0,num_iterations+1,eval_interval)\n",
        "plt.plot(iterations,returns)\n",
        "plt.ylabel('Average Return')\n",
        "plt.xlabel('Iterations')\n",
        "plt.ylim(top=550,bottom=-50)"
      ],
      "metadata": {
        "colab": {
          "base_uri": "https://localhost:8080/",
          "height": 475
        },
        "id": "nUAfL5SiSU6k",
        "outputId": "cb55cfc2-d56e-438c-f3f1-10a0a73c7341"
      },
      "execution_count": 103,
      "outputs": [
        {
          "output_type": "execute_result",
          "data": {
            "text/plain": [
              "(-50.0, 550.0)"
            ]
          },
          "metadata": {},
          "execution_count": 103
        },
        {
          "output_type": "display_data",
          "data": {
            "text/plain": [
              "<Figure size 640x480 with 1 Axes>"
            ],
            "image/png": "[encoded data removed]"
          },
          "metadata": {}
        }
      ]
    },
    {
      "cell_type": "code",
      "source": [
        "#Videos, creating a function to embed videos in the notebook\n",
        "def embed_mp4(filename):\n",
        "  \"\"\"Embeds an mp4 file in the notebook.\"\"\"\n",
        "  video = open(filename,'rb').read()\n",
        "  b64 = base64.b64encode(video)\n",
        "  tag = '''\n",
        "  <video width=\"640\" height=\"480\" controls>\n",
        "    <source src=\"data:video/mp4;base64,{0}\" type=\"video/mp4\">\n",
        "  Your browser does not support the video tag.\n",
        "  </video>'''.format(b64.decode())\n",
        "\n",
        "  return IPython.display.HTML(tag)"
      ],
      "metadata": {
        "id": "uER95KRLVBq2"
      },
      "execution_count": 104,
      "outputs": []
    },
    {
      "cell_type": "code",
      "source": [
        "#iterating through a few episodes of the Cartpole game with the agent\n",
        "def create_policy_eval_video(policy, filename, num_episodes=5, fps=30):\n",
        "  filename = filename + \".mp4\"\n",
        "  with imageio.get_writer(filename, fps=fps) as video:\n",
        "    for _ in range(num_episodes):\n",
        "      time_step = eval_env.reset()\n",
        "      video.append_data(eval_py_env.render())\n",
        "      while not time_step.is_last():\n",
        "        action_step = policy.action(time_step)\n",
        "        time_step = eval_env.step(action_step.action)\n",
        "        video.append_data(eval_py_env.render())\n",
        "  return embed_mp4(filename)\n",
        "\n",
        "create_policy_eval_video(agent.policy, \"trained-agent\")"
      ],
      "metadata": {
        "colab": {
          "base_uri": "https://localhost:8080/",
          "height": 539
        },
        "id": "-vjHdIJiVare",
        "outputId": "172f9185-ab44-406b-e07c-5e5932e5c3af"
      },
      "execution_count": 110,
      "outputs": [
        {
          "output_type": "stream",
          "name": "stderr",
          "text": [
            "WARNING:root:IMAGEIO FFMPEG_WRITER WARNING: input image is not divisible by macro_block_size=16, resizing from (400, 600) to (400, 608) to ensure video compatibility with most codecs and players. To prevent resizing, make your input image divisible by the macro_block_size or set the macro_block_size to None (risking incompatibility). You may also see a FFMPEG warning concerning speedloss due to data not being aligned.\n"
          ]
        },
        {
          "output_type": "execute_result",
          "data": {
            "text/plain": [
              "<IPython.core.display.HTML object>"
            ],
            "text/html": [
              "\n",
              "  <video width=\"640\" height=\"480\" controls>\n",
              "    <source src=\"data:video/mp4;base64,AAAAIGZ0eXBpc29tAAACAGlzb21pc28yYXZjMW1wNDEAAAAIZnJlZQAA/MttZGF0AAACrgYF//+q3EXpvebZSLeWLNgg2SPu73gyNjQgLSBjb3JlIDE2MyByMzA2MCA1ZGI2YWE2IC0gSC4yNjQvTVBFRy00IEFWQyBjb2RlYyAtIENvcHlsZWZ0IDIwMDMtMjAyMSAtIGh0dHA6Ly93d3cudmlkZW9sYW4ub3JnL3gyNjQuaHRtbCAtIG9wdGlvbnM6IGNhYmFjPTEgcmVmPTMgZGVibG9jaz0xOjA6MCBhbmFseXNlPTB4MzoweDExMyBtZT1oZXggc3VibWU9NyBwc3k9MSBwc3lfcmQ9MS4wMDowLjAwIG1peGVkX3JlZj0xIG1lX3JhbmdlPTE2IGNocm9tYV9tZT0xIHRyZWxsaXM9MSA4eDhkY3Q9MSBjcW09MCBkZWFkem9uZT0yMSwxMSBmYXN0X3Bza2lwPTEgY2hyb21hX3FwX29mZnNldD0tMiB0aHJlYWRzPTMgbG9va2FoZWFkX3RocmVhZHM9MSBzbGljZWRfdGhyZWFkcz0wIG5yPTAgZGVjaW1hdGU9MSBpbnRlcmxhY2VkPTAgYmx1cmF5X2NvbXBhdD0wIGNvbnN0cmFpbmVkX2ludHJhPTAgYmZyYW1lcz0zIGJfcHlyYW1pZD0yIGJfYWRhcHQ9MSBiX2JpYXM9MCBkaXJlY3Q9MSB3ZWlnaHRiPTEgb3Blbl9nb3A9MCB3ZWlnaHRwPTIga2V5aW50PTI1MCBrZXlpbnRfbWluPTI1IHNjZW5lY3V0PTQwIGludHJhX3JlZnJlc2g9MCByY19sb29rYWhlYWQ9NDAgcmM9Y3JmIG1idHJlZT0xIGNyZj0yNS4wIHFjb21wPTAuNjAgcXBtaW49MCBxcG1heD02OSBxcHN0ZXA9NCBpcF9yYXRpbz0xLjQwIGFxPTE6MS4wMACAAAACO2WIhAA3//72rvzLK0cLlS4dWXuzUfLoSXL9iDB9aAAAAwAAAwAAJuKiZ0WFMeJsgAAALmAIWElDyDzETFWKgSuMJwyluOVb+XyxSZQkq9x53zjyJEwTwzQJUCdT0/HV0THBjhjZsmiCyFoK+BFqu9t9fxgedHPlJnzIj4wQ0DIe9gTp6s0wTvoixM0MLpZH/EM8B3O2tXxMCtUD6Cg1//Nlf7IToKhSckIVAhq42+bJtP4s4D1fhreJds0w9euRyfEuQg0UsyeQL5rJKyS6YWAC4PiefFM2s6F0AYn+V8U7s10obYPcOH0aUEeLDUAVTDWN7FGm58kdo0QuZFXQg2XJB9fJlCuujJMm9EA1KO09T7/6a/03WJ8vtjiSOfwCDVR/Cb/pA/sRqSFD42QwG+1AZglOSXLQM9nGBYEEEh7L/iLEyAtuhI4m4s+C/XtE7lxw5r1FD/TNBOefmfJvcoSfMhbgDLM4HXmwmhrRAKPcx5JDkpLo3roIGin5SbB8A4UKeS4/rUyINF7TZJOCjW2BT8K31cJPLuou7URNzs8ozW0bCck03qeISN5sq2epj9C/CtQpR12Bc2oQIH9JZWfHXLKlIavpwcGSezNqByEFDn5Z3mV6Ks2SQ0dWN40IcDI3asoDPLUONKzWuACtjCEuzYpm7qhFsjkBiba5VzqcUyZ6Fd3DYZsuFWZIbEOA3NF+HISdEaQO8NLYQRSSgpsdHwwAAAMDpAAAxP4AAAMAAAMAAAMAAAMAyoEAAABnQZokbEN//oywAAAajfEFSQZ0A/aDzsd32EHPv15ALDlzfNRFDn3nxwIstlGpsX8nLnOQz375og+6T8dFCJUxmELaZxWyOygp7FkC/A8XgbZUNiqSXqpEZkrSv55c3Yjk35g13GJb/AAAACtBnkJ4hX8AAAhwJdgj8P3+SZF3ABVLSgdI7U88TGI458V1dr/Q/hLM/lmzAAAAEwGeYXRCfwAAAwBFWHmSzkkWN6AAAAA+AZ5jakJ/AAAjS0XB/zmpQUsSOtTGyaE4W48OlYFclJknQjGNGDZxiyvApJMqj0vRQATsbOAHuUigx9FQ02cAAABgQZpoSahBaJlMCG///oywAABGfiqe/44oIToErAVFuZCoJNm4/S6XUp6rICMrzzgamey/Lh3SZUj2A3x66v1V3uXwDUKhvPVuDGz151OLcLU2niuiTKAHuaVsi1eA6ZA9AAAAQEGehkURLCv/AAAWtSs3coFXLtO/HZM2ih76hg0O3Q4kT89A1iczV5dRqsAAuBy3wqn5zcRXMQhczgb8bl4U2YEAAAAgAZ6ldEJ/AAAjq/hbeBKdaCOIEdHWhxbcKqM5VgkJ/bUAAAAaAZ6nakJ/AAANNJ+XzUGcVlDkEsEpAKK0wcAAAABIQZqsSahBbJlMCG///oywAABEFF1Ya+TXH9/wZQJ+DfMyQzhOL3vT0moPDRwlDct1iKbjHGK70xsdZXnkL8c9F5Dla6pzJruVAAAALUGeykUVLCv/AAAWLE5swunKqbQFZbW/kKIj0+LiyejwAlCdI5zaUyXYY+5LbwAAABYBnul0Qn8AAAMACj+0PYN6CuMBseICAAAAJgGe62pCfwAAIrIsX7VqnUkbmQ5/DIh8HkD75Mz3ZdilmmhbnHHAAAAAO0Ga8EmoQWyZTAhv//6MsAAARAL3+jWca6xbpbQmWVKJbDxxKIjky0gCokU9fwYlxfkxiw4TN3qGQhvjAAAAOEGfDkUVLCv/AAAWJVis7QhUsbanet/KOKrAXMVwx/gCq9NAG/P1Wyjrq2nAshGVy/+CDfxjzHBZAAAAIAGfLXRCfwAAIsM+DnjZAIXtAm0RaUqgCITtg6m5lDKBAAAAGwGfL2pCfwAADTSdq2NZZ1hfTu6Rp0gRXwfRQQAAAJxBmzRJqEFsmUwIb//+jLAAAEQCBXm7Suwxu/exkZ7ShB74JhwWXV6Vn4Gtd7MZDXLa9jFrU+RSGWwHjdjc6J8yuexXzQrQVRgm+A5xSKXpZK0NpOPgEJXcKAknUOyoGSBKD93933rUtTJ7k7AaG4ZK5+OMRdHmH3O9emontfBFKn2uPd9ZhmD1nyGaxnaJ6ZQLE+SpWecdLxsO5PAAAAAnQZ9SRRUsK/8AABYjLAOePe0bN8V9hXnfVJhOQxxEaT2x0c92KBz5AAAAIQGfcXRCfwAAIqw5Ba5PHz9MsOBBDlNiuFE342VqI1nPgAAAACQBn3NqQn8AACKxzA1eN7wu7UCeAPAWdUAyhfXY8eMZiG/16mAAAABOQZt4SahBbJlMCG///oywAABEAgV5PQJOqwbz3N+zAYQuiDakABxp5KWJXgkwHWfLpkyeu1gYSjeCBzBL4EvHttLkKjm2weZ0QbQAjTLZAAAAS0GflkUVLCv/AAAWIyu1Bix0wbZ5v6A56BlL+sBTbJfP4VjvBVjFUg9bH4idgs3Zwx2uvD/N/rN0Lpto2XZSzoXUrqgXuBjw7vgpywAAACMBn7V0Qn8AACKr+Ft4EqgE7RTXEed3WvjjaC5vuw3Wt31hOQAAAC0Bn7dqQn8AACKxzA93Dpm7RmuFZM8gk7TBT3yocrgs/qDTKuAIgBA3y1S2k4sAAACiQZu8SahBbJlMCG///oywAABEAgV5PQ/WzYwAG7okKAdYjUvnBRTOdSxzVnNAd0vwJFbQqTg+G2y7BhhNQ13Tf7DHjpFZxrHBI3XCaKEoAqhPKn8niWDDOweHez6DWYxlockLoHFWxkkMzxF3mfrRkvRiliewkvZMW3MJOMgxgwP3LESXNJ5n8y7GFOAZnMLQbXWENNrqMn/6cL5Yw+kFR8owAAAAOEGf2kUVLCv/AAAWIyu1BgDWRTrfQ1icVHigM+qJUPFGq1Gaxuop4HyE8Cfvi5UeERPwb4EU1fehAAAAKgGf+XRCfwAAIsMXZaeWLbdzWxywtsppxY3ZFLyJLw+R/5uWuscNPzpiwAAAACYBn/tqQn8AACK/BCWO2Mna6LjfM+EI3s3ByBU6wFFc5gPWGpQifQAAAD9Bm/5JqEFsmUwUTDf//oywAABEAvbyegSeVv/bgBOmuFhgYnnb2USBTFzkBeW7ICE2FPoQiSX9a9dHEWwCVeEAAAAsAZ4dakJ/AAAivwQf/f0x7YR47RRDUK4cyleAFqBxNA3iQdec5UZ10o/3PvQAAACMQZoCSeEKUmUwIb/+jLAAAEQAutjd4wDV3w9HpawRhvl2c4AtoPAG62jgdg4vv23QeX3tVu7i6Xax01g92POu6EEnsKkajezS//jzvEcb45zyrFNAU/jk6YkTVOzDiEMNrWWC9F1zphuAa2MyVt2WEsYc87hluPkZtXL1s9d/JfIAQYNxpgP3VKD5/OAAAAAoQZ4gRTRMK/8AABYjK7UFuYXAAMZPe9lVrlZ3m4s1Kq714vJUlH1HTQAAACgBnl90Qn8AACKr+F7YIkab/kwb90kE8E1yol9jKJyzux/KC89iOk+AAAAAHAGeQWpCfwAAIrHMCW+pb7IVSPv8BijIbp4hu9EAAABVQZpGSahBaJlMCG///oywAABEAPb6cyopdd68CdG86piz2hm2dPgfCMoaekfZe1ZWnlef0JJuV9At7hHt77tecb6NagpPf5/wpHmIRQVL5XzkkSAO4AAAAC1BnmRFESwr/wAAFiMrtQW5HDEkAAXWjAaP6WQBJ5dMfkxHCbV/gWb3xxgQAo0AAAAmAZ6DdEJ/AAAiwLjfwCke6B3O5mNlOZbXhoZdLHMFXt/h9yeeiFkAAAAvAZ6FakJ/AAAivwQnEs8GBjuOFRGjD33/UbPKtAAnSuMV7XJT/9LkbPSotlCQYZkAAABvQZqKSahBbJlMCG///oywAABEem8/3GeQB6+nHHtVMwpjTe4ojRGgPQp+rGWChQ+oGQ3p/Pxy31WOAkBLjL0c0vEzRYN8D9buiinizOcV7XgwH/iczUgbDOuS44oyKC7ULdoX9n2AkUMMo1bjRdAdAAAALEGeqEUVLCv/AAAWJSbjmZV7y/NuG6NLwgcSXX7hJbt/23kmuMMqPZPKSXUgAAAAKgGex3RCfwAAIqUzftsgsvY2/Haw39ODpD8qVU4CDdk6M46b79mQfybF/wAAACsBnslqQn8AACG/Gs6EsRIHHlbF13vySk/w8SFU+53C3g/oOjqIzFCqg0FHAAAAi0GazkmoQWyZTAhv//6MsAAAQgFG0cG0AqG8Us09D+/fmFD2+rK4wQolEA0nDmt3i53Rq/p2QGHpSNmaKkVY0iuRwlvkI9wIxN3ukTLzrK4p+NuEyDcDWQOeRh02DTchLQJ58ED4FhYGsWKGVVebAa9YeT5D+M3z4FSvmYOsfDQW4ziXgK8fLS0vqJgAAAAzQZ7sRRUsK/8AABWSntk72AsITbQOS4p7JVP1y7Sa9fGDqFS/CEWHjY+QSRjG2orjWeMkAAAAKQGfC3RCfwAAIcC4+pvdegcCmk29md5DWqrM6VhrPfLEW4uVOlNizDOpAAAAJQGfDWpCfwAAIa4xL9F5Q9YXnPk2vkup7mlJzT43LyXQ4yAEDjkAAABlQZsSSahBbJlMCG///oywAABCAPbYnoEnWiEAN2gVu491kTlNh31LkP24uivXzGaEzI7BiQtlogfLMe/28GMHqlrvcrHIOPFEalhThReieT8KLXGfvzjBWfOM2Wh7IdE0gFbxWYEAAAAsQZ8wRRUsK/8AABWSnt43G0cMAtGeGZ6JKdKQKEuZu/NTlImBZGqZ+c9i0RgAAAAyAZ9PdEJ/AAAhwxdhqJliURk+wD87EwZRIpitrAfh9IZRAXnLDtEKURD030sg9Go+XHAAAAAlAZ9RakJ/AAAhrjEvz4XyuYYVM096aAN9woHEm/MNA/Llf/R17QAAAIdBm1ZJqEFsmUwIb//+jLAAAEIBCsTBV4E+eoRJCXAm+kAMQw/HzwuB8tFJjXxHHMisZsIQbvA4Ct90fufoCM2/VKvKIxn9nZahY9/qtxUEv6UQRY/uCXUEcpzQvV+ktZ9iWhzZ+ERYY8qWyqkbS76cnafjaTU3NJRISKV2KEF8Uipbu7JRmukAAAA1QZ90RRUsK/8AABWS/kSMZz2RngiAIllTm6MntlgTBIQ8fvO9GGldcXm9xHqykueTpw1i1EwAAAAiAZ+TdEJ/AAAhwLjfwCxKYU0ML9050KExCZRoFHt03mMvKwAAACQBn5VqQn8AACGxzA93DpoNio/R4dvFefL0VUsK2blSWPNlKkAAAAB7QZuaSahBbJlMCG///oywAABCeN/gab74A0ffznCMKq+vT+T2WaWPNw8JZ3fRYlmHOBLFDWYT5A2ZftfOFhrv4AQkIarruuhF6+/fuJze7vfjRUK8SQGU2Awze+JBrc+Q0akv3kzm/C0IQiVKR4j+DL614BXFbYh3eohnAAAAJkGfuEUVLCv/AAAVkp7eNxtHC/l0LvBEF4E4YUdkJheKq9esVw7BAAAAJwGf13RCfwAAIanPVM5Ks79VZcjxMn3/yDSQttS460t4sni8FELIqAAAACUBn9lqQn8AACGuMS/ReUOzyb+n3XPCWiIffU45nJeiD0Ydph3BAAAAeEGb3kmoQWyZTAhv//6MsAAAQnpvPcufwElXlCO0M2/JLc9/7gQdz02IP+TbgIBVhisQQX7/chvjQZPvKYDCo00QpSgJY6/e1uOO9pb+Y1+WXYcvTXRIq9eHg8oq4G8f0GkkB46FrQdB2esqwYLaMvGnijaQB00OFwAAAD1Bn/xFFSwr/wAAFZUl/JYgJpBQA3QG1XBVaNAwpzGAPF43JdK1ddPSeQeSjB6sPVbX98LimzRaSS9GA57hAAAALAGeG3RCfwAAIav0lKkHHaqfqX9xAKSGeewrqBRq+b/cupOEMHJiDdXkap2ZAAAAKAGeHWpCfwAAIK4x4nl55JkAb/QYK3GELVizC/kKvZBUawRIfPFDakAAAABrQZoCSahBbJlMCG///oywAABAAUbYnoEnbX1ey3eejG/T+aTHQ853vBwjQekXLkT/E1pdQ63ZDAFh6g0Ssnw6cXVvwtKY5GSkwbGf2YhKvt7wZZqFx9afd+LlUI08w4XpSMyEkyupdyjlqtgAAAA0QZ4gRRUsK/8AABUCnqi0PNOkkVHJR52m8Ys+cR0hUsTvblKYYHKEwubCC68YQkvX9JvL7wAAAC0Bnl90Qn8AACDAuN/BXpHav2lySv10vft5PTAv51oYdS67MUyEWqaIHOcXwIAAAAAmAZ5BakJ/AAAgrjEv0XlFIKTp4RNq6J6ywOrwiwWoLAz/PoiK2NMAAABIQZpGSahBbJlMCG///oywAABAAUbRkuauasG89zsM6BATg3oAW8LknS37/KTtOCX2D5vsWAL9d7C/Vu9ieSoiQ5aonKNXxMiAAAAAK0GeZEUVLCv/AAAVAp6otDzTwYvmwqeu6b0kRS7axrZ0AGevapzAdCsaefEAAAAmAZ6DdEJ/AAAgwLjfwV6RZRH6gdAzFufp4EIppKPBHi9oPGC3UxcAAAAgAZ6FakJ/AAAgrjEv0XlDs822QGUnIMs3CN286sf/yrEAAACuQZqKSahBbJlMCG///oywAABAAQrVTn0ab2YKLQAVG5O4YbKjhH2gVml4mi4nuvpY2BbeY3NVvV/YYRbXiariBCf52tp9/SYWyqpShfhAzLm7baC/BZtC6OvdxJWUrRVOAsDdl1gm6lG0ExM8lGlDWBw16rBn+ogVTcZRkCN0foJC3BmQTyQk0VqsiuWNCEmSjU+Ct13nyBcGsvuk841UJcG9crT4v2x+cEBERUldAAAANEGeqEUVLCv/AAAVAyv5QIXrhkFxMR1PS5COCZF6iwWaBzGH+1bowDSrHNebyaBTFC4N3mAAAAAqAZ7HdEJ/AAAgqc7Fk4V0CFVFiGqJktPpuVU6XEdgF1BD6buyodW9NPNgAAAALAGeyWpCfwAAILHMCW+r5VtQAku1eLer9hRLH6BvjP5PD7gGj3kqgqAylkQJAAAAUEGazEmoQWyZTBRMN//+jLAAAEB6bz9pu4StcPe5Jsy03cF7debx0MpJ2S0XTGXUAIXo41iLtCPD7b1OGmFXkP0oV2c6aKamCupK84GUGryFAAAAKAGe62pCfwAAILHBDcZ+uHHphc4r7vDfMYIh8WqiVNqkma8fdk9jozAAAABdQZrwSeEKUmUwIb/+jLAAAD5cbO+nEQHyGRrLolKWkduFdJaT6t1yTH4i2n6pzF2vCSwkbnJ7vkovm+ls9UNCkfdLPPXkJyImPa91WmHaIKRHRhSK3i5wFUFHhCSBAAAANEGfDkU0TCv/AAAUcp8JwM1AsYr7I1Gcb2Q1MStP4Z21AKLHVaQ/xWBzoFFyHXB5uuxszPUAAAAvAZ8tdEJ/AAAfyMrtjssnoZQAkvpvashsTjWC35gD/pGcKDZsm1HfpIUqN3WD7PUAAAAkAZ8vakJ/AAAfuaZ/UjL0gMc/Wy+QuCOGYoUbCUdjZpOkzBe6AAAASUGbNEmoQWiZTAhv//6MsAAAPlxs73HhJ1WDee52Gc+/oxjdrBMwA3Gkn7B9S6q98KDvDLuLLvshP0a8+DdFmJJ8Rj/Q+ZxzGCAAAAA3QZ9SRREsK/8AABRynqi0JBV0+Yx3aIJtENcWpxhEoHeAHG1nLCh96D+aLtQa4aHp11ergoG9SQAAADEBn3F0Qn8AAB+uNAuGKHV+kcgxMjmCHqj66zOAoTUukW+JUEb70el5NcmW/ZVLNu2YAAAAJQGfc2pCfwAAH6qhJos+Cz6kKCRhoNJ8FFukcV7MnChW9kgmd0AAAABiQZt3SahBbJlMCG///oywAAA+XDsg0W3yisCWtJrulABnd+adwTgVSYZVRkAihd+ZGAS/qVMqHo6tp80VVyqYNlAo0c3VQ/0UmzgzHqqN4X6OVBBZhdW7J1sPfJAKIMMiktkAAAAuQZ+VRRUsK/8AABRynt43GU7JRh7P1Tde4sDxvKYKoEbF+AaQNFZkfj4mQd/kjAAAACkBn7ZqQn8AAB+5ov+Hba9E5YRY7faBredbGklhPa7Cx8C++Sa7MrgyzQAAALBBm7pJqEFsmUwIb//+jLAAAD5ci6qjGBG+mNm3VQIEdSa4Xss+B2zg5kID8VqqDgM1X+oxklmG3h6jV1d+nIrZ/0xBe+FiZTDuzBRolqVIZd83D1PpcegcGu7RkvX8R/nq3ZzgD/LX68Ijc19JVmHfK16lhHt5/DyyA3Kz0PPHfXLhILe4RygRqfXfayvfqQvACe2QaNcTSwiltMTJRBkpnQETo/zd8nJG8dSgvyiDGQAAADNBn9hFFSwr/wAAFHKe3jca8/2RhDwREuncZ3rLtwwBwdbStBnBmWT5D4HRq19qPwrqxygAAAAqAZ/5akJ/AAAfxqOWCcCR3PDrxKiU5XYrASDhlfKRnLycBUigOtW/EIrBAAAAmkGb/kmoQWyZTAhv//6MsAAAPrwnQYPPNPmJHW6//2EoADIyfmWs4vlYBZ1jUl6cfEPtp98h2TAu3dFlX7ORd8+7SnJ1XuWCCBRH7WlR27Fm6ScZrNdIGxheR9ijLR8Xmm7u32MD4CjOnxjl1mult4XvGluYzR+RjaeTZN/FilNxGyEznaaBuo+UKn7O0+Ec4NU803jUfPYUA1MAAAA3QZ4cRRUsK/8AABR1JfyWIS2KgaWzYAcafpIz6I0vgOLaNjEUlyX+Ee6ThD2YpGp6gBQLQDfAuwAAACoBnjt0Qn8AAB+4fabCFOXkCUttf7V2/vMzqt5lHPpTQp0gFhEuFpNz72UAAAAlAZ49akJ/AAAfCacVj5UQ9kwMc7ouqi7CoSpgj5rPD44FVdcb7gAAAG5BmiJJqEFsmUwIb//+jLAAADz8g324A5GD6hNKwCRtG6lxDdzbKllluhMVkQomMjvwzFDv/N8UCXYFBZdUQnWP3+TYw0yZYKdjjNgdoVaLToSpfnkHdR3hJc/qwuuG+1kw1XwkcYB9ZZ1/gDd4wAAAADZBnkBFFSwr/wAAE+H9kQtfTgAFwtbqldyMp2pmAoR6xbveyMBRKZXpNdte5yLxbS9xOXQJolUAAAAjAZ5/dEJ/AAAfBuj2oB7UoQIC0oiRNw0DtJVcKuNXsOpmT7gAAAAtAZ5hakJ/AAAfCO02vQ21AB9g9SnHmEDiGcaMaTcaDFJZuXaUaGs/EOuJTWKpAAAAX0GaZkmoQWyZTAhv//6MsAAAPPwqn0wZ2oA2m6Xnoeoxs8i1GxOAGEXdvctoVZwqVyTe7G2Bf4qvm1rKCJXs9LayhDBBBEZ+Pg4iR5JBhyCHBow2TTXuVYXzbVLe4KjIAAAAM0GehEUVLCv/AAAT4yu1BfvyhfmrnM1uOdGITTeZy1B3QADjq2SDyPOTHpxG7kAurHlrjwAAADgBnqN0Qn8AAB8YylkUK2RyJblJxBlz51nETR2reMaTVJMAD7B7bhAgN460UF5B3uM/hqD5eVcDDQAAACsBnqVqQn8AAB8MlRysUGraOOxxu82uIfirREXBTOS5p2STJ0logSsT4YqhAAAAdkGaqkmoQWyZTAhv//6MsAAAPVwnPc5pWD15t5IkAHGbnOsspZ5PevPcaVRcnna4ih7i0ys9IW/VDtUZ0WK0PVybg+VZQCv8ofP5sjhNSpgShrz47jUv//5gYmahrY/Md6kgFK7R1miyVQbfagwHVmcaFrCMXBkAAAA7QZ7IRRUsK/8AABPlJf1ROlOZE0TGDggBL0dDMxbmfPq0h9TuCuTfrXwyPaC6nAdJXpYj2aD5c0wYpj0AAAAsAZ7ndEJ/AAAfBnNNvjjsPk/s3QPktBoH/YmQyoHjG+DpCcsTNmnEOA6b6YAAAAAnAZ7pakJ/AAAeWagIHgu6to+dpJiaWJkvrPJBUAquNFDkA1zNZ2nHAAAAb0Ga7kmoQWyZTAhv//6MsAAAO6fRAIAA4R7iRKbrZmgIbxs6wFiEPA6xRAWhlC2FarKp/9jlrKYZrEQ0nu8sL4209YWWeSZWnLWLKbfKVtYJ6UyQvuRKh7xN6WTFmqRz3/os5zvj37ifYXhfwMyOgAAAAC1BnwxFFSwr/wAAE1Yu4Ld2OBtJCW+YTL5YTqq5Hya1c1ogZkuxU3P4xlNkRUAAAAArAZ8rdEJ/AAAeVukHezQi2pf5ix3lU2lFv3OwmPfIUPD2J2ePg4FLIVPpgQAAAC8Bny1qQn8AAB5ZpwXgPPmQAsvPHT+By8B3dclZz05QsSUuw7YYmJRJNsliUeul8wAAAGJBmzJJqEFsmUwIb//+jLAAADucbO9x4SdVgxsecgld3VVXoNA5p3hPLl4D+/9QAoH+KGKbco4lgSuw6tMrAo1Jzn9aheO7XFGDWOdnNqxq239x/Xo01+m/M07EWyGx7DTrUQAAADNBn1BFFSwr/wAAE1Y/DVJoTZT1x2VmswsuBH9brrxJKmsuSTdeI98G/6cnvaRosIglfmAAAAAlAZ9vdEJ/AAAeaMpZE1lTvn8Bx2fyq2YSS4AsiJb9xI0zMbL8wAAAACMBn3FqQn8AAB5Z89/jSHBI4b33TqbqqQVxfkCONUsCcFfXzQAAAElBm3ZJqEFsmUwIb//+jLAAADucdrhPi3yjUHMPDAZkrcf8nAYWl2wQAHBNESuSutfaGEbNrP91V4t1W1GyNSAqeZUyuq0JXXCIAAAAKUGflEUVLCv/AAATVi7Hi42jg3GglldVoO3n/vmdtgZA4WBPfYUV4Tr7AAAAIAGfs3RCfwAAHlbmpXYmYHoPSsHYIItwCDIYJ+/JGUvbAAAAKAGftWpCfwAAHlmmf1F5Q55A7d7ePuMqN7jOqMir73ECpKPn18O0cT0AAABpQZu6SahBbJlMCG///oywAAA7/CdBg84LOly5s923Tr38Qm0YXjsvBf7VF2r5NTwAVeRQnQBYd8BcOewgEcItlGHBQuWFUH56KdgGUF74p08mtf3Ej8RvwLM/HKQBPmvqgCQlevH8D2GdAAAAQ0Gf2EUVLCv/AAATXZRUsY1Y2n6FCOAI9rGfuXx/tD2yCEpoQGgHB0nIWRtqig40hhWj2SDsChgETx4lI5ilh1GOtrsAAAAtAZ/3dEJ/AAAeWH2mwTqtF/1/QKnf91DflOYp3WecURRUPMFQ+QVEGoSzD7kLAAAAJQGf+WpCfwAAHmbAGN9t8rq/mSqNyTSfkg8SsRTGYtgAPcecOOEAAABJQZv+SahBbJlMCG///oywAAA6PGzvceEnVYN57nYZ2vF9gSnpmSPJvuhcAIXpCflxImlGRoSmLTKqWHt+wbSjMhnBXF3yjPFZ0AAAAD1BnhxFFSwr/wAAEtYuxQ3sBYQm1/D6qnccWPCLMYlfTJg98YFE6KQAICUDhgkYZn/arpzKgy2wll7Ku75pAAAAJgGeO3RCfwAAHbjKbgLGtm4XO8V97VNXszMeN/VWXwgUqrNQkG6BAAAAJwGePWpCfwAAHamnBeA8oUpIGWLg0RtaihdxpeAtk/wJ03GDv3DfHAAAAGJBmiJJqEFsmUwIb//+jLAAADo8Kq9x4SfxvxYGqHc9ehgm48LXkejkN3ZYAiYXFcqqtmVKkQv4d+AFmo1OpC4+MO8w3tZJaZGqDXzS8M2uZKtn2JX+dZuTV3IYx/c7GGIEKAAAADVBnkBFFSwr/wAAEtYux4uNo3DNB7Lo4TvG5e+UhHGzAZVypTyiFDPDuQQ5ShF22Nn6KgOyjwAAACUBnn90Qn8AAB2ofabCFQnjUwjrM8L5q6ZnTRBDvSNqr6yAKv3QAAAAIgGeYWpCfwAAHammf1F5RSCk6eETaOwtNbL//Ou9Ba5SggsAAABYQZpmSahBbJlMCG///oywAAA6PIdL0u7qW9r9usv+Rr+n9jQvVgADfxN3YKCJuoaz9VKg0hF9+PkirzMsZfWSeXYq2kUF8bx/mXAYXoiaHRN31wUF2K/v3gAAADVBnoRFFSwr/wAAEtW+PirU5/rXGccR37TgmYGC9BL5cGA6ATlmL6rcRAC3xwuNVZthLfX10wAAADQBnqN0Qn8AAB24mSCTWVMb/xn+QO+W2hosohH+tOS15ubGW2I4ATtzpbZYnymeVAotz5fdAAAAIwGepWpCfwAAHajtNrzQGGcUYn+FfaN06cIKTQBqJefAUSDhAAAAekGaqkmoQWyZTAhv//6MsAAAOp650MHBuxfQxUptXm2NZGDGEsFDyskBm5bpe32TfW5J1kUJqv8dXJ48d3EASJAzJY9bRoVZbV9KcTto4jISlrYoHTNaqEtBcM75PkKVI1pGTvvJiQYTcNyjiO6M+IZhIlr8HURmqwvJAAAANEGeyEUVLCv/AAAS1i7Hi42jhfy6GpMhOSEgnFg+KP8AYq2n5FkYxUv5/0FuKKA5Lb+5bpAAAAAmAZ7ndEJ/AAAdqH2m0PLdgtPL9GMMhFAIQEVa8KtDUzmEFEGAQaoAAAA3AZ7pakJ/AAAdosiREb5DAALY1wcbKqnn8yrPj0Mj72GLLVc66asTQHCVHkPqxKQ7dcJi90iAgQAAAFpBmu5JqEFsmUwIb//+jLAAADjcbO+nEQmu7Ds2dBAFPE8KYGmyTXi+tbRoXH96w4VZEPiywuzdiTPJDZ8GHLZ30dLCNpNwWujrGrYda1ZhUNNzv2Xf/rVKxYAAAAAxQZ8MRRUsK/8AABJWLuC3dmIfm1R+IWwVYI1YWdHeeTQWW9xUm0k1Bdh65AmzDBqVQAAAACYBnyt0Qn8AABz26XuvpsoJ83IkF2RQAkt4n89ZREKjXQA9MrIR0wAAADgBny1qQn8AABz5pvIEiD0AJKsa5x5NJtao3BA0L+N1QelvBXAagwKRhirbFzZ2eI4hMvo1pbS9MQAAAGZBmzJJqEFsmUwIb//+jLAAADjcbO9x4SdVg3qGRa4tkANwPa+F5u8t5K3GwAh89H1+HVEH5rv0spjWyS2rFV065ezH+hQp84rx7JChJB0bjgt8Q7uVaYDMb7XQuip2Ggst9Ax1VIEAAAAuQZ9QRRUsK/8AABJWLseLjKdkow9n6puvcBlS5Hhd0ZCH++3PIP0iZ0j6ULBfmAAAAB4Bn290Qn8AAB0IylkUK2TTa0Uk41BgcWnOa/eZHSAAAAAoAZ9xakJ/AAAc+aZ/UXudZnUXQhJm35x78oTkOlCcAo6JZrD2gxIswQAAAGtBm3ZJqEFsmUwIb//+jLAAADjcK/bgE1WmnNXcT6+5Oti+QEjEIB4Zh29GVfhHcDOTMvGzyYsctn3GIauNnddWhX6H9WQpmTg9ejsiTWn/fWuUhxpX/bNf79BdNy7laB/91iiX2WSGkaLrNAAAACtBn5RFFSwr/wAAElaM+5IEyfvPJPgUijE0nekugmMnHa6R/J+A1dTEZjiAAAAAJgGfs3RCfwAAHPboevti6KP8cXfLdPRz7Fb9qeDec8kQlHMf1r8xAAAAJgGftWpCfwAAHQfpbUzIYw2ihRJ2FBVwXU29hboXSj93o3rZnL8wAAAAtkGbukmoQWyZTAhv//6MsAAAONyUDCe/AMgUogDiayb2XnDz0CUj3Ans+y2NpRBebeHatM1Rk7jlyYajVopLH9SGrvoAFE4poxibZJY1ob4H7WAurSAGEVeScLh6wYD3PM0bPYX5oDoDAw8xmQS1hhZSCWtQNEPxuXN0qDt38q6NSrDwvHpIMnWcLoFucjHZZjd8FIzmPSrgAVZzLpwzgL5pLTAgQzImgJs0mucET7rQSiFFfPOBAAAAMEGf2EUVLCv/AAASVi7Hi42jhQepPfDYh7EZ9Eg40xhAyn9NUmFrgYrdR2TL6ZZ+YQAAACIBn/d0Qn8AABz26Hr68kJf6FHIC4hC3OjyjWzQtiIK7X5gAAAALAGf+WpCfwAAHPnz3+JzxWNwGsIAcXsLEALMw91NKox+Z2EDmHeXQAz7225hAAAAh0Gb/kmoQWyZTAhv//6MsAAAOTwnPczhmAGfU1UQQpv6VXHyR4w9ZP/fLN2XesZIV6snDvHhWD9H19bXmpoI1glVxkmpkQW1ws2rqbUCShUZeqZ1RN17wq8rnrDz5V6ShwaxfzUZSaTj0/maG9lqrI6FGFtIqr8YbBDx5TfQALrz7+GAkVUaHQAAAC9BnhxFFSwr/wAAElfxrlEQvcWEXla7la++/pqgBJcKaITUKOGw8mWtvOGbYbDK8wAAAC8Bnjt0Qn8AABz4e0FMBjIDJeUIccpVoz/ToXGUvlGJIthJPSGNCANZkzIMRUB3QQAAADgBnj1qQn8AABxJpxWPnHoASYK4HSgn0SfMKXvIAp0j55iCGYHSog+QkWd6tiYvusWkKzoIRo9cPgAAAGRBmiJJqEFsmUwIb//+jLAAADew2vwTGHMrnxwbpfpItLUPNqk/kh1QAAuGHkxah/orbWVm5/9WMvNZePibqu8daPvIg2K2PcUVJebsETjb9brx/REsdtFVZ9S+Kf2WE3P9FeogAAAAJUGeQEUVLCv/AAAR1i7Hi42jhfy6GvYysX3qBr1hkSxTgxwi6dMAAAAnAZ5/dEJ/AAAcSH2mwhUJ41MIxX6huBXVdsq9cK0OfhUdrbzPTJUPAAAAIQGeYWpCfwAAHEmmf1F5Q7PNtkBlMIRRS7LGDZid4hfYeQAAAFVBmmZJqEFsmUwIb//+jLAAADeK/ok1UOkGIfl5HbogZVFQpF82gpTS/8g4nPzIARfpCFiT9Id3OMaRHZAW0DftrH65veNLFtQbLui1Gu3hMNW5pdeAAAAAJ0GehEUVLCv/AAAR1i6qWh5p4MXzYVP7D/vRskTiRfG/BRtSIrRM3wAAACkBnqN0Qn8AABxYylkTIt/r1FEgr9nf3i1bGgIz4eoIywlZ5FEeprib4QAAACIBnqVqQn8AABxJpn9ReUOzzbZAfD48Y7Um/ZVWRTUvu1h5AAAATEGaqEmoQWyZTBRMN//+jLAAADeLcFqc6+7WAkk1jeJI7aCRq3haDEcf1GfQAqjNv6Vh7uDxUXH6YT9gvbKB85xZAk2R+6D7gSktACkAAAAhAZ7HakJ/AAAcSaMKupowweS1EPH16SxsjsYz7iQq218wAAAANkGayUnhClJlMCG//oywAAA3i/jJReSQsxpc0a+dZ5rgqFkkCUwAtMUkaT2EoxvLHXzRQIZHgAAAAHdBmu1J4Q6JlMCG//6MsAAAN9wln31rWD4ce9yby4EJJjpyXFalEIMAjRLdSiZsIARhIpJr/SytBwysxUCPIIsVvDEaI18KjI/I+vPY1L4tqKVdXKlnXJSmVFf1nNFzlRUe67YU+pheEhazOWjscNpnY+DgVZ2dEQAAADpBnwtFETwr/wAAEdI2YdXqhx2k5GdVzGZSwy3F570zBEUogBXou5FSZOVOG3YRyRfQDiKeUNCuZ0vpAAAAKQGfKnRCfwAAHFr48qmlU9T6QOCzQXNjiA25oiBDNx+eoxzRBFJyp4GmAAAAJgGfLGpCfwAAHEyNiM/QE+fiNtLZVDoqmnpYQP8NDCSCegjZgd//AAAAakGbMUmoQWiZTAhv//6MsAAANlR07LX+gFMXfTEAl2G+snkfEUeGPwsR7eqB+br15mTjmTWaHLtModUu5PVAg+Zw9VUObAb+HwID9UaK0tNvIZoLz00R466ISN91qBZIJBM6sWvZsq/gQoEAAAAqQZ9PRREsK/8AABFWLuC3dkwrGjQtK6GXrREp0MHilgFxi/4ybIbfkIfTAAAAJAGfbnRCfwAAG5qT/lMqGS1Hjn7tFVJPVy25CnDHDBhv8XED0gAAADYBn3BqQn8AABudCVkndIpsG4DPD3IceAYydwAwjWKDwN33pX2KNNABCsM7qA6JQm2x6HuXi4AAAABEQZt1SahBbJlMCG///oywAAA2Ss6JQNAFzsOYwR+mwfbNGnuyaYtNSOqX5bdFNhRGigN3NXKiglDC0mQodRa0yHobCIEAAAAqQZ+TRRUsK/8AABFWLseLjaOFSWVHFdRaoG69Uji2Ywa6slFc5GwisxaQAAAAIgGfsnRCfwAAG5wBpsIVCeNTCOszwwx09LjNl7YKC75KnOAAAAAoAZ+0akJ/AAAbVHtKgRYQBo0KfqJLUVymBM8ZIOYyHrr88cRCUPhi4QAAAF9Bm7lJqEFsmUwIb//+jLAAADZLBZw/3S8ikEcRTCFqJaMsafrABLGwDdhjNIYb8txpWbAip9AQCnH3l5i9aSROJa2aCcmIhI7m77+ynYc5AcPwxNnpDHBCz8sYUEL4dQAAADBBn9dFFSwr/wAAEV1fYeIp/9mq+3sRSa8z4YB8QDqGE0gSRH9WpOvO/J0jf+pUIpEAAAAjAZ/2dEJ/AAAbqe69SOYgCvLMFNs5QcXe5PCw+irncFgUznEAAAArAZ/4akJ/AAAbnQlZJ/R8oSgA/fItlx0xeEFwEPXF1bh2jSVGWCVmMywtIAAAAHtBm/1JqEFsmUwIb//+jLAAADachFNwmvQyifdAS3dqTtL2AwR1gM77xABkXcM1K+8EghVK8NugxLsQP5btaOLIswjm8NC1BgFVXnnh7vOwS6ek21851Vzxo8f6h7YjGjwaWfvljYAJlBH7zD7yzZYJCVNx5fkj2eRONEEAAAA3QZ4bRRUsK/8AABFWLt5qgzQm8yAFrvlER3dR/vvCFKpQTYfy9tXuqjvfE9YcT+/n+qKghvCI+AAAAB0Bnjp0Qn8AABucAabCFOXkUgQIz1yNAe6F9KdsOQAAADEBnjxqQn8AABudCcjpmRh/jxwMz6bxuckAYXCXljumdMr/V0sjcdr3AhfD4bg43lL5AAAAdEGaIUmoQWyZTAhv//6MsAAANpwnP2q24StcPe5Jsy05XIR+0EY5AqgziCXrfS7/lxM74Cji4Ey9x5LSUG2JRoKBA2l80DTrFyu+Pc7vlhCsvBeZs0sZR/XH25K3ey3dQSA7mY1LsLMPu/LtKgAOLWFDWz+gAAAANEGeX0UVLCv/AAARV/66kO6muhq/Q9aYtSsnX6yLXU2Dkb6/9nMV0mhX6URXaemlWfQGVhwAAAAmAZ5+dEJ/AAAbnBIsTBhDHgcit1584DHg+ygc3NEgls4fQutgeIEAAAAqAZ5gakJ/AAAa/62fdtACS8B9PhyGwJfOk6XVdn3TyCwLHJuzMZOD6ZHAAAAASkGaZUmoQWyZTAhv//6MsAAANQr+iTVAk6rKRIVDyLHN0GteNtN6SSvKy+C0qf8DuAAAhX9EF/TnJyIv7ElVGtynGZZ60xXpXhSRAAAAOUGeg0UVLCv/AAAQ1i6IHg9M5/TBV2AwAmm6itkhlF9YagBoCNgW0qtgXHCJI7ob9jGRKsrrifhSOAAAACsBnqJ0Qn8AABsJ715OewmMtmT/S2YGq3P0BNeftBj07WfMhTKv+Om3N5cdAAAAKAGepGpCfwAAGv0JWSd0iJTU+IqDuAclhgXeIGTSOHrBbVC9onGRQYEAAAA8QZqoSahBbJlMCG///oywAAA1C3CCnoEnVYNypHhbuilRECLqkKE2RnDb0ia/7lg+ozOAiu++s36s6KqZAAAAJUGexkUVLCv/AAAQ1oz7kgTLWSHoa+Ez//YizjDBxk2fgVX8LHEAAAAjAZ7nakJ/AAAbCSpZ7iS2dGYTyOnhKTJ1eXlaqK6hb/cb+qAAAAG6ZYiCAAQ//vdOvwKbRZdqA5JXCvbKpCZZuVJrAfKmAAADAAADAAADAtr0eJM75NTxNgAAAwEHAChhUxEhIBSxvCoEsQRx4/wWjQSmw7GjsEyg0M7up8V1gmvJIHN3VeVuzdXr0oxRCYt6ETd0GK5JCg1eEn4eAXeoQg4aDUpkQR4ZqB0nP8TkMAXFZAtn/Mdd3y6MFsAASPQrPGw1E3I0oTj+frKhlk6NkfXKaYnHCXIrH6ao9OoqD2LS+T29LR6YZWdNtIWzxyjoPBZEO9HROoNqca3JAReeDLtDjKo56GfWCan/4X+4M8tlDewiW698JHdumpw3NaYqp11IGndBOwZ6Ef0xega6dIuf0nf5611Wgepr/U8p0M8p3e5qi36GcHMXXdiJ1dhY3lWi6TjWHE455HWqy9R8wgGYzbU+gv6Iax2HW2hXwEDX6nyeA5SIFEITq9Ic0iYWtp9qZyJNKFchKMatSCplYkUclub0/ba12HPJAAdw+oS+gTGKYskAGJECO71xitvH0XObwqkSepezXEBhmUxalX/wVIi1onW3fo3EB+HmVXCGLSmZDKTQCjWAAAADAAANmAAAAEpBmiRsQ3/+jLAAAEYKrn0ftMybjPADhPulhZwC/K/uv1dZYlMAWjDIm3t//e5q9jBUpznGE9qm0JD6Z5ZUDT05VWL5DZ3YVyb34QAAACNBnkJ4hX8AABa1KzdrcRC9wGXhhZYtX29MgJQzOsNJMG1ICAAAABYBnmF0Qn8AACPDF2ippVPU+8aF9WGNAAAAHwGeY2pCfwAAI8e9ixm/yySfQ8aFrFoUMWWFtZEbEBEAAABYQZpoSahBaJlMCG///oywAAAaiTuaVO3unGov/OhxOGx3rm+ediAC2b3o4rbXr+K/ZLN46KyXoPQQLaKGVMmOwGnPK1qHrm0ZEfomNMKRbArZpZq2NN5x7QAAACBBnoZFESwr/wAAAwM5MHnl7GFd80GcGMtihkOXDxhAQQAAAA4BnqV0Qn8AAAMAAAMBqQAAABwBnqdqQn8AAAUfMJcpJUV3kpHSsH8MI8PokZkmAAAAc0GarEmoQWyZTAhv//6MsAAARgL28nprJ5lNLkQA4KdUL4YdqmvdPO24C4UzSihxmG+STDoz1dQ9UGiOiDqmPQ+XbP8IE4wt9lNj3f/I033ac25W8R/ec69WTEMopYok7bT32+uQaBdXQUhcJDqYdp0yCmEAAAAeQZ7KRRUsK/8AABa8Q823FcyxwUGruO2s5G3BanJAAAAADgGe6XRCfwAAAwAAAwGpAAAAHQGe62pCfwAAI78EJxLJaZ+aJM/QZJKAgcbd51RhAAAAWkGa8EmoQWyZTAhv//6MsAAAGqHxbAqAGyQeEgZEClEbfpdm2MsOM0eLjhUjjv9VcZHyjJ/Z6W8lhAfOjCiZEEPPlpZ10BlPmfj6SFE4OzKb5/gMsqicxY86YAAAAB1Bnw5FFSwr/wAACGwKG0zL5gxWil+KOCACSPpW3QAAAB8Bny10Qn8AAA1/Qa3LOzJRWFxtVnkkVVrpYlaWdfIDAAAADgGfL2pCfwAAAwAAAwGpAAAATkGbNEmoQWyZTAhv//6MsAAAGokzo8kg040D+vLc5SuklgEYaX26z9siSwVZohkJ1QBYHZhSfHg5w8TDkxMi9OPsgG1FiZZCagh5EsEcQQAAAB1Bn1JFFSwr/wAACGv658bN/RLfpkamVXNGIKMSTAAAABwBn3F0Qn8AAA2F64SlSidvgTod9AoEEOsfDR2zAAAADwGfc2pCfwAABR+X3sAYUQAAADJBm3hJqEFsmUwIb//+jLAAAEYC93obkB6q2qDgwNrSP0VZolLK02fJY4gG0rFmkCkB/wAAACNBn5ZFFSwr/wAAFrUrN222gFi4jIcZ1rwGTWdY3hpVyzenJAAAACoBn7V0Qn8AACOr+Fwpmcvl8xcICerEPj3vYd2kRpooOVYWL498pjTzWzEAAAAOAZ+3akJ/AAADAAADAakAAABBQZu8SahBbJlMCG///oywAABGFF1FI2tr/EAgA1wMj+kcu8412tDCcJm3+pKUYD+oP0OdAunjav304ts6iRHIrg8AAAAdQZ/aRRUsK/8AABa1KzdrWl64ooPCMLA53MeahyQAAAAdAZ/5dEJ/AAAjwxdoqaVT1PvCL9EKROYNX0YXyAkAAAAOAZ/7akJ/AAADAAADAakAAABrQZvgSahBbJlMCG///oywAABGeN/gaf3vGvUBBvtvCQ3szUASf++usbBy0wzC4/l3O+XSBFPaBn+5g5VO1s+dg/Wmb7xZaVnAvLlcH17fWOZF5KTgKxxYcL8d+134r+p8kXWVAWS6TvsbXsEAAAA0QZ4eRRUsK/8AABazK7UFuRwv5dDc8AAjNIFR3Jkxf9MnFYFCfNGvnsoxI0GfBcz6HT62YQAAAB4Bnj10Qn8AACOr+Ft4Ep1oI4g4IHQRJjUMzlnRwckAAAAfAZ4/akJ/AAAjvwQnEslpmrhWVsUeqHI8wACbojx/jgAAAEJBmiRJqEFsmUwIZ//+OEAAAQzzIZ4iAAac4qf61hxHdySV1mNbeWP+u0AoXq6yMQcCl/viNrtJRMpo/ZMTwPfaIMEAAAAmQZ5CRRUsK/8AABa8Q80csg6wDhwunl0/Q3pC0f547a0TRifVZp8AAAAWAZ5hdEJ/AAADAAo/tD2DegrjAbHiAgAAADQBnmNqQn8AACOxzAmJNQf5SwRqkYsLgcbYSmNkpxnawAtWD616Rf/Z3qTkEScTxtPrCHBXAAAAS0GaZkmoQWyZTBRMN//+jLAAAEQQwX8vSs4XS/tFb72EtZI6n/ydi/Jx2YCtWbERT3ACYypdsjBgtCpUVY67wWGgEKCBs8QJy0iqmQAAABwBnoVqQn8AACKyK+/ehUsyLWqUZzQGR1WXHSvRAAAAPEGah0nhClJlMCG//oywAABEEMF/L0rO2S25W+Y+HIDY+0M/LfWI/UtmBSElQ7rkQBTz4kahw8p1QNUpZAAAAMJBmqtJ4Q6JlMCG//6MsAAARBDBV5nWhVfaD2hEUnTug7usD/vPndQodVvDSvqktapn6pr13Y3J+ZhAoXhvobKJXKKi9ZvzKFC/YhCLzM06YpyH3kmcu+rpFg3UHueP6HX6wBCqkEQyrfGbkATFF4XABxYBx97p5pegYalhF9aojl1ZsMQYPVaguIDIuyZVPMcebrbBWjeZxTtf2kZjflhGHdG0iZFeR893SuG7SMc/m27snHK7yYmux3LhbOO1YPG+4AAAACxBnslFETwr/wAAFixDzRy+Qtcbcxzefkj7xpgptaB5u6v21xJ2nximQTuXTQAAAC8Bnuh0Qn8AAAMB2g2OA5SFmJRpYBbN6ltLgKjTLwuPdYgRDPfDQYzPlDbanfKCbAAAACsBnupqQn8AACKyLGaJoIDDeGo9n0dZfKUCRWyzSNC5sTV5OvRkAqqwjWE4AAAAqkGa70moQWiZTAhv//6MsAAARAIFa4NoCQ55zgm54vxLJbmxS+/+/2X+ldhJRZitpzqgMQirPJkyHVHZBRMOBH4GZhZn8sR8j4Z0xRbLDUAx8mmg9UmK5nY7cQZtiwxEJ4ckARbMdFvwi3MNOLkbcgpoGF0HdWtR2eFp0RtMP2phiJkuj8BTp8J+o+eZqZ2G+b1g63inbiZR27Dztts6wo3ZtPCLhwcGrJxtAAAAMkGfDUURLCv/AAAWIyu1BbkcOvwAANnsxmtA36Eq0/Criffv5vmmT/jIYxZ/6wYnpLG9AAAAKwGfLHRCfwAAIqw49YdH01VGAFsnh6p5fWY/vf4GH3LrJnXjxMr/hrC5Gn0AAAAkAZ8uakJ/AAAiscwJb/UG0Pp3kwLFBUozPbVJdAgAbdjthOLBAAAAW0GbMUmoQWyZTBRMN//+jLAAAEQC9vJ6BJ1WDee52Wme+ieAjgV4jFgBrZrVnfRi4/113i2yBw4cHa02VbFanbCBJgdV0F5r0U4FlGvAWHWzLWMyaV8YynQK58AAAAA4AZ9QakJ/AAAiscwIzjzYASLuksSrXKDDAEWxxxnHjTUYGpV5uIeGfqNPagzC8zmr2DIz+TYTlVkAAABoQZtVSeEKUmUwIb/+jLAAAEQCBXlrQCK/99kOkNugHEN3MfqQy22959NKAua9tMiTAF1qd1xFPKkg/6cH2qGhj/3dIFWcFO/PXTzl7xmD7WHF22Lb4yTAGe6a9qqS0XKUMpfx0HssNaAAAAA1QZ9zRTRMK/8AABXflt1JmNmgA/prlPFtd5THoeWZsJcR375CQaMskrSNc/4Cq427IUs/70EAAAApAZ+SdEJ/AAAiq/hZ0nUBJvBzCcKHRruEEhARwgm1EAvgvtC5A5BCUkkAAAAmAZ+UakJ/AAAiscwJcDxnUF6+zPiyRHGkn12tta72LlE0Kmw1pdwAAABhQZuZSahBaJlMCG///oywAABEEJStMhkAE/VtTZ6RSC6q/fDFbG0sX9MNXvjeXrae9TDLI3FuE7gqf0Ixv54Yf7Shwr9iJP1JrwNOVeyV2pHbjGY0zpZib7H90M1uy8YLBwAAAClBn7dFESwr/wAAFh0vf9hCdZS4p3seJxBOfGZiwK/s4PWkH/3iQltcqQAAACcBn9Z0Qn8AACKpzKh2JmB6D0rB2JGgBLAaFC5eOpjOw+o+IOForNAAAAAdAZ/YakJ/AAAivwQnEslpmrhWUx8qO34vrY0Ek2EAAABfQZvdSahBbJlMCG///oywAABEAgUpOeNRu77HkzZXXtD++MdGkDNA2XACf/A0snnQAtbdcKktomRZKTwDHJ96gMMD0DfusUG3cZR1OD4ljpUPvsTkn12+2sonICl+j4wAAAAsQZ/7RRUsK/8AABYwRooDnchcxkdXECkPoxpaXztVpjkknuSG0zOoJJ+qu4MAAAAuAZ4adEJ/AAAiqc9narVlT2al6Ij8UxMfjkaQfxQAfYGB9YmbpKeGhC3Gpsv4sQAAACQBnhxqQn8AACKxzA923KSYe0i6/n5ZJyuAXVbGjCLqs6ay5NkAAAB1QZoBSahBbJlMCG///oywAABEem9Be4Hc6XLmvrt069/EJtGF47LwX+1Rdq1X1Cig20wAN7pe+ig1OOCqWSBx9jJQBPxQSWb0CRVXaaol08oLv+ux0T2ylMakSKdd7gWcQKLRd6rMU4ZONBDWjKiohZ3aV4yXAAAAOUGeP0UVLCv/AAAWIyuxxM2gOK/ivyXFYAGts4gfnXe0aT61ZD5dCczr6UabLMYqKpAKhBxNt/rVIAAAACMBnl50Qn8AACKpz1LO2XDcaExG6yIYF1SHNTf1XhBqX7z0gAAAACwBnkBqQn8AACKlcMLUf7Q+OCXsQOCjnapWwVd6mUqOE2M97LOg8R2Hq+JxwQAAAFdBmkVJqEFsmUwIb//+jLAAAEICBfzG+b2jzulG01CQ5twRVxvQBW9yd06fPHzwznGW77Dfdd2HACemkDkUyvjhul2Z2eVjvqLCrvG0HHMgc64Oh7eSdsgAAAAmQZ5jRRUsK/8AABWTLIvEqoKJQiAY0FfjK9UdSmLcaSt+XlCFU6kAAAAjAZ6CdEJ/AAAhrDkFbBrXRni1BTjXYqNBNj/hQugXJ3nQWz8AAAAhAZ6EakJ/AAAhsisFsRY7GHjK6taQKZAPvPng0XMTZP2hAAAAX0GaiUmoQWyZTAhv//6MsAAAQgD22LWgR96qUa5ACP02D7cAH9y9nsG2xfxfiRQserwznR+U5DTnkoW/8MqC+DfctTOb+jAbPVOoqrO77WHckYflHyD1II0vzLiDrYL1AAAAK0Gep0UVLCv/AAAVkyu1BblBaAUwdesPZmFvjKQ6TJCnxRbX6RSFhhpC44AAAAAmAZ7GdEJ/AAAhwLi3EVHy42jlselvw1VlIFIvsepYv07E1LfX6MAAAAAeAZ7IakJ/AAAhvwQnEslpmrhWUx8qO34vrhkUcvKhAAAAX0GazUmoQWyZTAhv//6MsAAAQhROdpBtbWWEKZ2frHNsJoP5IAWy45aiMR7nirHS5Huu6igvve1jX+Av//6UyX/rFkiM5nz3DkJMYTlRCS8AnEs9c4WiuVtCaKRvshDgAAAALUGe60UVLCv/AAAVkp8GATSBoRQdq3aLrdkqkbCdDAXaJBFpqt2NYszAxI+BmAAAACoBnwp0Qn8AACGr+Ft4Emc0A1OOUwUQiPFNMi5Ppc4EKJKW2m//rgwM7RkAAAAeAZ8MakJ/AAAhrjEv0XlDs7BSvqU18jTS9YW6XAwIAAAAQ0GbEUmoQWyZTAhv//6MsAAAQgD22J6BJ1WDee52Gc+6ylKAEZILhz2ppH/CgbU0GJXyfXrAggFufd544CWynx45+pEAAAAkQZ8vRRUsK/8AABWSnqi0PNPBi+bCp67pvSREgLF06CL/FHnbAAAAIwGfTnRCfwAAIav4W3ggBTEn67oAjLsJjQXF/OXA0epqAKzAAAAAIAGfUGpCfwAAIa4xL9F5Q7PNtkBlJyDLOK2wzl/rZSKhAAAAWUGbVUmoQWyZTAhv//6MsAAAQgC6tYqX5RWB3exSCCprEo58Ez4CJOSNR5LuZuQBebdccp0a7aYVdaHpbijRzXoCJkEXfUouWEfQqCcnmYY2bH3YvCqN3KiQAAAAMEGfc0UVLCv/AAAVm5Q3Iyc+yoclDspG63hlHh/FWcjtQAC61aGk/rsdK/716rNccQAAAB8Bn5J0Qn8AACHDF2ippVPU+8IKI+6gsB8v6zHJt5KNAAAAJAGflGpCfwAAIbHMA+2k5TY1zx8Y06QHg0YlccMmYHabm2qlGAAAAJVBm5lJqEFsmUwIb//+jLAAAEJ6bz3DikwBfwR/dem6to8BPGUDMdb58mMOyM8/p4mFHTvwnQHrmg4610erVmAnshyQWBve/e0p/IV2ES8/3LNTJmC5x6qxFzgs1rtpDW7a/gt/n+/hDlxgKPmu7MkK0PboB4zET8WkgRvjxpYBhs28hgApGglpMOt9/H77I3K8WuAugAAAADNBn7dFFSwr/wAAFY40ej6KtFUnbJLRhpcwAC2hK9DffSVDjipB00mPqWVSjI/ZUNjYVYEAAAAnAZ/WdEJ/AAAhqc7FlBHjyJ9dKqQ2sZE1faNQKHHF0VR/O45NUdHYAAAALQGf2GpCfwAAIbHLWF1qUSfuJ5iVEh14OPuYALCypl8BkO7j0WjnoOGwdYCumQAAAI9Bm91JqEFsmUwIb//+jLAAAEAQkgkQBvuuArbBbsHXk2TQuewP7t3HpKR/7eRCi+yif2HYm2T4P3M5kh1muMBpEZgdSK23FZ21ofLqv2rGLedZ9/kWlX2ABJodlXxfmajy70ly+/7FYDv9l8PWuUZBXcH/tMj8QetiiC2Fuljqp5mYIlf7TNgyd2n1BaCTwAAAAD9Bn/tFFSwr/wAAFQMsLLI2d0N0Ee3vVg4cqFr+25Knnd8XA23YdpU4vXfQF8Cmz6TXjgbh70U34BaB8W0AdMEAAAAoAZ4adEJ/AAAgqc7bRp9kn+oR8jnYY6YRiJE45mpJWJ0I1vaE31AWZwAAACABnhxqQn8AACC/BCcS0hVmcR/CWkawwuT3gQJK0oyKwQAAALxBmh9JqEFsmUwUTDf//oywAABAAgV5vnwDCi4aYn85yLD/7yUNreO4E4DzdLc3KXb/6SJcqhonQfgV/9KaZ18plLCUPH0sPirqk9Cn9KuYU53HT2xtfuqn/7PZ3rVRYrbf1SidDV2odZDv13VIKC7FTD+0uZKcwWci1f8iKuYy8NUpzhGiwckhqzAxzK0BHqF5jqyMHw6qlGGWYeKeqby2tl/g2DFRe3ePFAY+HP0VOASfvdlYlNWGtKG/fQAAAC8Bnj5qQn8AACCuMS/O6tx00j3LO2Fk6v8FoOoAYkwSyEAAGxQLx4s9Va76SRoNMAAAAFJBmiNJ4QpSZTAhv/6MsAAAQAD22J6BJ1ohADdn+KjKN7NRHZHYSFvjloRahyGKZ4NesADQFoAVOsLcIfaMptffQkaScuiEyHSfcVvaPMPm6ruAAAAAMUGeQUU0TCv/AAAVAp7eNxtHIDlX+6q4a1qst7t/aeJjIoVo/K9b+XvBuRv+vcSOcNkAAAApAZ5gdEJ/AAAgwxdoVRD7QCRAVeJbewQdzBSywVZ2wbGLzs7wCo0/9dMAAAAiAZ5iakJ/AAAgrjEv0XlDs822rYvZLElpFStn/loocrrpgAAAAFtBmmdJqEFomUwIb//+jLAAAEAUTneEeXJmRjgVNDly6IeA6sxmVZwl4QOcLt0yTp7/9V9CZ4dQZlW7EGRuMThGN+hpUxnuza3Cu1ij4D8ThB3IpcpOD3RetWY/AAAAK0GehUURLCv/AAAVAp6otDzTMJDlMmYvjJlfF0jCZVpdsFpYg0Sq27Ne3UkAAAAjAZ6kdEJ/AAAgq/hbeBdDHeainixwUA4yGQV+1areNWeBeVcAAAAfAZ6makJ/AAAgrjEv0XlDs822QGUnIQHXXKQ+djauwAAAAGZBmqtJqEFsmUwIb//+jLAAAEABDCREjfXmYhiZ3eE5XDwaBaW7z09GLT4ExvxlsM54nFcCZF0tdkwaDamm/SRgpJ0kHK65WEaD07WSACva33qmV/tAb/xwhgsuc92my5e8mrNYIoQAAAA+QZ7JRRUsK/8AABUDK7UFuRyo7Q/0QsiooG9g4JV+UrA2cXYdSAIjJR7vzvsx9Egha8+CTJQJ47gn0GZIumEAAAApAZ7odEJ/AAAgwLjfwV6R2pnLDk0IAW4zULFEkjQX7nhFccAcqQQ++LYAAAAnAZ7qakJ/AAAgscwJb+cyKNzLsU3SR52xQlxo+ccO2x87OJdinECAAAAApUGa70moQWyZTAhv//6MsAAAQHptnk/RL3AuA9RsPsn0KcvDZqs59I2GLsxjXxVDZr0ZVZVwL0qsYgWRN5tHlFcKsgM2ZOKw0vaUC8pULeEuBMSQVYWBJ8mATqjHv1jzxWS3sEngj3mMYoAIcGiSS9H+9CQXNSi3RnfvKrLTaz+pRBSa7X7Y1ldNuKKYbmJI9+dr34sWIaQJIfTA45x0w1aWyd0ZfwAAAEJBnw1FFSwr/wAAFQUl/UzK1gn5OnaLXPF/gYABbP1kYdwLHdfH/5x79F4u8twWwHpD+K+mGvaXEPBwhHKhP04c6YAAAAAmAZ8sdEJ/AAAgpSs/m00ZfqNuXtn+O6/xjKQ9wMmVlE5/DHdNpH0AAAAmAZ8uakJ/AAAfuaf/teeCFEQWpXwVm9y0ry/AzAzU+JULWl43nlEAAAClQZszSahBbJlMCG///oywAAA+XGzvceEobfZ256tAFb7+uULE7YhHy7Dvaguz2rJn1OpPlkoXlB/xCT8tMShP/TrycQYMANfNxMHx0x1TQ+m+NBegAMRd/+vhix/0cwnZYr673NvjTo93xyw30rUPfo1TjUx8c14UOdvuKJ9+iBkxd4gZtEHCsmUBzDqz4aopIKPB5ioJXVLVn+i8BzxadgpZ2hU4AAAAOEGfUUUVLCv/AAAUcp6otDzUbAlWku3iImxmSnA6dfB0gQOVkuJE6YHNXsq7O6+JS5imN9Euo3NtAAAALgGfcHRCfwAAH8jKNhFTDSY0sOuZLwoWQdDmkl+9GA8qRfZzbZ8NU6W3J7BC16AAAAApAZ9yakJ/AAAfuaZ/UXlDs822vYTdUAJKtQ0mpx4TG+7bfUTv4oAwgbcAAACUQZt3SahBbJlMCG///oywAAA+XCqvcd+xusMzYIAAdpAHvU9k01kjZ1UzP2eDz2pGmht7IbQvpU9820o3hjBo+fygH/+qloKiz/q79nlbGoO5Rv/1A/hU7BMc+Gku9cKMw4CLY/oWg92iHseJoO5YX/JM7/VhQj+hEGT/1K/IezvWRSi78cl25mwAq1/E+SUJ6AJMmQAAAEFBn5VFFSwr/wAAFHuUVLFeR8JCieYInhSSI0P0BGAG0Mqrb1mKCrG1ZY28qJW0vzv2qm0aFwkt8YELBopEdBNp3QAAADYBn7R0Qn8AAB/K+OyvH5IdmbNfqVKnrrvYEHNdDLt7HHFxTJkD8JG6mgBUZeR8i6/s29Xf67oAAAAoAZ+2akJ/AAAfuaZ/UXlDs822m2KXcaYnpv94iGUaS2FNcX+I6FgEvQAAAFpBm7tJqEFsmUwIb//+jLAAAD5cbjbgGrPKN6oEnXZR/7c5MYByg/6ddMh3XwBznYtGLe61N4BBZJYe0z3bjb+02/mDU6xiW1iTm15Dw2/JEFilaY0WAhBRhYAAAAApQZ/ZRRUsK/8AABRynq+UnZ4XhvR4Pc3qJfRNoGvbCLxHFWJx8y3FmYEAAAAhAZ/4dEJ/AAAftuh6+vJCX+hRyAuIQtzo8o1s0kRBZszAAAAAJwGf+mpCfwAAH7mmf1F7nWZ1F0GqBDVI/PEGPDaMlXWHbS8Nfa2R7QAAAI9Bm/9JqEFsmUwIb//+jLAAAD68Jz3LrWD15t5IkAIF4znchG/blUOgmFFx6QY8A/O0UjwrPvf0BOe4jkzaNUEz9eUcZS4sb2yqYelvVxwZtydG6V8WmJN133MVjhFh9qjpIwVTDZHFyNORRrkHzaTwHfbAKBIGVi8wCbz3P33DSVFHIEAyjiV8GrLkkwemHwAAADhBnh1FFSwr/wAAFHUl/UyrDmtfx5JIYp2krTfcTOsTy4TWED3iWi38IaHclSKqhe5UKjZQNxeMpQAAACMBnjx0Qn8AAB+26Hr6vscbHXXbP+QGz6T6razkicjzkG/bHQAAACgBnj5qQn8AAB8WwM/wln/0wEnXmvpPTtPPvcASOreXIbF0S3yKKi2OAAAAbkGaI0moQWyZTAhv//6MsAAAPQfQ7PFEAiyg9hwrfNMDU6zN8b17sg+Kg7LuQ3rW05eOr6Qp3Tsarfhrr4Zgxx6N4IXzXnDiLNYCao2Dwt9D+8Azu7kjIYjtPsTnVdXhXvv+y460U8yMrJJF4HzAAAAANEGeQUUVLCv/AAAT17s9P1pURtadafwCkpwfQOXjlgmRXYpF89vtUboFGbzZcsbpyg8g6O0AAAArAZ5gdEJ/AAAfBumhUV0Uc+3r7FKI/FBcjS78qQIIl3EH0GYNlxSwGymjsAAAAC4BnmJqQn8AAB8WwGEIobx6+UojiR7FWDcagYmFj5YSqCGCrZTNSrsLeibaK6LAAAAAU0GaZ0moQWyZTAhv//6MsAAAPPxs3E6vA+ivV27FiIS4E38YgEuLdHDDIlNhrMDIZwJzzhJtwKL25qlfRFEgnSv7AjEWpUEiIxM13oBawLTlZJJBAAAAKUGehUUVLCv/AAAT4p6otNQVb6HYUUXkwQ2WmZpuwcevyuRAGXF1nE+5AAAAKAGepHRCfwAAHrZ614ebLqnbWNN4i9zs8CvE9wsrocYCZgQp9G4QS9MAAAAnAZ6makJ/AAAfCaZ/WKLZXDODty0ST7MIWdr56c8k3rXBtZsPwsl2AAAAWkGaqkmoQWyZTAhv//6MsAAAPPw7IOygHSL8EeudYL2g9OKDqWyav56cAQ6YmxQqj8dNUe3RfuZ+Y2QZtp75iZDcU+Ezp+b80bLGGM3VhqDolhEWOcfi/FAQ4wAAACdBnshFFSwr/wAAE+KfBgGX9h2CKPixxnjZo688Sf1aDjSaR55s8TMAAAAjAZ7pakJ/AAAfCaZ/WKMmB/RU2s2Dvqhn8hqsBxeHYy+hy9IAAAB9QZruSahBbJlMCG///oywAAA9XCc9y61g9ipfnlEzfHFp/qnZAGuJkR5W6H/IsbY4AWHfARVf3T0xbXTncYIo+axmtppZnF1QNS2DSD0SWNLg9s8Oso8dc6mMFa83XMMnlynmPx06Efx+SppDxuXL4udbrXWy+c9vwcMSZngAAAA6QZ8MRRUsK/8AABPlJf11BJfhw9UK+JI0/mKOYiuDpNypQABunbBZayj5HhP7MlIUwsJBG2QreRMdoQAAAC4Bnyt0Qn8AAB8YylkWVvJRROZJogOaaEKGcX6ta7jqUJM0JiYtoqRJouTlcyqAAAAALgGfLWpCfwAAHlmoP/3u+uE2IsknAFQtUwZzpDd7znuPouL/OV3X6PTcZvAvmpkAAABrQZsySahBbJlMCG///oywAAA7p9Ds7mAAz7LJSTz3vfZp8VmCwRrEaMy3/0B/TaHTSALsecFOoOturjzYaLhV/c/P9NWyvFAb/J9O4P6EvzHvgFZaa/gchKgIX+TpgHKYv0QCi8F4mU5DezEAAAA3QZ9QRRUsK/8AABNWLuDAQ1wb9zUM7iIeH2gP9ACtK8Uq3lw1A5Sj2UW//tvh0Bh6K6O5p2hkKgAAACYBn290Qn8AAB5W6aN8z7ExT3kQX9BwYcdRWupc4c47gLRHMd+fMQAAACQBn3FqQn8AAB5ZpwXiQ7NCsfsXtRCWQW97KgaQBqkzvXpHVtAAAABxQZt2SahBbJlMCG///oywAAA7nGzvcgHSEqFfLyMt4JQ6AEJ7dafrtZptL+Kn76mgDtHVoFeszf+HRevA6cvJvR51w9QbBrhWa47WtVzbN/UgGWEirYv4UV8WGS/v+5n/7hnpb0EEv29gYx1ASBu6OIEAAAArQZ+URRUsK/8AABNWLqpabort00d4sj/82kyARUfT9I6+QY9zgDqYSikwwQAAACwBn7N0Qn8AAB5oylkWfXHQOSXV+pL0gQda85Eyc2SDnt5UAT3XzS0kqcH5QAAAACUBn7VqQn8AAB5Zpn9ZD6erwqKH7CbIduWLg0HHUX5qyDdESrMMAAAAT0GbukmoQWyZTAhv//6MsAAAO5xs0T4uSQsxpc0a+dZ3PMW8AKDLqGvNoaK5nPZFPegHGSWPg7zki5B1+YiS7mWSCs/SeIGyJYAmYBIfXfsAAAA0QZ/YRRUsK/8AABNWLseL7PYRS4NVPgAoUdjgYosOQI5/OS9NHTaxQmyE0yocgL6/z1Xf0wAAACEBn/d0Qn8AAB5oyXc8AP/imoF6I7FmeNq6vgblEsWAfMEAAAAtAZ/5akJ/AAAeWaZ/WQ+ngu6t9WbYTvj6EGjuTFHxaTZt2Umjh4GFp6gY/EPAAAAAZUGb/kmoQWyZTAhv//6MsAAAO/wnPczb2D2GIwvoALvLN8nQqzOxSygHttfbxOIz07IjAZniLA3nmfRoCmH5fl/eR+GEGnBD9cz+GWxldxk+DhLqPuV7dLBBKX3d35HtaTkU7h6ZAAAAMkGeHEUVLCv/AAATXRysaPRDZYOok35/kgWSs27MyEVv4xMuiqM6/cSmZmEcH0w2ulQdAAAAJwGeO3RCfwAAHlbofUFIgkygnYKUwcA+TFhSpqcHAcOfXyFSYpl7oQAAAC4Bnj1qQn8AAB5cjYmgjpS1kxU1rI4zVywegF2B8+Jh//AWWo+WkoCwP1cgbjkdAAAAYUGaIkmoQWyZTAhv//6MsAAAOjxs73HhJ4O0OBj5iRWTU2id7Qv/qcIIV9YgBXejdDoCZTkf4iKvDKI/enlIJyoBatXHB10BNaq5aS5DIQznwBBtSL6QBAA4c3ERPOzzbFAAAAA7QZ5ARRUsK/8AABLWLqhhWPt1tUr3qRWQ4BEm6+LnNbrdGDYZb+o3/TLlmbyDyFrnft8mL+Wh8XwwM/wAAAAyAZ5/dEJ/AAAdpukHwGdd4RyhzKOVec/s3JT6kqxVYKyNfXGPcWPY9KoB9bSWAsKDP+EAAAAkAZ5hakJ/AAAdqaZ/WY+kwTV9U1hdsE9/dEtlIAWjZmFPmz/AAAAAVkGaZkmoQWyZTAhv//6MsAAAOjwqr3HhJ1rXgBCT97fvc5Y2oBqeSS7HILEforKrSLH6/tRYjGv0MjienaE8qXIuve2REIM5TEmNn3iXkeCgQFiDXkIDAAAAMUGehEUVLCv/AAAS1oz7lDDYvos2IgYGLaUoldTD1m6ma4QePR5bRbJ2xR1a8zFgzx0AAAAjAZ6jdEJ/AAAduMpZFqV0UzJAFpp94LViK/fvlktP/Vf83+sAAAAjAZ6lakJ/AAAdrJU6PSwbNRfn0lprGSJQxyuMTd3hN8IRF/0AAABSQZqqSahBbJlMCG///oywAAA6PGzRPi5JFF6+ZgQEiyPX+6/YgA46TOpSdqVpHLoFedb1QlMN00qI0xngLdtP+AflZMJcmOosmvzQl4P1TyEqgAAAADBBnshFFSwr/wAAEtaM+5Qw2L6LELlXtdSCTmwJkwTxXtb+REL9/IPEVUI+5agkVSAAAAAkAZ7ndEJ/AAAduMpZFqV0T4lEeE1NTeQTLLxJ+WWDg86WIP+BAAAAKgGe6WpCfwAAHbfpcvHLfJHUcseqJ42UW6GKCVwPH0mHk9NYn3ScAr5VIAAAAGRBmu5JqEFsmUwIb//+jLAAADqcJz3M29g9ln6eTAbmixBqsdPz8QzACxY4V01SO4Uc/N5PW3f7508goMvuEdKUz1Vdk0bBY8Gc2jKeVHJ393EWbh+lrq7gFKV4HdxtMY1DzGCSAAAAQ0GfDEUVLCv/AAAS3V9utHx9OCMDeqzY8pPs3R665uhuVXniXtK4zYyodLiHtbGyDQsQBcOkNqPL9KHq8QnuRjwsZqkAAAAoAZ8rdEJ/AAAduMpZFqV0R25AbepS4oAKMTakwi8Ugz1UywMpwOlUqQAAADEBny1qQn8AAB2ppn9Zj6StvWtP1k8eQasXtwOfMqTrAppo7dCGcWSz6ntk2VFPwIqBAAAAYUGbMkmoQWyZTAhv//6MsAAAONxs76cRCYxk8RvgTlLQ/6dGbSAc3XcfE7shr4n4wEWSGfPoqOkrzpdmimBiX/gArDiCoSqho+AkwCObsz8vVAZWp3TOTzUzirIV1bGbgVkAAAA5QZ9QRRUsK/8AABJWLuDBQ1X5T4AP363NDJA5NVnor3ghs6yg7yv28S1Hr4Q2k4xYTyYW3tefaXh4AAAAJgGfb3RCfwAAHPbpp/y3MWT9FC1P5fBtA9rwDDjEAOAe2P4N4+BBAAAANAGfcWpCfwAAHPmm8h6QNIlBF9TuISr2kFVaAEsjIiR29YxU70b0RLa78t2yeImwk+QykqgAAABHQZt2SahBbJlMCG///oywAAA43CqvhUAKDP32Aj9VmDIkbadUl5E8UXFbIR+J40O3n0wyK2t6Fb6Mpb6TkwXeUfhKYGiDuQEAAAAwQZ+URRUsK/8AABJWjPuUUNibCVqwpMQsrNYU0LBt8C7Tl4gaaPh7pQIw4mScpZDxAAAAJgGfs3RCfwAAHQjKWRbNc9duRqnycHakpaKjH6SPQhwOG3GzaQqAAAAALwGftWpCfwAAHPyVPD0k41Q+1xpn1QgzJ9xZhtYVQLLR4Lv1DKPi9e7ibpGLGJDwAAAATkGbukmoQWyZTAhv//6MsAAAONxs6bhAutn4jDoyVpuarBRJCAxjqNCmhwA9/XUpDWbvKMU/1jTUAzWaZmOvQn1/YjLICFeO8Vs2Ofj1gQAAAC1Bn9hFFSwr/wAAElaM+5RQ2JsJWrNKQZkN35SrwoYkkpRdlcADtYpUp64qleYAAAAoAZ/3dEJ/AAAdCMpZFs1z1wvuEY7VUfaFQNAkNJ4I4EbC6K7ZSPX5gQAAAC0Bn/lqQn8AAB0H6XNJyosytJgGfMCTXC+CZrvJ0QI1gyMQ1NJ80Zy6W9ae/pAAAAByQZv+SahBbJlMCG///oywAAA5PrZkulAIWlJgB1GOoRNIAQR4L0iYL9RVNSg73Wh/su+NnZHO7tvycpcbZTphlEPQMZfqez4hZ3ncc4Dc1O024YGwV0nduOgLDQ8uRtIekRMs9++HNOrdrO3HiT1llBSRAAAANEGeHEUVLCv/AAASVi7Hi/b2CVFYroro8l2pDcTvTapRT8mBFmKCFoOhMuH5ioCgW/qLoeEAAAAmAZ47dEJ/AAAdCMpZFs1z1249TlTgBA4yx4Tx1UOLbpqtigQi6kEAAAAqAZ49akJ/AAAc+fPf7KyvalZw0GgdKE6ZAe2Pl/I2tKREnFc/JGv/ShvNAAAAYUGaIUmoQWyZTAhv//6MsAAAN4rOsS+it3axb8TPH2BqqV5FeAAIU5neijABgJ8aB+6ODd4Jrk6+DoA/wnGFc9f3mcTXOEP9MliAoof939yGirdZ8C5nskd11jXyIJbwSmgAAAAuQZ5fRRUsK/8AABHWLxVO2Apr8RgsKXefPtJp1v/eUJdS2RH39pHa7i6p7vAsPAAAACMBnmBqQn8AABxJqEv+88hq9wEZeqa/oGBZnySvtJ8KIvRe6QAAAEpBmmRJqEFsmUwIb//+jLAAADeLcIKehidkAHGdZgORHwxtAvvj50EFgRzPTezQXI510w26Qlj8tyx0bx0wd/zrp5l3R5lHMlkFPAAAAEBBnoJFFSwr/wAAEda17qSm1SHSAALZ+LXVMTs3xyzjpbDsjZn33s5jpgO22AzjQT7hrAgQJoNIADFrj1kLt/uYAAAAMQGeo2pCfwAAHEyVPj0gqcYaNVDLXEB6LjdmgF8oASX8gGBJ1V3+St9+RLG+brE/S+EAAAA0QZqoSahBbJlMCG///oywAAA3iwWg6TwutnyRFnr0GI0gQrvkRGtK/3M+XOUXyMgq4wQrsQAAADZBnsZFFSwr/wAAEZ4mztZns4oie4UoX1OLVhDG5Svf+joxQcWIX435ZjlCWgBZ5MFI1t/eS8cAAAAlAZ7ldEJ/AAAcRsTllqDBnR02i4KFH0yqoXITrIhLq+qsAVmHgAAAACMBnudqQn8AABxW7oq7TvkAF1NrjrQ70qYwDdDb+psblVGU3wAAAg9liIQAEP/+906/AptFl2oDklcK9sqkJlm5UmsB8qYAAAMAAAMAAAMC2vR4kzvk1PE2AAADAQcAKGFTESEgFLG8KgSxBQ4x+C0aCLoskeCjYb8ESuEOFwokqrt2qhplysk8zhi3m74jOD5KTgGdCfIEbn8IpYAp6sqByJRrH3/926tsRrycqAeOHBbAJLCfD7eU6YRGvxauwEy4RuB9rbgIp+AV4FFp6ofkFBErGcBT6Xn21EMzZ70OdQ14mqkswAYCbifZEQ08E+JQ2BVkV71wVgBYW04PCiThOuTKDV6QCIPqrbXsYAqjIud8ZI/OQuMO16esJuNA0VBjYKwsLuQuEVQ4DUOxUyUYU6H8PZZryAPPgvVmb5mWXba5hO/RxlXV4/n8pk9VHlAouosP1z7/5Mzbzl61U547RM7nD2O4fZqoIN4ItptfdXuDFGBV4Lre/BCivlLhkFP6asPgz7lS6QkblW+2l0Tbhy5eyRcaSr1URt/E3XVfaVcaGFCFTTZr7TTJUit9UkFIgESrO3prdfCMzsvEPxmEpPdiifJUVeH6RtzJK7eC+EGQLQl4BltNNuM16ZTN+7Vd+FPItcdZRbKD6eeTizAIo8FRYUHqi4AFOEs0NX5szR5kFjMqCQSvXJkKZU45W7T41N25+h41PqECBhezykrmztnewvYb0aJVLCgP/gAAAwAAAwAkIQAAAJJBmiRsQ3/+jLAAAEYKrn0cXzYgDaGxvc2/Dy1qqkUP59QI6dsSQoCoRJxTDtperAejzcuBQYVc+9PJ1eaZySTcnV6/8Dit/6yMg6qf1BmwISOGtFJcpYfujO/y+BoDwvYcNEOL0Mc7HBpQvg6yJaHSqoAL+USR+96rLIR2x4bPztoyDKWgpnWRBfMxSuqfotKwkAAAAC5BnkJ4hX8AABa1KzUItubjKLcPXHpEI8ERY0g4QSE+vZto9cGqa0SmLnz61bbMAAAAHgGeYXRCfwAAI8MXaKmlU9T7wgmOsb9h4RjIouXyTQAAAB8BnmNqQn8AACPHvYsZv8skd4NGn66GIQCu+vi203wYAAAAekGaaEmoQWiZTAhv//6MsAAAGokyxvhb4NgAM21FLFWau6VaE1uLfprJwWzXPRH4ZXDcwVKK/Ra2413s9DCqYHzD24z06qab8OURI/tPtwrSykuDlUFDLTMDJ+yA5S29oXLSBsTsGiHKKoqSHUBgwqXVWh7rx+3uqUBJAAAAHkGehkURLCv/AAAIa/rnG80vXFTPNg+caxypx9aLbwAAABsBnqV0Qn8AAA2F3S2CS2lx7+P0K1Tk1QI+A7cAAAAQAZ6nakJ/AAADAEOB+uwc0QAAABtBmqxJqEFsmUwIb//+jLAAAAMAiCNY5GZmB6wAAAASQZ7KRRUsK/8AAAMAKyq0oJ2BAAAAOwGe6XRCfwAADYevm3cE5uRLTsrOuhIpNVj+x6LsQLhnZ/hhgAe1mY3ARTbVoFyw964K5F0uQPCWN/wdAAAADgGe62pCfwAAAwAAAwGpAAAAXEGa8EmoQWyZTAhv//6MsAAAGokzoDcb5c3J9ZTI71fC7QYECqVnDOX5gHsXCFPMsaAn6PElUS9wDtvvvciiFeWDhG6iRDEJDDEFOrWDt9kZ/wIQkxa5AFbahl5gAAAAK0GfDkUVLCv/AAAIbyHnr+yvjJT5pqPDGcF1u4qwbTQAQCI/0i+Nhfx+ng0AAAAWAZ8tdEJ/AAADAAo/tD2DegrjAbHiAgAAAB4Bny9qQn8AAA2ElS6ADPEzX2QXfyTKZRyAllQq5JMAAAA2QZs0SahBbJlMCG///oywAABGAvd5zLxNarmDqklcukWDsUd6tCknADTONbTtjFagLNCSGgkHAAAAIEGfUkUVLCv/AAAWvEPNtxYX2R3XfbLUr0ggXpKR4pmBAAAAEQGfcXRCfwAABR0PwG6gmAjZAAAAFwGfc2pCfwAAI7HMCW+pb7IVSTC2NNdxAAAARUGbeEmoQWyZTAhv//6MsAAARhDBSAtb9zredVWkB7U8yhZM2avFjUf6+66xQPmzULPM04yVQvcAKkhZqLQNlqk0dgrRrQAAAC1Bn5ZFFSwr/wAAFrxDzbcVzK8BRPDMCWI/NjYiICAEEYahLZUlsvAr49/2XwYAAAAWAZ+1dEJ/AAADAAo/tD2DegrjAbHiAgAAAB8Bn7dqQn8AACO/BCcSyWmauFZTHyo+C/NO8zNO3HJBAAAAXUGbu0moQWyZTAhv//6MsAAARgL3eczV2hGmQbI5kL2ojejIFgMzE9WCQzYUIhhgHN1Hpb8Tu3YANqXhor+lW8KYUQL/Bwo9z4Q8q0mhM3I6xr69SqyVtormomun5AAAACFBn9lFFSwr/wAAFrxDzcu60iwtKwshaePJhw9NRGbhf8cAAAAbAZ/6akJ/AAAjvwQn7gcmGQvatjwJuU5azv8HAAAAPUGb/0moQWyZTAhv//6MsAAARhDFrCNC8721DHWLuFHriAFvVT8bLOmnWSFQ04MeFdQBGfjXs4IEDMpDg0sAAAAhQZ4dRRUsK/8AABa8Q823FcysjUFyzpXSJYvCPEgQzhyRAAAADgGePHRCfwAAAwAAAwGpAAAALQGePmpCfwAAI7c6Qm5wd8/HOM464Y4mO7N4MU4DvxzxAxCHjMBI3NolbfnbgAAAAHVBmiJJqEFsmUwIb//+jLAAAEYA9rbJkEtmnl3MD+rG/nNmmVqA4VdGXvR2jNOLGU0IAQRAy8x6VXxefCPGww27hkYua4FfQ6gxQMI8sIANo+WbKULo8so2gbnfpiRj3LWf2QTNlvCHVfNzgjsPUQfihkaGziEAAAAyQZ5ARRUsK/8AABYsULQSvZ3+5avTgskduKbbPWw7CLlKgfVIAE4wArf6ExeaJxcDdtwAAAAqAZ5hakJ/AAAivx+MKWyByhx7dRg/FUJnFt89Az14AJE1AB9gGy5QiteDAAAAdUGaZEmoQWyZTBRMN//+jLAAABoB8WL/r+23vCFrREKKjpBjgR1MeZsE/8g29Tp8eQAG+t11irZCEg9ak0daCdpzFSf/RHQ3dLccxRh/jCaSZgCgUPjEKoXXRtgrYJshWEwOIDiEOku20w4iLuDbCTnt18xAWQAAABsBnoNqQn8AAA0v1jZuyNIoSrd7oNNHpPznJyQAAACTQZqISeEKUmUwIb/+jLAAAEQCBfzHhqQAogYJt+F03nKHFs3+4+t5S3qavmf66ugvzP+v4WTlWBWSo1JDuhq7iVIY+jfUToj0aLeOLKgU/Nlhqh2YsKYLTWrju+CvrOmsGNCi3RIkN1UBn0px3Bb6aZrJ8f4t42HCR8nbjbkTog24010lijt38v07fQmNqhyCR4WRAAAALEGepkU0TCv/AAAWIyyLxKqXFACxgmRf9alIRxL2Mrc/T13Gvh+DwjLRyATZAAAAHwGexXRCfwAAIqw5AiOS58UTsN9IVIedeRiepqpHbcAAAAAeAZ7HakJ/AAAisisHDRKJsEkJGvObcFUpRR0xXLixAAAAlEGazEmoQWiZTAhv//6MsAAARAIFT6ytdh9oyndPG/GvNwvmii3yOHZAavsaAG71ol7aFv9W96SwzCv0rar6sr2njFk0MVhIqWV5X3IOB+Cug8SO0KP5qPMPVpeyvWV3LJqTGfv4QExRKM+eo3EEmtq7plhWHv/65FjIqBeSA4xiC62etOImozDToGFApmfgfnYsmOAAAAA4QZ7qRREsK/8AABYjK7lKAte+nBSn7ZFdvVYbyCl0bmcVPldQER8IwALvs1OnPAOH/ObXBVxL+HcAAAAmAZ8JdEJ/AAAiwxdir13Xfz4WYWBpoSljoA//xF6yEYdTfjYGJsEAAAAjAZ8LakJ/AAAivwQnEe+WD0k+oSPsw7VzL6JX8bYdj14VAx8AAAB0QZsQSahBbJlMCG///oywAABEAgV5PQSqlTzZaYbuzeyG8vyvjmAKQmYKGT0MlLrQYK69L8d4xf9KRRankY7fMnh18KgKmN737Fn34CtcoFIK1TtyMfVXbBQBmIPN0O1wFYpJaH45cphHwMZJUAmjf0YAn8UAAAAsQZ8uRRUsK/8AABYjK7UFuRwv5VQtiv92IGWeyXbtL4+Aj8DHfVTWwCZ8PBEAAAAuAZ9NdEJ/AAAiwxdSyq0AJZHs3kZJnFYyrG9TYFU4JVtnmGVgCxJ9CfX451onwAAAADMBn09qQn8AACK/BCAhVoASyOd2ZdGS5wEoYWjFO8YE+/2FXl1vGGt+/m6GE2JlwXbPmLEAAABAQZtUSahBbJlMCG///oywAABEAgi+IBFaT7JebbNPY1Pt5nAA5yXhXkOtW4Ht4B71GvoUi2Ztf6R8yQSCd8J71AAAAClBn3JFFSwr/wAAFd+W3UkEqy4cZprqmc1yTVxMZhRWEBPhquaz9GtvQQAAAB4Bn5F0Qn8AACKr+Ft4Ep1oI4gRnroxvQ4wA+gp2NkAAAAeAZ+TakJ/AAAiscwJb6lvshVJAMdAFwAa8oCQJISbAAAAXEGbmEmoQWyZTAhv//6MsAAARBCUqxBnor0nk2LaAA1YL+z9F8pdgldDw3YDnW0TfsLOPftzO2e/069qMKq1PD54cdRM9AqV45t+35W30tbO6mWOW6HfkWAqQtIPAAAALkGftkUVLCv/AAAWK19utGEaB/gKti5rcUYQkE5GS6M1qkg7nV7q3jp950g8OkgAAAAmAZ/VdEJ/AAAiwLfdOe1EXNoe1FvaCK69UXHqTiMuHJM6YP+OT4AAAAAeAZ/XakJ/AAAivwQnEslpmrhWUx8qO34vrhkUcvFhAAAAaEGb3EmoQWyZTAhv//6MsAAARAIFKTnV3kwU1YCViZy77daqLMce2j5qn0CznmBUjXWcrACns3oVu51A5arGfdjo2tocCBa+zNXBVW1aNruAe1+hmv6DVJMpV/XVu1drimsNQtSCsFf8AAAAKUGf+kUVLCv/AAAWIyu1BRZH7XTik+gYGkGW8aokpBVNIWGmJGx4oXTAAAAAJwGeGXRCfwAAIsMXYq8fk9sM4NI1zJULQAB83kEbG201NUNXRQBQQQAAACMBnhtqQn8AACKxzA923L/LqodaUmNIogBbjepevcOIFFGdJQAAAHFBmgBJqEFsmUwIb//+jLAAAER6bZ5J2iR12WlkFimawkCOvOTO5/34e/JrUFwCDlipCl4lZpU7f5PGmr7DIvoDz5s9qrmmJd8wZWusJs8cH9G3s/9gyG0MhfnnhpFsMdljwxkArsZwhjPQ+BqbTJ6ccQAAACxBnj5FFSwr/wAAFh46/27qenbyj8zNsbjLemKJPvGlTzSvPAdx86Mu1NnR1QAAACABnl10Qn8AACLAt+lYfEGPQHUM/J2kvm9X0qTOFeBqDgAAACYBnl9qQn8AACG/Gs845MiWQLHTjMDyY6N3b/elKVOEGVpikuhwqQAAAL5BmkRJqEFsmUwIb//+jLAAAEIQkawMdyQ6Evg71F1I3PrYyPowIolGQMwwnOABtVB5o0TudD5tlBOR2hlycmpYLSCo0cnr6Sk4N2hZ+lFHh7bnqqWP7g4wl8Yr47ovdBsIz1V1cOFLjRfjus9ARMMpQ2sYToV2Ohp64YPs8X3cZPtC39Ri1+n+avy6UW1DAkErC7NJBktlkKVzY798hW/2UjhhdF/Rtbu5qobRfddIzs8NDPy/SIM22NQunwnAAAAALUGeYkUVLCv/AAAVkywDvtW0sduiznqZaDXsU90fw3wdCRovdui83Uuzr/xvHAAAACsBnoF0Qn8AACHAucwPgouVXMuy+bKzCPbT/m2UwHkoP49nievIog4nOhwrAAAAIgGeg2pCfwAAIbHMCW+s7joGjqeA30YiSE8cM3e4N2l7cqAAAACQQZqISahBbJlMCG///oywAABCAPbYtaARYJxcEvOxI2dM330QycHLPGYjfmMwovVDl7YtPVEBFBKknbzKj4OpXrDr32t9AE8+Nt/srfE/+dplizeGMVNIbFmTiL5CqlgvgALaWWtFfw58w9Qssfj0fZYlDo7S1MYf/6GRo6NVLaNs3xjQmzeKdZDbDAy1GvvpAAAAOkGepkUVLCv/AAAVm19itqLDnGTCXs21rAqKN/sQUQV/VmL3pMlLdVyxMoN5EwEirjRvuyFY2Q7FRGEAAAAqAZ7FdEJ/AAAhqc9Uz14oJGtACUn9H6BaCDPrtFdEK7NHLqqLMEdvlaiMAAAAMwGex2pCfwAAIbHMDU5Y7blt7VSfhT5o3dJN7+gzlpYzgQiVMKsgeaDqOTrEoP3HOqn9oQAAAHlBmsxJqEFsmUwIb//+jLAAAEIQkbVf6FP0z37mHImSOAGmk8Os+E97vVTZnGRqYhueU+0BRdBn9sWCbOGtswm9+3FAZgW/+2kPqV8krffyGIh0iDj8U+ovA0AKTFvV9f4tjAUue1kjGyW/88zEV88L7jAxsWbBOzzIAAAAMEGe6kUVLCv/AAAVkyu1Bbkffop95XLC4Z73G4KsQANbNfWobVzqLkveAOV1crztgQAAACQBnwl0Qn8AACHAuN/BXpVMYl0q9u11z8oz8XDXstd6/0U8pFUAAAAhAZ8LakJ/AAAhscwJb+cyKNzLsXI5KG3iAUiayi9J6oioAAAAZUGbEEmoQWyZTAhv//6MsAAAQgFG+WzjPSqc72IpOqXv2p9h5CxiAsmZI0/gDllX0bIAAGTJDr4fS6oEukIPP+v0kJpG3PWPR8rz24P6+T6Fc/5BZJ8yTvqpmKGwFFNxe3vFqfhQAAAAKEGfLkUVLCv/AAAVkp3IWRKJJADWvlDkmZpDy6MFrqbWHThEOAjrEVEAAAAkAZ9NdEJ/AAAhwLgeu2d6Ya6IkUfsFT7QAaQzc7kJ1KwF1ydsAAAAIQGfT2pCfwAAIa4xL9F5Q7PNtkBlKqATLGNvlppAAfFv6wAAAKNBm1RJqEFsmUwIb//+jLAAAEJ+KoDZwhrhcMVMjfFI50oCH6MIQOir8XShKUNLzOShZgrcYzW6rh/1Og9cgeZedoxI/UqXS8QXsmSoeXPEnNL9TiN3rXGhtw0VgLoaXwXBC3wFzZZIqVLeo/kvdOhEYA5u1iwkEpiLJD/2aAiuzthPd52y1CcJClNzACji/6TRmcF0FrB/ur+MiNCmssFohAFAAAAAKkGfckUVLCv/AAAVkp8GATSDQXo62BLEBG8SDZ8X0KjHsi64OQ8DIrFqQQAAACYBn5F0Qn8AACGr+F7YPULsXRBgmTd761HokEXnzsM1QFe9sQJ9xwAAACQBn5NqQn8AACGlYi50xgR292SM0fz7Ng+wUIf/EEmdgRAFVmEAAACKQZuYSahBbJlMCG///oywAABAAUbY3eMSsXHUxBAO3q3Y93xdu8igNFbCta0Vsot2wV/olAr5RctEkytzSpU4abyd8eY/N+Vw1y8GAyP9y+t+9vlecFlWl49A/IQR6bkGQkwROdfG5VpLgAQDFWbZZvEzWN4r40fGsIeozr+ipqJxXFTm34BKGtUVAAAAN0GftkUVLCv/AAAVAp8JzuzEbucN0pnM3iCZBUlfTMbx8tvGEps9MV7R4ovnZ3mxjXQwDtJY58AAAAApAZ/VdEJ/AAAgqc/uuYfvCgMsagGoplmNtt+bdpCVCkojv82AvQoVjsAAAAApAZ/XakJ/AAAgrjHRoDyKxOHlSW8yQwZiMpK1juHFAGRSf7hKvl2zp3EAAABEQZvcSahBbJlMCG///oywAABAAUbYnoEnVYN57nY8BfxfjYQ5bwAcbe/0hBtGQ9+TqOhNbzazOQaV+SGBka8WmhzwLoAAAAAtQZ/6RRUsK/8AABUCnqi0O1gQooR23OEer3KcVokxmENIjhGzlRbNdjkhbn4bAAAAMAGeGXRCfwAAIMC438FbBawEbHNJzR79tVHDsndYEwBWWKYaXQ9O2EE0NxPeZy/6YQAAADYBnhtqQn8AACCuMS/Re51evvMpmkkkauIIxALbHKWED27ewumxys0bAgArnovsMz76pMYf900AAABWQZoASahBbJlMCG///oywAABAAPbRkwEjZ5L52PEyKRBwbfA4aXWhmYZli+g3LfzsACw7kPpSnLpYLac1gmFtAxzdkwLB/V4oguBE9JTTAJodBc7vZDEAAAAjQZ4+RRUsK/8AABULlDVd0aH9OSewKOqOV1Jbtr1B1cDJnlAAAAAjAZ5ddEJ/AAAgq/hbeBQLYVxHJOb3AaoskpFrHCkDm0PPumAAAAAfAZ5fakJ/AAAgrjEv0XlDs822QGUnIMs3CN2oEkSPgQAAAIpBmkRJqEFsmUwIb//+jLAAAEB7EubhNeucKUiAL+cl42gEfIVN/ru2y05kWjUZG/Mxz7bXkDCtH8mC7EG/qKcJZDUwEWaWZSvtwIQwRY0ZcIkk7EXOGNujhjTZ8D9aq9FvsEz6Z80515aS5W+4DkISdD6f8PKQE3PxMRvju3ccICxtc9u2Kb8NI/cAAAAlQZ5iRRUsK/8AABUCnt43G0cL+XQ17GS7sB8d3PXrUFYh2cLvQAAAACIBnoF0Qn8AACCpzsWThXQ25K1/pIhC3p4ND4Sg7geB4kj5AAAAIgGeg2pCfwAAIK4xL9F5Q7PNtkBlJyDLNwe3i8hPejF8E4AAAABrQZqISahBbJlMCG///oywAABAem89y5/AcNbqml7n2Rzct6koXO5Zm9Xq4vsKj7dCJjTpih6+AMOVVYXiKYYfsvjy/qGfdjfz9HUD4FaDiQbJHSehgOIvY7ZjaG8DTpKaIvQhZIgudxTfxYEAAAAvQZ6mRRUsK/8AABUFJfyWIS2UIr6Dk66HrRTgJtGqLxAp/NXKMrxt68WHxwonfdEAAAAlAZ7FdEJ/AAAgq/SUbsXWyieUiv9DMOyEVIm5tGoB3RY7X0LZgAAAACQBnsdqQn8AAB+5pxWPlpRm/3qyP6Vcv74frPQRvfhqL2R26kEAAACJQZrMSahBbJlMCG///oywAAA+djqSvZXQBvPoscOjzgaVAef3S6t2Hvtlcwm2Jt8TtMP7FjEk473moWG3Q6U9/WcmzYhYIni45sQiTs6JKZGYmNhI25obIg5ORr5Lo6L/vPvOsIpzGDrsUHOsJLQdS12/KD3uLdBrMf+dYFfOlkhq1AtKrGG+vYAAAAAoQZ7qRRUsK/8AABRzK7UFufxecMvlhBIiiLQYG+dWJg1v1W4eY40QCQAAAC0Bnwl0Qn8AAB+26PagYb98H7Kga77qsCxnx2F54Ov/DeTrMWeC4wF1OYrTndEAAAAvAZ8LakJ/AAAfvJUYAV44uO8Lg5h21jDsLzwdf+G0/TTf6uYNaheAX4/TAVgNdsAAAABsQZsOSahBbJlMFEw3//6MsAAAPlwqr3HhKCeG1ubz5F7utOoABwIEot4X4FhkXL8wtRZ1Fm72X435JupA4onqPxszYkgzf9gnS54GdVCunlab5ApMyxaUt4RWTLePc+Nbd6ZHZ+jeZmeecaRYAAAAIwGfLWpCfwAAH7jtNr0IYOkTWwvkJ8zRSNGuk4h5qBSiH8sxAAAAX0GbMknhClJlMCG//oywAAA+Z9Dss9OANhGS8PnmUrFOJwYfgrYn5moF0d0Oaf72gcE9lbJa3O0CmaYdammrF5h5M4nPelmBf6frY89rtMnYzm+lAAabNCalNHx5HhXAAAAALkGfUEU0TCv/AAAUcyu1Ba/poirXkyoBOzRkTyFuAoVn0CR2DANcPZgNg1+uJoEAAAAmAZ9vdEJ/AAAfyMmy9BsprnUBNrtK8abmUOhILBtsCd/FcMk6e0AAAAAmAZ9xakJ/AAAfvJUYpwW7varzkVVGpwElQs6dxcn/jOPZ0Alk+YEAAACGQZt2SahBaJlMCG///oywAAA+vCc9y61g9ln6eTEkcAAhT2Z1SPMR0pmDPaCjdyDMzvWdRUT0DAis4cd07HBn1T/3HCFTzzLwz0V3Dt7r3WC21a7ecXYPcot8LEkj14vQNyCgfE5c6TtXjCrEU4Qqy82YVoxjKgOER8J45+4JTYbT3K9vnYEAAAA6QZ+URREsK/8AABR7GF0PUIPakoAWL+RPgK6IiuDAM+2YBM5ZdwcRHF+K9X5esLh8sN4I64L4Y2DBFwAAACoBn7N0Qn8AAB/IylkUK300AJLwMcTQkGxHuSPgu3ICZuJOrhHWUffkT4EAAAAsAZ+1akJ/AAAfvI2Iz6nSUAJLwpVs1hOFaMSLg0MyXLCUkN2F5nXhJvvp4xwAAABmQZu6SahBbJlMCG///oywAAA9B9Ds7mAAz7Lnj+sRn5Kn9IFlhzGzGx7Job/2pCChy+EAXAfKLaUl8LMk0m26fDsC0INWGNVPBPmomcrVpAFGH0u+9wmVLxSx+3r30euXqF2Aai5gAAAALkGf2EUVLCv/AAAT4p8JzuzEPzdC0nGZjyqtAoNvaUXkSNwqCP17IZCWGHcwDHEAAAAlAZ/3dEJ/AAAfGMrtjzjUF7hT+IiA8Ta8kvNHlcVma0ilHmaAsAAAADIBn/lqQn8AAB8JpxWDsSblJAItC0Y2EKp0SIZao0ASeuTIfh6px/2+8H4w6LTJK6N4CwAAAE1Bm/5JqEFsmUwIb//+jLAAADz8bO9x4SdVg3nudhnPv8pSgA42+Azc07gF8Ux3V0HCuGHk/k6n9UzHySYP6S07rcC4T9fk0rjLP//1MQAAAChBnhxFFSwr/wAAE5+WztJk25gNjNVuGtVTT3GP6VDh1arLFQrFhDRhAAAAIQGeO3RCfwAAHwboevryQl/oUcgLiELc6PMcLPtMQr8uwQAAACUBnj1qQn8AAB8Jpn9SMtOpW0miCzrjUSBC5HW7juitanVDccPuAAAAU0GaIkmoQWyZTAhv//6MsAAAPQfQ7PJlAIE2SkoRwbwolPBjIHQR53hXYE91hmvH3SACh7358g900oVf7Eh928Q6i5lCArwGQpx3C+qqg56TdV3wAAAAPEGeQEUVLCv/AAAT4f2+CJGanUCdF87oXIEQOeHA8QUgBxT8xZhm0htUokff8YFt1NztMsLm28BEEL/vSQAAACYBnn90Qn8AAB8IfabQ8uTqL3opO9/cOEuiTwQGotXd7bev1n9ekAAAAC4BnmFqQn8AAB8I7YL4kncpdJ7jHK9YPoubnpVMn7ZrMKcwrUrU5b8oQqZjaWygAAAAekGaZkmoQWyZTAhv//6MsAAAPPwrihYiXaR0tG9LuIXBBC6U+sU/xv4BgbxXDHICPXKLpvA5TF2EOJcx9SPxcM5A6LVYvMrzSFlS/C2nC341hcNy5mY7N7Z3aNsSB+8MkQyYHnw1OFZXxtQdQaW9GjWZ/7UL/KKRX+SBAAAALUGehEUVLCv/AAAT4p7eNxtHC/l0NfAp180u7ITgUD95Z3ziT09MuQtA/9T5gAAAACwBnqN0Qn8AAB8IfabBOq2RK8UOYQO6Aeiy3MsUlwX12BqMnRvibYJURsyBgQAAACwBnqVqQn8AAB8MjYjoJDgRwYg0NvymHJ4rMYf7Mym2ctp4j65X00oeoGhqVQAAAG9BmqpJqEFsmUwIb//+jLAAAD1cJz3Lp5gNORHCDJ+9M5MrTbamB8N0sOA0iLgxz+GUCzpRnq4qnpJRJJ/iyAbkSYCWjNtMBrMK29BJgww8YJq8xp0WE7zhpoCXE52G2ZPtIY3jwXtCbYlZl00ExXAAAAA+QZ7IRRUsK/8AABNWLuC3dmIfm1S04d48vvBKMvwJnRjNmFcpG7anEaFcy+RyeJDOr3syEN85L6lYWCXSP+cAAAAqAZ7ndEJ/AAAeVul7r30c9HG0RqYYlYN94Hoh+6rNDWj3Mwkegl0CZI70AAAAMQGe6WpCfwAAHlmm8gSIPQAkvaaxGuMcQs9ihUgbI/8SyNjtmZ6mfQRDq6kJ2zx3AIEAAABpQZruSahBbJlMCG///oywAAA7nG424BNKeWMkRN6zAOv9dSyOfmyQ0kV/LHmGOWXdzz4BvLsyz/O2sWUmYzKBSL0JZKnlV0is03YzMD37rcr+sNdEAnSMiLZ4d6DB05cYFV5LNCdjP3y1AAAAI0GfDEUVLCv/AAATVi6qWh5p4MXzYVPXdOKqBMbGenC4tIoBAAAAIQGfK3RCfwAAHmjKWRQrZNXZJ9nyS8IKKpW/h9qI8Iy1QAAAACMBny1qQn8AAB5Zpn9RkMQAmjEisdzFm4RFqpI96T7J+fKoBQAAAGRBmzJJqEFsmUwIb//+jLAAADucKq+NAANYP6oP7g1LYLGGj8Oju+TQiHAqD1XI0xSWaSWJzrY6LHQWu9qSkqKqWGm01gQgK6wOCWOL+why8XcBy5x4LW8xCHyFklDv1fQU0NEUAAAAK0GfUEUVLCv/AAATXZQ1Xd4XUmJposskgZqfaKSrKvi/tMQHUZZN9+Eec90AAAAnAZ9vdEJ/AAAeWH2mwhUJ41MIxX6huBXVdsq9cBd1OBquwL0lAkT0AAAAJAGfcWpCfwAAHlmmf1F5Q7PJSYNH67W2ontd7EGeCLv+AmInwQAAAEhBm3RJqEFsmUwUTDf//oywAAA7nQoovrkkLMaXTvNS6y3oALu8aRo8CXCLqQ4CNQwovQZfEBD60BzmFSrD6McIayuLc7G6aA0AAAAjAZ+TakJ/AAAeWaZ/UXlDs82l457FCo/Mo6jtgTg4H2h1QM0AAACSQZuYSeEKUmUwIb/+jLAAADv8Jz3M29g9kkfe9c0QhZjczsgdWqlUgGcm74wUDjSXVfOqieR3LaKY5MfvWYOPKpyZ0+HgEEoQilnAsfocc5hOGFsSwR2WW0cRGf0PDNsWSwtLr0AIRUZqdOHZ5LMKQlbb+cC7Jz3ThKmhk6JWg+0EytHwG6LzwMQB1aKB5N659V8AAABGQZ+2RTRMK/8AABNYsvEzrJGVOWLgIQhmJKFpPSLth+dP0BJskFJptHfn5Qoz3sIGFKv+jOSxgiXtN/wTS8ufO6xpuqbq/wAAACMBn9V0Qn8AAB5W6PTyNe+yfBqODLSQhifSyUj5LjKPPqqe6AAAACgBn9dqQn8AAB5cjYjoxvBjkctQkvyFOhLMCFY7yQBfaMRmRC2r5CD/AAAAdUGb2kmoQWiZTBTw3/6MsAAAOj0KM7eVVeUHy6+kbUAAVslAv/jU2r2EY7cevg7lUdd6BbeWq2HgNpTq/q6ot3LSDZC5Hp9RdWOm2wsUGXpQWzVg3ms8nlwbUlRxg/FuosUj6xXu/sin/v9bAp9Ixz/+upJXEAAAACUBn/lqQn8AAB2ppxWPlpRm/1sPbIj4WLDMTuBqkxEKYhKt/Tr4AAAAYEGb/knhClJlMCG//oywAAA6PCqvceGAgAJi/gHLs2Uf+GKOl8BVWCRQI9YrYpaVJp3POc1UTuEaecTpGFVe5ZPVgZ3urL2gnybYmhg0CzGuh30rDmX+9CXxuPADFLc6wQAAACZBnhxFNEwr/wAAEtYux4uNo4X8yocWSLev7xX23c7dYSFwri0p/wAAACoBnjt0Qn8AAB2ofaasF5eGtu1HcFLaHutQE4rDc3WOCUC8oZOLhzHvel8AAAAhAZ49akJ/AAAdqaZ/UXlDs821kb+LjsvwWa628b+JJmaAAAAAWEGaIkmoQWiZTAhv//6MsAAAOjxs73HhJ1WDF490bMlCVoS0hhJSFRJd2jBADj3J33apnOJ2pjfT7MNWMvHY8O8w3uqdKz2B8Rw0FLfJ0voOVvNQNx1VZiAAAAAsQZ5ARREsK/8AABLWLqpaHmngxfXLn9wcCuAQBA4rumkg6XLj/36gV/BAX+EAAAAoAZ5/dEJ/AAAduMpZFDFgAC51aZ1FJIIkt1HsNrpUwQoi47p8VXfr0wAAACUBnmFqQn8AAB2ppn9Rc5vebu4F8HFo498UPg0BV20u9Rj3Te7AAAAAT0GaZkmoQWyZTAhv//6MsAAAOjwqkOyeSQsxoKcPLYRnSR1ORKsPQ/sG4w2HKAI8AXDczMtrBLVoKUc03TNyO5LXLNgLwIa2/AuIZ5D7i6EAAAArQZ6ERRUsK/8AABLdlDOilbutnbxgjcYOOscFZT5wu/TQSVdYSu0KT4rMZwAAACsBnqN0Qn8AAB2ofaa+rxl7lVDtS4545P1Dn/RinTPGqbP5RDhWZH77on3BAAAAIwGepWpCfwAAHammf1F7nWZwDYlJ9/Z4XYLhyiPNVG3oWkVJAAAAdUGaqkmoQWyZTAhv//6MsAAAOpwnPcutYM4PCWod7joLQNsRh58ozSh7RpniiWoxu8XAES1VQcm2jvx6euDxfXWZtcwTXjVrfH6Ml4HEfIe9bPXp69ObQrbccPXTpTN2u7Vsa23MYdNNG+1rwUXM+AQuxFcvQAAAAD9BnshFFSwr/wAAEtiy8qwvDcxIaUNYxzHDmwW7S26yhiOPi64GrnOFFqEBrV1XSicBac5XmNWqf667jsLzdIEAAAAwAZ7ndEJ/AAAdpuh6+UfTpm7O/N0Z+P/QAku8KYt5pfinZORfuTrFb6puQRyw+nKYAAAAJgGe6WpCfwAAHayocnDK8F3+y1CMA/NdUwNV02Fzeaq4L2GfBpDBAAAAYEGa7kmoQWyZTAhv//6MsAAAOPY6xnbSy8YTGMnZT2B8YKnrKrR09L/pcWGYg5KLkcFtz8h27hw2qAze6Pkh6s+0X4//WeKs+NIjl9WP7X+lElNP2mE3/g7lwNirNRiqGQAAADZBnwxFFSwr/wAAElaM+5Pvp1zpWbDJIaQQ/DjJ25Wvz1hyb6s2RNh7Auo+wTcm5Ze/AA/Jg4AAAAAlAZ8rdEJ/AAAdCvjyqbNoETEEgee+M7l1EYifTUvVwqCGiHfICAAAACABny1qQn8AAB0H6XJDi0GjEml0/5a0Kop8JkdwX4EJVQAAAFBBmzJJqEFsmUwIb//+jLAAADjcbQ47Vu8ImQVi5kl3iB18K2qYBZaernvbgB/H+m9UaAsxWqY/iPpViSugtOFdJ2QUcPqJOeRPxdNZybccIQAAADhBn1BFFSwr/wAAEh3kue2c8kh2R+zac9kXDCA20EwA4212bm7B6cKyY/GKIiraw+13xbvjm2kAQQAAACoBn290Qn8AABz26Hr9QMxV68r9BlOke5haWKUtbQwNy5LtKWvPVwtY3YAAAAAlAZ9xakJ/AAAdBsAdtC+gqkYsL/AlNgoASXdtOW3dUe+ATC5FgQAAAGRBm3ZJqEFsmUwIb//+jLAAADjnzMrQ1PytorwAC7Pp6NbhQaCkKgqXSAPZj6AfhUjUVW2bsw+sLogVPT3n8JscrDI3tKGK7ZnMQ51IPXHdvysr7v9yl9RTW04C1eeqreyhAjNNAAAAL0GflEUVLCv/AAASVi7Hi5ad9zFUAJLCboxgCEQADdUSU6JrWIiTjyfcDKp3GKmBAAAAIwGfs3RCfwAAHQr48pzq7DIFmHt06QL51Aj9LCBihlY+aRg5AAAAJAGftWpCfwAAHPmmf1Iy06lbT/9d0I74hrV3HM5W30OfgRyygAAAADNBm7dJqEFsmUwIb//+jLAAADjdxd468kTwk1CRS+yxvGWZz62fbxHBrgAFdrlyQvmU7jQAAAB/QZvbSeEKUmUwIb/+jLAAADk8hFNwkTeQWthHdfMB2FKy4xgcb40mBffpo5tpjpcmILUgLNqm3AZ6ENBEmxtgH5Abev35lJhSdBH7jXcg+DHeFfyzqvvNcD/wlDjhlGUTRTL+NXMBjS3RZXpC+F2uIl6I+/uUnm2O4Z2ZzBhggQAAADZBn/lFNEwr/wAAElYux4s6UaZTcyedo79HugpWBlQAGrRUrGyw3dvn+TxtQ4cRCHRl4zsoDl0AAAAmAZ4YdEJ/AAAc+H2mwhUJ41MIxX6huBXVdsqseCTA/4PdAxpdTVAAAAAqAZ4aakJ/AAAc+fPf4nBX6w2pdKJCL6XZoOKI17s6RLZkPt8CqFNqHzI3AAAAhUGaHkmoQWiZTAhv//6MsAAAOTwnPcNlYPXmykiQAZF+x84uyDoIgRc4Pyo1+z7AcxmGguEQbfG29+ZjH/JbMsayUsSN0Q5aprBTzRne5w+fk6YVmSmd8u0/Q15tSUvHD+m1VA+Ya3yHO5eOpVCe960wImebc6eZnXjR/pSI7NAOzLIO9UUAAAAuQZ48RREsK/8AABJX8a686UgqBJH+QV0TxVnjyTWoFgmsBd4exBF+8Q/+ydTvSQAAADEBnl1qQn8AABxJp/+154ITY2p1bzyiq38zRZQgmxZigTWKd/2e8N+L3A3fDeyovXpAAAAAcEGaQkmoQWyZTAhv//6MsAAAN5ddWtKom19aAA+R+MffD9b29D7QSZBI/lpEDXJ3iuh97DKe7dYuczxLv/UY67Y1/EJRoj4BjVPFonHXwADHlqbq7V9jyCq1pHX1m5DVZPQhokVmQDC6mLcUfIul04AAAAA2QZ5gRRUsK/8AABHWPynaNWJi2so0kHLBGgFPJE/zQ/7LCALdIFsZBcpp67jf/4pbQrEoFzcxAAAALgGen3RCfwAAHEiLPMsVoltgGuARaFwb5KKDK4iCzAIIRz/NGUCJiJB0W3v8U8cAAAArAZ6BakJ/AAAcSfTA4G6mwfsqBrvuqwLGfHYXng6/8NqWjYOiKi0krOS33QAAAD1BmoZJqEFsmUwIb//+jLAAADeK2nmQdue8i3r4l1YWthPtJlaAuwhH7ZBUJSCAAh9NVjDIdY6aeMnh86JNAAAAM0GepEUVLCv/AAAR3RhdXaWMQQD+cS5UKKS4+IbQ+kGc5pRdzvkvMr6a3BxU/z48qWcPgAAAACQBnsN0Qn8AABv2eteBcLd2osjK85/xXw22eMT40F1asukofdEAAAAlAZ7FakJ/AAAcV+lsnyls6MVSeGM8kmthfS0BFQYGBisd6xbzfQAAADJBmshJqEFsmUwUTDf//oywAAA3i3CCnoEnVYN6iLyC4v+02gZzoa6hDf6eYCkHuoXHgAAAACABnudqQn8AABxJpn9ReUOzzbucRzBMRHwj/hCWKLXmkwAAAadliIIABD/+906/AptFl2oDklcK9sqkJlm5UmsB8qYAAAMAAAMAAAMC2vR4kzvk1PE2AAADAQcAKGFTESEgFLG8KgSxBQ4x+C0aCLoskdwTJnQq/azR4rqpNLmwedJ6X9ZMuk0hS4yCCu42Hii+ec3p+9F8GwQXtMiB2K6wjp43xjhuA51CuCE50KzxsMgVg1ibhdNiHoJ/CEBbfyKgNUUmhudLZEIBV8mMpeTrkZMVTxNZ1Jzb3vH85IAGzxRTWHD9oUhwjH1wPk/eYqM19NHyOVzs0q4/+O/52sYy27tGSo+fLqnzxlQIUXz5/89BrR5VKTx4YFEOTFCXSDbZPrs7y9eJ3UqgMQtCtm9prIzv/mze5xhbI34V/tIuWLEi6k+gn4qhSkM8VLBvrvSeWSbIUdpCcSLf5bmQ2LgBNP1h7Htq4PJYqfXK2gu31F4MZvD83ZZfGklytrUpkPRBNFhWxGRdT6NIADvHJiX0CDPxmgbFVtYBHlB3fDL7aPDRgczlofwDzjruALR2cktfdVHMi1Eyv564vgZcliJyggUEwAAAAwAABQwAAABAQZokbEN//oywAAAKBDnqSniwQmQA2prsxmPI9HhD3PiQW+f8g5qKZcIASpCAO6OvrtofHy9yF+dRyYq92v7jCQAAABxBnkJ4hX8AAAMDOFMKsOF+dEtqUHCPPAfqs3ZvAAAAGgGeYXRCfwAABR/Qwc62jcNX2BFaCJxmV2zAAAAAEgGeY2pCfwAAAwAKhmqbeGuJgAAAAGRBmmhJqEFomUwIb//+jLAAAEYC9vJ58g6AApCJVwq/t4i49ZDTY1Z6AiWXGX7FVqKmY8s4IXYh7/0l9cqFwLBsBL8dJffZF9r+KDiB+subHJ3fSvtyEd85eCLaxfptP63ssPLhAAAAIEGehkURLCv/AAAWtSs3a2CgKih59f9t2AXQxutEG2zAAAAAHwGepXRCfwAAI8MXaKmlU91JGQkWUylxggt3JKSa7jkAAAAQAZ6nakJ/AAAFH5chM0ALSAAAAGxBmqxJqEFsmUwIb//+jLAAAEYUXUUjcBuy7RHjlIAX+XYfYICoIbfNepyC25McxVSMr7JlMwJu7EIp1ZiHODSlX5O7aqvpqTIBHB0oCsT95z35xFeQfHJqkTtz998TaIVzQvMx4ElnIa0T48EAAAAzQZ7KRRUsK/8AABa1Kzi0tUhauK4a27p71XHJVrsACz9zGrgp7N8xO+EqxhghJa2GhtmBAAAAIAGe6XRCfwAAI8MXaKmopo+5B8fDPU08L0MShN7Cg4qBAAAALgGe62pCfwAADYSVLuJw4feo10lITS9VqsWq5N3apfAAWE18llazF0d8jze9W0EAAAAyQZrwSahBbJlMCG///oywAABGAvbyegSd012QEdjEAazm7aQEH1sCWYBy50nbi5DyBXsAAAAvQZ8ORRUsK/8AABa8Q823FcysmUk+B0KLZj0doVdZZg4AZywx7enjexwYKR3rXgwAAAAWAZ8tdEJ/AAADAAo/tD2DegrjAbHiAwAAABoBny9qQn8AACO/BCcSyWmauFZTHyhKmtoTBgAAADJBmzRJqEFsmUwIb//+jLAAAEYQwUgLWKKwM2Kk/LA5Fs2Mx0V8d31usCAFusWRKpxBsAAAAC5Bn1JFFSwr/wAAFrxDzcwOKIcCCiT6Foku+/NXX9VlugC7Ew5N2/477uHXKlbNAAAAGwGfcXRCfwAADYXdL2ySqep94QXdx5sbCBAckQAAABcBn3NqQn8AACO/BCcSyWmauFZTJIAU0QAAAC5Bm3hJqEFsmUwIb//+jLAAAEYC9ljj0dbifeds/20GomalrriTMQiNWhFD3FtgAAAAJkGflkUVLCv/AAAWvEPN+MZhAQhWjLRgPS1xV7SD1WBI0e3an6ICAAAAGwGftXRCfwAADYXdL3bOLUGKH3iwx6TIpqVbcQAAABgBn7dqQn8AACOxzAlvqW+yFUkWi0uBdZUAAAB7QZu8SahBbJlMCG///oywAABGex5HPpGQC2AAeSW3ez/A5Mg3eoW6eYMQJxmTUbd8Vuchd0ddEymJHmAM3oW9qbehWtu1CVk/+7r9XPr41lcuZdGzSoEUjz8uvZUtKTgOtLuxGYI4uTfVGX/UUayksbhpobkjzVZ0hi/AAAAAKkGf2kUVLCv/AAAWu5Q3IydCDLVqzpzs1a5ztF8WU1IYqhvJXFxXiBqQEQAAAB0Bn/l0Qn8AACPDF2ippVPU+8Iv0QpE5g1fRhfICAAAABkBn/tqQn8AACO/BCcSyWmauFZTHyg9z5lRAAAAOUGb/0moQWyZTAhv//6MsAAARgFGtsmIQ9X/wtgAmNdL/lOnsQ8btg7+/9jRsJb03YADaU10LAwGOQAAACJBnh1FFSwr/wAAFrxDzRyyEgKhz7IBDDxOgYYf0M7076nwAAAAHAGePmpCfwAAI7HMCW+oWIHw1kB2qQwcOY1+tmEAAAB4QZojSahBbJlMCG///oywAABEAgX+rwzS/JH08p0PkzAAUV62NjZj0h2AsuGoi+X753D/8UXTco3AA095aY/T8yCrZ3M5hZZ9eO50O3vOlLyyckzWhDb/DORFaVctC3j5ajPnrrTWQrAgevAZI9oqSoMPXZQL4ubMAAAAKUGeQUUVLCv/AAAWIyyPf0ryWl72XMC88oYNMkjwNG/Q4CnBnCfHjHhXAAAAKwGeYHRCfwAAIqw5YRS0pKysH61UKeiTis9iC+1CMNKbekV0db/Y5hFG2YEAAAApAZ5iakJ/AAAivxndkWsMCaslEQVqgKYREa/ZYcae+tzNaltw0Yw9kgIAAACfQZpnSahBbJlMCG///oywAABEAgUxhMrsPs82TZYlASTSsAVYBwSOpW7iyM5QMb5/xg9KgU5sn0IoFl1UwDx27nOm+Dzh3WNS7AmE+LEr3NVDrWz2COJ6hU5CnqRZ3gKNPYpD/oA+hZXMwSsGqhYANuomasIT9q3q/KriSlFLpZHYHuh2dKpmzSToH8MImQ0pJqaEUGslwwU9J8p76DcbAAAANUGehUUVLCv/AAAWIytvC/MMFcI6SlT6GIMgpSDKwIl99B+kdre2b047YCXRUm+sq+LuManBAAAAJAGepHRCfwAAIsMXaKml4rTrb6V/YU9PJObP+QgWfbRGo9OYIAAAACsBnqZqQn8AACK/BCWPNnCQm8SfWoNtCzDG7uD3AJaGfHodcslb5wjb1YdxAAAAlEGaq0moQWyZTAhv//6MsAAARAIFeT1DpBj6HyxXdptG0VzGABqTbhHi7afhL6JKfde7JZ2seUMxyuvrXM7rM+NYFZOF0jqkKlijo184xvruBPF1CcpZ8tHr82sPb/tIpFkde7IlMK+MeVq6WMLSNIHHeUdIIlGfUryvsHPbeJ65q6enl/fFIlhajouJdH8PWANv6HgAAAA8QZ7JRRUsK/8AABYjK7UEimTj+q3jgvHou844IJ6gBJectt5wBT3k4jkx2xORORIA0u2ffJ+h7h4WdnehAAAAIgGe6HRCfwAAIsMXaKmlVDT+DqqHxXpQwUH9/HVvIskn3oEAAAApAZ7qakJ/AAAiscwPdtzRYbKj0gqRAHQLA9fJiLmID5STl3wtDgOAa3sAAABMQZrvSahBbJlMCG///oywAABEAPbYnoEnVYT+JAFbetAjtwzdbw+v9JKD0NRjGuRulFHuhKF7FWqgz+V4/GCuvvjJeudm+8PL92MdOQAAACNBnw1FFSwr/wAAFd+WztNF2K9j2zDlX+ZPquhF0IUo2FvN6AAAACsBnyx0Qn8AACKr+Fk0cMhc5SyhF4xy6avH0eVn1G45OZDOH7RHYmZjqcdMAAAAIAGfLmpCfwAAIr2VrbriWlkF/ytAkaCxNWm02tx6ZybBAAAAZkGbM0moQWyZTAhv//6MsAAARBCZrPX6a2z4+xo8/Akv/AdA/5Kv5QAAAwF2BTnQ1tkrHS0LgLpkgM2hK7008VMqRmwf/Zl2wPh8oyVvyzauATZhUTmZHVFn8BvEPZkQEEBovgjcsAAAADNBn1FFFSwr/wAAFiuUNV3eGVI5nbMPIIAnazYphtElmYobwwsQ+ImjruYFJRdfG3RdybAAAAAwAZ9wdEJ/AAAiq/hdSA8ttbwMNVlokSpMJACRpfExi0oY0weDRfv6UBnoebS3Yk9ZAAAAJAGfcmpCfwAAIq4xL9AMIypNuEc+PV2bnUj9FdfvQj4iAKcmwQAAAG5Bm3dJqEFsmUwIb//+jLAAAER7EuWjICTcr7Z/r6JUABMhBQZkkv486x8JVvMRGISSAcWRQryk4fOj5WLrcAzwV8tFSlS7Y2P5RkJA3CWEh65XdJ1fv1CDzwErSQD9lFrVmdioyF4eggB+M4w1+QAAAChBn5VFFSwr/wAAFiuUVCLYO77h5sd8hp9u1z+rslbMzpjNJdLB69SbAAAAHQGftHRCfwAAIsMXaKmlU9UEc3vlNojpDvVYdJCwAAAALQGftmpCfwAAIq4xN6H63SAUCJkQ+3U6TCvbCGvgcc+Rbi4yAD+cDia3kqGTYQAAAF9Bm7hJqEFsmUwIb//+jLAAAEIQwYAdv/VWwP37NKAYVF6/IR1MLoYsARs5Jf8wGXePLRU9KyVl7SLBdL+HVQBNkn2k1C5CRm2hbVuaGd6ySitWbmtmvbp/Gxg1oMOIgAAAAJtBm9xJ4QpSZTAhv/6MsAAARHpvPcugn+7VVx8keMM4VLQ+Fzx/6sDGRqiqQvKfhQA671LFJLelftdbZ/WREQnAScndabZlq5rnBisQsx1ZsHmvcfi6gmeiDA7T7KVUDx1dMwPxvU+hYgBuCIbUgn+3Fai0QNSk1IpZmO5Ix3Tw2v3o2IbmU9EkuXgphp4zHyTKuqJ6oXit8Ton4AAAAC9Bn/pFNEwr/wAAFiUl/JYhLZQivoOTq1vkGkDqPLqCXUUa1cHYmycDwuCElnJhRwAAACkBnhl0Qn8AACKr9JRnj1ttbAAoFKrtgAPX3m+jPKBDtH45qfqoaeO6DAAAACcBnhtqQn8AACGuMeJuFMHKv0rka3VuUb3k8B6FJzaI+ZdvOqe78cEAAAB9QZoASahBaJlMCG///oywAABCAPbYnoEnVYN58I/xLVCAFyo//9etAkbZ5oycZH2LIvZxLb3EwJ2KzN243X1SKd+YA2mt3CDV0XAAfYeOt7rtvPpqBPlZbqpUi9/o2oZK2mJC16T94jwMbVYipdDxS+InFKCIEdux3+GQk4EAAAA+QZ4+RREsK/8AABWTK7UF/CdBggsX5V73yH7DGYXeFBJaEZnDuaLgoeNi3Hfo1jPEf0UvMY83rUdin7OyjMAAAAApAZ5ddEJ/AAAhwLjfwVMaIxH/j4MwATPewKIVFq13QxHvfSlFniPW44EAAAAuAZ5fakJ/AAAhvwQn2Mhi80U8+6Iat8/AAEhot5cxIy+6NZDsyd7uQ4Xr9B0MqAAAAGBBmkJJqEFsmUwUTDf//oywAABCAgV5PQeTbSna5iAHHcWEq1iyALHXCPhUxeeei+00rs7Scs+ARJsUlKtUQzkrdKQlDy9/v8/C2LMP3V/3Zut/5zy9k9bjccFm+bm6v6EAAAAmAZ5hakJ/AAAhrjEvz+j6MJA75OrELTFdY1OMzxhnDUF1UYPSxVMAAABqQZpmSeEKUmUwIb/+jLAAAEIBCtieg7c6iADUcKS4YnxHHkbg6xsJDxPcwvHMfg7ro2aFxyHZamsDYB1I0p1GSndNRBUqNFqDkxkdqYq3l4X2ejtNyjZtupUcenFw+AGd3mqsLYYF70czmAAAADpBnoRFNEwr/wAAFZtfbrRmDu+6G4lHaPfhQRakhmppQAr/G75b/P+pLInrW6+5G+YBDPIdsDMFXo8kAAAAJwGeo3RCfwAAIcC438FekWhDntsQDu3F52wyJP8lltDmVIgLpNFccQAAACkBnqVqQn8AACGxzA926FiAArV5E0RB+BrmScTkSVFXuEtfV+iYouvlGAAAAGlBmqpJqEFomUwIb//+jLAAAEJ43+BpvvgDR7T/WlrNrbfVJud7wL8wo4ggBKW/I2b2La6MreDVYYYKgHEJGzdLt7QcpGDEjlM3anbevWpCW37Rc1Pa1tNCa45BmSAC599pwYl/vGmEwoEAAAA6QZ7IRREsK/8AABWTK7UGRerjoygAcSq8Vv15CxfEuxcryxRXlsDJfW7ckzLYtW+XL+xvAPY11ei3HAAAACIBnud0Qn8AACHAuN/BXpFm8pCGS8v3GBiYdUhCTVgK51SjAAAAJQGe6WpCfwAAIbHL/FwQNS3zMvbtHu0A3RRxpUW55f9Lvk62RUEAAACzQZruSahBbJlMCG///oywAABCem89y5/ASVeUI7Qzb8j6zjkGA7/MAIU4c/Katqq1pWn+hvMrXL7PbrFaKaQFJsXXgwmxi2+TLTICVLu3XTP1hOt9ck2pE9a87ulxzZH/jMIxfkGUtcvGQr3HR6CD3OiJpiNdMRe86kCDgslV1dNG3MNswz3Dl7P82dTJYLoe+251Vxj0Qq/7SIfNQgo/ob9Smregrb9s2+HTB9dab6mWLqEAAAA/QZ8MRRUsK/8AABWVJfyWIXuLB1dnAbuo9TCrpoEeItBvDBLRqNtGpilU/+g1/CFbAf4Xj+mSW3RNrnS6hrrxAAAAMgGfK3RCfwAAIav0lKslJCVxt6wTpEVAlhsKV9pS0CbSYkYQcLky7DAd/tenWWZ8W80wAAAAKQGfLWpCfwAAIK4x4lvgniCmhvAMS9SZepNpN5lpMtxtCDDHoldrVdSAAAAAb0GbMkmoQWyZTAhv//6MsAAAQAFG2J6BJ2dWnMDpdP+iGMsefE4MtoxDr4GADJN7dSZBJf9SQL4YRuVBBU92ImFCWPKQ5wroLkidhQ3PTOMlXDf5lVBrmpC/RLwkhZ2AiY4hpKr/yKRCFQkzPA/eoQAAADZBn1BFFSwr/wAAFQKeqLQ7WBAzJgLqbJak9bjB0eAAz6Gp5qJ4O5iTviAT6AbT8H06Eo2MJ0wAAAAsAZ9vdEJ/AAAgwLjfwVsFoY096IjoUuTkrdbx4nQR40IVP8poxc2FifTuDYAAAAAmAZ9xakJ/AAAgrjEv0XudcJPwN4rqqTbDC9FUIvw1f7G4mHe3VMEAAAB4QZt2SahBbJlMCG///oywAABAAUbRkuN9dm+oCGXfITsPads/KIt81H7RZFXFisgBxdivpDspQlXVUQvh7JHcyDDn3GZwEJlYL6dkC4bz3lmryi+oo/M2MZnvk/9ToXmhyqyh+pPo8db+KnJWcwrKWshU4fkGhbuBAAAAMUGflEUVLCv/AAAVAp6os6JE4zSFbv4gghJFINVkHXOE1GOzF3VcYgF+bt3j/ZTmAocAAAAyAZ+zdEJ/AAAgwLjfwCxKYVLdACUOVnBlzvkg2x4bJse0dSiIYK5k5X4jsgNaBjOSWVgAAAAkAZ+1akJ/AAAgrpC7z+HQ9AJ+4SmPx0NzDPcgJQYCt+/p6Vd6AAAAakGbuUmoQWyZTAhv//6MsAAAQAEK1eLsEJHB8AwAEPvoeFTwu/xMbYBLN230PAC9ntEQ+KMCqsHi+6mHwuolcDuE3GsLQw7IDDMX67i4cG61600MGVfcNjGZsjoEWnzgrACUjU7uvO1LWMEAAAArQZ/XRRUsK/8AABUCnt43G0cL+Yex1Adwq1x4kx39VWETyjwg/r4w3lYaGAAAACABn/hqQn8AACCuMS/ReUOzzbZAZScgyzcHt5m7xyELvQAAAJVBm/1JqEFsmUwIb//+jLAAAEB6b0GGclB+W4a3VNL3Pt9ND97Fh4INyEtng69xEATbsx+bxP3qVXukRxCxpun8YK120EfEO+2t4DFo6dudholaAr5qDX/sjVy+E2ShFJRPW7mdhfzi7/NtC04z+ty2gN8gly4GXuELN/SVS5+PRkIkZcGbcIXS6IwVy4Yy3moCBSx9YQAAADxBnhtFFSwr/wAAFQU3Pyd6gDLBP9SeMDfY+vuxnvPXiSMYfZ7a8SaCWLD5NZSxF4g2z4pLWFHo5qjLe3AAAAArAZ46dEJ/AAAgpTN+2eZu7XLUK/F54KIa5sVGxwH+zhLXVueP9H1DhnDugQAAACcBnjxqQn8AAB+47YrHZc0pSgl3vomgvkjNKNxS54h+tGi4k3WsCd0AAABlQZo/SahBbJlMFEw3//6MsAAAPl0KY+HMzYkbTlnjtiU5OLrem5j5nxt3/0SlTe2TmwBAK3TArQJQfWiKjraKn2Dxq3eckp0Dtwszxu/R9c1UvU2eH0+hN7xNCPD8u59oMUQoj/AAAAAxAZ5eakJ/AAAfx+lsnywvXSvzABK/lsv/Bhf840NO9u7FncF/FuGv/0SmQMvgJSFxGQAAAFVBmkNJ4QpSZTAhv/6MsAAAPlxs73HhJ1WDee52Gc+/iSZgAnjYF0iwXz8IEa8MYp+1EDHfuQ9XwNQBmFJ3DGWrl58Q9lw6wUvA4q1Cnh3asx0f31KQAAAALUGeYUU0TCv/AAAUcp6otDtYEKKEduLMofrf2TudD1hx7HAfw2eYLNLZKEUxKQAAACcBnoB0Qn8AAB/K+PKLIYmwNtEIrbetZbE5ZvgGFS50ZLngQU+olIEAAAAlAZ6CakJ/AAAfuaZ/UXudSmKb8PmBrrltyQLEyhZLWrCzHFHLMAAAAGtBmodJqEFomUwIb//+jLAAAD5cdxG4Bq73vYECVwQOj52CJXkWWsDFlxwiq+6dZy702s7nXjM2jDgg9FAkLWjh1YRpaYs73s83qusXiTJ0ZygAkE7cGgLhuKJLQNdLDlzUJPA5J/S+DM7tVgAAACVBnqVFESwr/wAAFHKe3jcbRwv5dDXsZLuTgdtq8z30DVoenuxNAAAAIgGexHRCfwAAH7boevryQl/oUcgLiELc6PKNbNFfaC1xd0AAAAAjAZ7GakJ/AAAfuaXPvsllrK4Qke9vF3walisnLU+9Z+OPYi0AAACYQZrLSahBbJlMCG///oywAAA+vCc9y61g9aeyOHycrSuACgUAFtnA2/tjx7qbzv/w95Ni/wegRbfnI1/ULeZnOS/CJdElEq/nBvoPayJ71v5pRGaeZmaFE2j+AbhPrvbAbm4QsAYiPGVvixKtB/YbDLZsV2xZSqixfmOIZ+ScJeHUxwXXbuDY1ye0LFwZPQnl7kwtTJ+QnLgAAABBQZ7pRRUsK/8AABR1Jf1MytnAABbQMyUUSiudlRdMDned679mLLYFD23u0ZoYHsmGfni0u25uoqjpg6ZTERZuZHcAAAA6AZ8IdEJ/AAAfsk+nwCfZsRHKAEl3VG9dd06nOoYNpNDmeZMvunfXNT6gcaYQEVjVmkJbBovw41BF6QAAACsBnwpqQn8AAB8WwMu7Q1cy2J5KJljqqfM93Hn//wNcWENJzP5/Gdq3y3xxAAAAZ0GbD0moQWyZTAhv//6MsAAAPQfQ7PYCICf7QkvnWEGnnoSY+5OEzn/tw0VmGnTe9RKpTX1cKNcTcwSm5qxiemxBzDcwePq6kuqZfMVFV8X9tjumATiYHcOFBwrLTteTNfT/5uqnozEAAAA1QZ8tRRUsK/8AABPinwezTqfQhPBT3hsd3KwI+tOrvI+/jxsfg44sXeUt1O9yeMpAdrvyj6QAAAApAZ9MdEJ/AAAfBul7ryoZLUGc7Mk63ZrL73OuoYv3cHVp4EFh6C22OqAAAAAmAZ9OakJ/AAAfCacF4Dx//u3IisN+iDq1QJLW1i93pbH25ZtnFYEAAABWQZtTSahBbJlMCG///oywAAA8/IMr3HhJ1V/+nuuUx1pfPgYmZykBe04pABxeWEfcmz125YtVOwqmwhfoJllAg+f/FUxlTjIsEkzJ5aYhY/XwBCWx/sAAAAAnQZ9xRRUsK/8AABPrX0/ys+D4nddrbEBQOeDCjz9oSZODnB+GEy7AAAAAJwGfkHRCfwAAHrZ977nn1ZKTxjBa88IRrwAKXeXa43iy1EM8U9y9IQAAACYBn5JqQn8AAB8Jpn9RZ6vPO8FRUThFXOYcAoV35rPvW3LWtTRekQAAAGRBm5ZJqEFsmUwIb//+jLAAADz7+kbgE05YWNHt6m9ekh2OZ1Ju80SKD8kRaOgXpD4NkGqA9QG/KZTwfQm0INPkLrJEwO3zxNmj8m/UYS1w7LJwrLNZXs8xKqO+hLBsavZrz+YhAAAALkGftEUVLCv/AAAT4p8JzuzEPzG9FQjR1LtrM87l75llRlzvTd2ymMYNiiE9aYAAAAArAZ/VakJ/AAAfDJUYblJGZivNzS0huvAWaZi1aguGFT9fHe48pdI16mNiqAAAAH1Bm9pJqEFsmUwIb//+jLAAAD1cJ0GGcc3OlzCoo8nK0rf95AShVxo1+Rb4nsSSbQBW98BOZtEKhFx60mj92Ip6bAyld0GyTv2IBXlGmu5i9u0vR9Gc65QrfcUhDwDZzTfpjruChUO7IlmFatB66pci4YXyLcSU+djVLANCAwAAACtBn/hFFSwr/wAAE+Ul/UyrDkFY9V7eje6N/hsPh1Si6QIMi8qfUXe67UhgAAAALQGeF3RCfwAAHxjKWRQrZNXZJ83q3+DkMwAAki9s3GDyGnqIOyTpuz3QOoAAqAAAACYBnhlqQn8AAB5ZqAgeC7q2j52Uj1+QJa3a8Rl+6DaX7wW5wgS+YQAAAGdBmh5JqEFsmUwIb//+jLAAADun0OzuYADPsslwXbIw/k4On0RACufCybLNkXOuk/+P2I9Ez7YmZ/ZFIUAtFWqTVboevn6AzF9M+UYb0EZMWvJAZyOZ4CWYKUHFesv7IRDmww09Y3JAAAAAL0GePEUVLCv/AAATXZRO4CY2pTpc1jVKS0sly1YTE4/f5V3/NDneUutCvLc+NRGnAAAAKQGeW3RCfwAAHlih4zzucqjQY22Zqa+DhaVv4T2kf7EC93XiY6iF/UgJAAAAIQGeXWpCfwAAHlmmf1F5Q7PNtkBlJyDLNwjdqzKXQyzaGAAAAF9BmkJJqEFsmUwIb//+jLAAADucdr30D7TLrAcYZ3aU/yvcIKtTzJ1v57EAIrJoGzILwxJnL4DGlE6mRjbMqKWxNtnu/KyjfKmncImwfrV7SKPb2tXxDhNMeDsHhxUcMwAAADJBnmBFFSwr/wAAE1YuqloSGy652kKC3+N6tXw3DrJ12oWzJTO5rAA+RyHGzpZ+iH92wAAAACcBnp90Qn8AAB4Fl9XzWaGNtLvUUCvvwF4IHOOg6dCfnm/QJyL3il8AAAAmAZ6BakJ/AAAeWaZ/UjLTqVuaSeGdUkLFxfkFANcMP7O+o9f2XzEAAABWQZqGSahBbJlMCG///oywAAA7nGzRP+AAJ22UcavcjisaO4q8e4Mtmidncj0quJrfAF0SSQbcQy6BBvIGXEbc9LpYLpj0NRZ6AjwwL4baCJ/38u4sUk4AAAAxQZ6kRRUsK/8AABNWLseLjaOE4eNiR/zT7mAvBD+hMIsghoWrZRAFjEzWa+FaO5Ar/AAAACQBnsN0Qn8AAB5W6Hr68EH6DE279iR142srNM8DSQaEd4a2T0EAAAAmAZ7FakJ/AAAeWaZ/UXlDwn9zTwLR6BUGVMEO9jAkRSNJ3to2ifAAAABtQZrKSahBbJlMCG///oywAAA7/CdBg84LOly5s923TdUZp2+lXxXK7gA0jpntnzj/wzPSQwyGMY2TtGYXZ3LEVRSBEdi7jJ8/8vs1N6NkFKCcwwv3DPVFhFQNzmWTpDt6A6DkrkxydviYeUEaYQAAAC9BnuhFFSwr/wAAE1fxrrzPdkFY9V7eje93kdbY/2Lb36mxDdJ7Nm6Z38lGL6AvHAAAADMBnwd0Qn8AAB5Sqr+bwZml7QAFsasJBnMCbyDLtrb1WpQ3Iff0NoKYpesHkpbCuA0DBv8AAAAjAZ8JakJ/AAAdqaf/tRCM2OwJOMSwEpl0Vx/c2nctPcWshYEAAABYQZsOSahBbJlMCG///oywAAA6PGzvceEnVYN57vjHyiuC6tl0+oB5hUAIyFvKqsWkM3lPxJVRQpjm+oDIQFvSOjQ22BINOl0961Gocyg31pjopgy0/LzL1wAAAERBnyxFFSwr/wAAEt2UTuE3wwAC2hlQ25UUS1ZUsKj/QhOaxHNDJBKAXKxJSLBVuNcFj0QYvEuJ81rDpjDL8zz8qERugQAAAC4Bn0t0Qn8AAB2ooeOnjROwpoaVoASX4UTE21hrIclj+E5YxmKyZZ/7S8UfyE+AAAAAJwGfTWpCfwAAHajtgvkyl7lNDs1wVkrhHXMrZ52nEUcdJxtRJdaaCAAAAElBm1JJqEFsmUwIb//+jLAAADo8bO9x4SdVg3nudhnPv8pSgBGSC4dT0h58GdTDb93ZPEgeGBWfu/4ANOreMyA5FuxlBczHnb+vAAAALEGfcEUVLCv/AAAS3ZRUsY1jHtnqbkzWEhYNm6sOZIKahC18XBs/CtumY+qpAAAAJgGfj3RCfwAAHah9psIVCeNTCNNlr2DRqpGktpzLvGuiJbHaIJswAAAAJAGfkWpCfwAAHajtNr0IYOkTY6pVzDT+L/VyFiZXkRO1UiuM4QAAAFVBm5ZJqEFsmUwIb//+jLAAADo8drhPi3yisCWtKkn4L2vaYrq/QBk+n7RDb5By+DNJ71K3YNMw8i2MAm6N0N4hbWY7ymmiFlpmxGfiMx0YjbKa0Zz5AAAAKkGftEUVLCv/AAAS3YKrt1ytdmtc8yz95MSWYmuxrIFRdGfHWTrMb/Nq1QAAACQBn9N0Qn8AAB2ofabCFO0/BkmNoidTWAxJI+jAXdDSkvf8JtUAAAAmAZ/VakJ/AAAdqO02vQb/96Tu3WYHb0BMWrKV6rO3hVZeI2g2KpAAAABhQZvaSahBbJlMCG///oywAAA6nCc9w2Vg9ln6eTEcVNsFwZtEi1AaLIMKXHJgsAHHSRyfoOz7qBG/2jjSBUqqNd6tcNqdfQem5OSjZ2mumLqmut2lLvgzrabPhF8L9oO2IQAAAD1Bn/hFFSwr/wAAEtI2YtgRxDQbgAFs+H6ksorKCDj41a2BBw9JGBMAkl3JNX0HwLFBw41p2f2mIV/486VQAAAALgGeF3RCfwAAHah9psIU5eXLf4gBZl3x2PIXUJu46OeYVcl8nqR8VM3yYbVr0qgAAAAjAZ4ZakJ/AAAdrI2I6MbwY5HLUJL8hToSzAenyIAOTcENORMAAABoQZoeSahBbJlMCG///oywAAA43Gzp2J8Ae77EQuFWE0PU9QFeY6R9yoGV4vp4L+ypX1bsB0WHMEv7JlwA8Pj+F6QoHi7fOaN+mJyZK26aVHJkBUpN6CJebm6c7VCM99BHl9SG0Op3XBAAAAA4QZ48RRUsK/8AABJWLseLjckesMFTAC/QoDl57BWGoWAl+gyKUz/HZLTmkgWf2SAvH4nyxlTUkXsAAAAtAZ5bdEJ/AAAc9ukHaraZrREMF7cK9fkfVSof+Uiq6VnZ4ohLfJS7jvFT2bOBAAAAJgGeXWpCfwAAHPmmf1F7nWZrsT6MFtTJ6bwUrQ4FqtWKDwOzKfYHAAAAVEGaQkmoQWyZTAhv//6MsAAAONxs73HhJ1WDee52Gc/AQpSgA4299pGgo3Rq/g/uxVhOgCe+WdYqR5Gv/1B25rEdNIVMq36mbao25Zb+Qy3v+eAmmQAAACpBnmBFFSwr/wAAElYuqlodrAhRQdeoMtd+qc0xJtZP1xSKjtPF0LfDlwcAAAAsAZ6fdEJ/AAAdCMpZFCi92Bc8EOQqO7W0rQFDM8xj2sm1tqAhJZRKd2rc+wcAAAAlAZ6BakJ/AAAc+aZ/UXudZnANib51Q1Fp8eIUqmiteK35rrpqgQAAAGBBmoZJqEFsmUwIb//+jLAAADjcbjbgGrPKN6oEnIjIrDpDj3EZvNaxsoStEbTvm0A+25o6NC3Y+ZfEM7RqP0bDdEiv97qZZFeh7MpZleQDC0b8fHJHr+GIOhYIfq0ijNgAAAAiQZ6kRRUsK/8AABJWLseLjaOF/Loa9jJdycDttmPHuVGIswAAACABnsN0Qn8AABz26Hr68kJf6FHIC4hC3OjyjWzQtpk1QQAAACIBnsVqQn8AABz5pn9ReUOzzbZAZScijpHnbYcEipwxrXmAAAAAbkGaykmoQWyZTAhv//6MsAAAOTwnPcutYPZZ+nkxHFTbBcGb7mKFQa96XjIXLgCJhK5je8B4JyCoLNyN4L+6iUnBT9hsh3EEjf5fVtmQgXfqxAJucgdkU86EV5WfQYKYcXAiUxI5hCbvkBK+6hE1AAAAS0Ge6EUVLCv/AAASXZRUsY1jHsziWqT7pdNhURXoAWtop5w6V9/vZT7+giyMJNjjidiAJ7uOqOuKZ9i8FbrW+icgvnjHuA1Jy956cQAAACgBnwd0Qn8AABz4fabCFQnjUwjrM8eW+staJ9sEXQ/Mo/k4gRA9F13dAAAALwGfCWpCfwAAHPyLsB9Ys5eGUXL84qGvwBYwiddoo7bLzVJO3qC95e5BgGH1+dsrAAAAVkGbDkmoQWyZTAhv//6MsAAAN4rOiVTxgZCs0iggClIEnRD0nqAqySm8ovN0kFDvxLjGr4vk/6e8O6bZOnJ/h8phJ/VylxbWkWBYYHigCy3i2tYd4GsRAAAAQUGfLEUVLCv/AAAR1i7guKDdoHBhaOelFsgsyj4rX+Doapt9bOYCViclNE6HqVHgs7fdbtKF1+dChNh9OA5mB0PBAAAAJwGfS3RCfwAAHFsbDnqnKQmqOAdriuHRgdrLpfzMUN3mt3Jt2JQT1gAAACgBn01qQn8AABxJpxWP90nlskPgaANSFITA6/lYOfUiK5hbQgo5XZNAAAAAWUGbUkmoQWyZTAhv//6MsAAAN4sFoOk7tMu7ty1AGC7rz4D6D2GcYjF+XKl4ApyZU3tFZgAQmFHEnoKqF5jYUO6W3wAMAEjNDx2wP9gqZ1eWQYPKdGAk69sxAAAAMUGfcEUVLCv/AAARnibO0ui+X5HMBMbCm2jFeQA1vux/zvJPUFVQX4ITTQhZqgWF9IAAAAAjAZ+PdEJ/AAAcRsTllDqCNwnY6bq6qReRNusi1LId6Xpf8oAAAAAiAZ+RakJ/AAAcVu6KuM3w/b9PxuCI8Sz9lVVwE7VnYFzV4wAAAGBBm5ZJqEFsmUwIb//+jLAAADeUcMsLdqjvA+76f7F2j9bAxO+nh4RnVVI6auRoAR6N2QiKwdpleq5O924NhpdJ6/rQbBjJGyeMMm4zqp7BzL2tnMoxwX6H1emAfnTIDqEAAAAoQZ+0RRUsK/8AABHWbanJXI4X8w1ndk0RcPJBoO+0CYWdRbvq1ZWQQQAAACABn9N0Qn8AABxG6Hr68kJf6FHIC4hC3OjyjWzQtpk3wAAAACcBn9VqQn8AABxMlRfoQnMuZcTvoe+GwXnnAmJCU1ge4sT+HVBvwc4AAAB9QZvaSahBbJlMCG///oywAAA3lHobCndmrd9JwABz6yMtHTmFRb/TaHvFKJts91fM1HrGOBdHCj4HIOj0k1EUqUY50FohL3XELeCAfKGIB2SoFRdde0FlSHieMBMdNDUNZwznFo4eziDRG+3l9BOZoe8oQYpeLlxjHdw3COsAAAA/QZ/4RRUsK/8AABHWLt2Wrdjk3QW20npM8+MW14oEaAt4QBsJBgzeDgMiu3Ar38yEU85Gv1/h//apZ23xNq9AAAAAIwGeF3RCfwAAHEboevryQl/oUcgLiELc6PKM34dcqzk+tT/gAAAAJgGeGWpCfwAAHEyNiOLDmuOvA/7rXxGrQ/zPZjksMdUimGO/aVTPAAAAfkGaHkmoQWyZTAhv//6MsAAANkr+deRa7DGj5da8KxCkopz0wOSDOleEu7FSsl85/srssx+dWKXx0JEvG+SRyFXzo8+XbDtHc+RCwWGNyBxR9eeD4yMygYFhUf3A0bzH3xLri3a3Ps6octcavKTA+jk+ZZTRW2wI4PMdAU0XQgAAADNBnjxFFSwr/wAAEVYu4LiVU+hq3AuUtUYDxpa5j6J73vospmq01WEeiyqfyujWHisrLF0AAAAmAZ5bdEJ/AAAbmpP+U6bJz0VvJE+lKUQMbDnm18RdjwHTm/Q+L0EAAAAlAZ5dakJ/AAAbnQnWmGpzNmY86sWkES0oiS1K0TQ4oTkLYnfoXAAAAE5BmkJJqEFsmUwIb//+jLAAADZKzok1QJOpVUCSETCxxQvl6AEB66DMQiVK0b8z3nXV8xGhJibpvuBMqavyyWu/poQ2bREB0TVX9OTnJTUAAAAmQZ5gRRUsK/8AABFWLseLjXn+nk1FrfT5VaqdyKzP6p3j5sIMQ6QAAAAqAZ6fdEJ/AAAbnAGmrBeY4SOsvXSz1CbvlhNemJPyYJsqz3pd1uyHU+FRAAAAIwGegWpCfwAAG50JWSdx1dm4BewCyM5YQj5G2bfjmLXr3+c1AAAAOEGahkmoQWyZTAhv//6MsAAANkr+iTVAk6rBuVI8Ld0UqIkCeVlf58UnC3QFDK5CnzcD4cc+6V/FAAAAMUGepEUVLCv/AAARVi6qWh2sCFFCO3FmUP1v7J3Oh6w49jgP4bUwMkvpDbUs8eBzc4AAAAAkAZ7DdEJ/AAAbqe99lCqMvRCgyE81WGvoADWqlTPSLncJBRSBAAAAKgGexWpCfwAAG50JWSd2nWZucBrHTsf3Sb0UslIMrx+OECVouen+4Mac4AAAADFBmshJqEFsmUwUTDf//oywAAA2S/jJReSQsxpfCwOfh7Cy7hFz+KygM3IOxvlLcd2RAAAALAGe52pCfwAAG59tGDXX8XA9ZEGSF1OH6lgkjUUWgafKnSXxsYZirfE/dlwqAAACfWWIhAAQ//73Tr8Cm0WXagOSVwr2yqQmWblSawHypgAAAwAAAwAAAwLa9HiTO+TU8TYAAAMBBwAoYVMRISAUsbwqBLaffA6zy2w7Gv/W0yVgPWWPhtwy7Zca+2xikPF3Ma+PVE4qte97XCjq6QtarrXdXqbdyhMwAuayg/L994PLpZnF1CI4dkmxy+ZGUgp3slW/Bu7Ubb6AslHpfh3HBI/XqQ/Ql1s74oEEeRIXGyinxfTgwyPqIFENbB4v0WbjSyBwQSlH4y+zsEFopaJpkwaukhXs4Sb/PwEz4Mdjqe8zoR/My6v9gFJx52j9AoIbPVYCRaIyAxiXRtQ4PwwdtUBbaX1Gn+MAfDGSvVPQ+FOQGtni4U70i7dMGsfzYwd4J6HziXHdM4QqIQZzei5OLaDgTmQ/+kCPHKMsM+Y0y4NFgtYJTmYzJCkAdAGfm7yVMXt7M5uFVAO4EINtQcOpxtrkP4uPSiz+/TaTwsoQb14KoJpylArxbDIqHsHyaxZHX5x+nhDKkci8ZWLeHuR9Zov9fYO8pNbdurCKMPNe37rY9n1sUb+zMR2gvKZ9UIKdAMD1jHXa5XA/0jeeIxPSu/9vGsAy0ZBdSoT32NW8JBuHzE+yI78B2Ud99QRjqKUkEMMUhUGhNVvPjdm6U99bVYCl1uT/9TUOTXBVwMiGfEZbgEHTtvlbWhLBalMh2pe2MQJLps36U3lK8vEDj0PtjRxzLCOJCsyEwg06jY1g/38MD5sO63MrwQygIeH7734WPPQdtrDjU1ZxiXHeUPM+GAIN7GYVB0DATnJpaVHPaoHP/M5B/c/cHRZFeO0tGtNGsAMJdIAwQAAAAwAABJ0AAACwQZokbEN//oywAABIHPnL8wuD+JFMHflb9/pCDfM0rJ+1f0Y/wHp2AGucRIZf72Jz0Pz9T44yH8jOS30/jfY1hNPCK5ZWx/IVZEQTFXDRAZIOUMHhiwL6+lr8m8y8vLTbjIxYoi/EawyQYLa5j33O2a80qQGP67x67svAT6mO5gWR71balOUgNEG0AAv9+DUXJxEtisrQTMDiCDOqZMRgbP5GyNUpqdq6zY1w939zfkEAAAAtQZ5CeIV/AAAXTkuuMpxxoJH7QTftszEXzX4AiYSy24f4s3C45xCfrUA4qWLBAAAAGgGeYXRCfwAADYfoFC1dIpebdPxCdU/GO+KDAAAAHQGeY2pCfwAAJLHMCXA8KembnQrI3J5IvHaVwK2AAAAAX0GaaEmoQWiZTAhv//6MsAAASH4mC4MAlTouaAG0P3W2WrhQFRfT/7/LbvFconqcrsnFit57VJ+cURHBr6WqRMG+b+toMwR4GLpx9VOTGeNycAD0EOssqBTkpoiZJq/gAAAAJEGehkURLCv/AAAWvFC218Hwm5SDDWxtYL+8+5Cqg+6Y4/CHAwAAABABnqV0Qn8AAAMAR1h4oLKAAAAAHwGep2pCfwAAI78fjDfBIKcPlBu1+M2w9IfhG4PMFlAAAAAaQZqsSahBbJlMCG///oywAAADADVet39gJuEAAAASQZ7KRRUsK/8AAAMAENgVwJGBAAAAMgGe6XRCfwAABRqVhQACV6FWwtx+w0JAXon8f3oxFQilpAVRzg9jZLNyaiSRj2lup9ErAAAADgGe62pCfwAAAwAAAwGpAAAAJUGa8EmoQWyZTAhv//6MsAAAAwAHf43MUYVrbmfXwY5RkAN8h4AAAAASQZ8ORRUsK/8AAAMAAmsCuH5BAAAAEAGfLXRCfwAAAwADyxR7fkAAAAAOAZ8vakJ/AAADAAADAakAAABWQZs0SahBbJlMCG///oywAAADA7/3YEAHlRKVdHHfiRqDQV24YPdjSNIt25gB16F9ycSegfokPJfFVW1Z4wgARNHxmEyD/lL3LmyHTsjg+USd3qJvNHEAAAAgQZ9SRRUsK/8AAAMBNYAC3SzG6S+U5eRpH2BO0YgH2YAAAAAaAZ9xdEJ/AAADAeaxsPGNkIkRTJyiMrHymBEAAAAVAZ9zakJ/AAADAdt/1WxrLOsYuR0xAAAAIkGbeEmoQWyZTAhv//6MsAAAAwOkjIaTQqxfTUoWt2bc2fAAAAAWQZ+WRRUsK/8AAAMBLYFDyKzvCQTi9wAAABUBn7V0Qn8AAAMB2ooeZLH2iJ+gvYAAAAAOAZ+3akJ/AAADAAADAakAAAB+QZu8SahBbJlMCG///oywAAADA71SbHOuMjojh1vqD3vVkdqmS8iEAU97SoOXPe3YNO69IbRYhKg7woc4ZBJ3+TOw9CvQm1gUv0uoY52gWTAtYNipoZb68envh3ag8L/x+KwsX4yB/S0vi1CP2Us8AjjANWrY94ObIUSkVYWBAAAAHUGf2kUVLCv/AAADATWBQ8is74hkxGi6Zz1tzlxiAAAAHAGf+XRCfwAAAwHmsbDxjZCJFRa8TdnY81jTcCAAAAAfAZ/7akJ/AAADAebvW6cItI2nFXCcEEkg3JOXBvFZvwAAAENBm+BJqEFsmUwIb//+jLAAAEYC9/kHJ0OcUCzRQA1kqT/6E+Xuyb+7M6m3APsCnt5ZCq5ZPrS0vR/9Y0u3HwjxbWVAAAAAHEGeHkUVLCv/AAAWtVhViLe2GO3KOGFGnO7jf8EAAAAaAZ49dEJ/AAAjwz4NmjQqmyqAsOOuCUrBKhwAAAAgAZ4/akJ/AAAjx8a6YzxjvlcFkw4Ojw3vCXqiRY+dhfEAAACIQZokSahBbJlMCG///oywAAAKCbD9y2Khnc0+E9N3EAFz6QcWxaruqNqKhrn3Mg1KrD4PTdFsDwkOd95jEQOWg1mZwqSnc2Gma8w54QDWs+j01qKbnBM8XWNpBSXMDnP3gq5ttt1MasaZoEZFf4fBzHqahJa9bhPWFL45HLPJ3mT9tlZAjskm4QAAADNBnkJFFSwr/wAAAwM4UICoxJktgSRigAmncBsjgsaUBQKaAA4aD/xBc8Yv4gEaprTjOfEAAAAaAZ5hdEJ/AAAFH8cRF0C+hNipPypC/kWN2QcAAAAgAZ5jakJ/AAAFIIDpyO9CA+OYeaNssfk3nASzRs+oJuAAAABeQZpoSahBbJlMCG///oywAABGAvf9To3g58lpJv5JHoEtezeCAUhA0kagLUcmkbNLvP0S/P755jmAUmSO9HpRXuCb30nfAv9uaFH7lyXl7/UNl7JQtEiO4gL1DwXLKAAAAB5BnoZFFSwr/wAAFrxObMK48Ejxbp/Lv86bo7boTB0AAAAUAZ6ldEJ/AAAE+FxK+4lW0DyeahwAAAAbAZ6nakJ/AAAjvxrOeyqMq4hfvAJ9e3pJUcHAAAAAJ0Gaq0moQWyZTAhv//6MsAAARAcbmMIksa+3PCAodS5m/SO6VcATcQAAABlBnslFFSwr/wAAAwMlvAwXvtpIq4GX2dBxAAAANQGe6mpCfwAABPs1yTbZKu+AAuFjAqTzUz183YgBNP5kHg8p0U4eNqQxTq52yFk5uqpzJPaBAAAAaEGa7kmoQWyZTAhv//6MsAAARgL2nvBCozxcMvfPIDA+NnwiZq6RXcMtwRNsSz0mU/51pDUkuhtQEYlneNKDUsA3QhB80OnMvO3Kt8beJET16r+JCuAFO1JhriacYI7+G48Wr8W7KLFwAAAAK0GfDEUVLCv/AAAWvE4BrJ+VNLpgPB/oyPOS1imKXpYT1XyhPu9/MZxXcdAAAAA2AZ8takJ/AAAjsixxN1O9iYkmGckneObLzeJaZl+tEDMUQoSYWKAFie2frzXkz0GDK0s6JffBAAAAdkGbMkmoQWyZTAhv//6MsAAAGqHwIPph9lN1eJ3QDyJ8XNipoHqzBuw9wuHCiEDedDwezRtN/WmK3yTIZAhzunyb439+SLL46dIUApggpn9Y1yi8x0v+CsT0Q71Tkt5/i9RM7YmioqX28lvoyAFBSrnmfQLpLcAAAAAlQZ9QRRUsK/8AAAhsCh5FZx+P5+RaKAwSs4qeBYO9CdHYc6b8wAAAAB4Bn290Qn8AAA2F64ckfjYHp8bZi8PP+k2Xf+SVZ8EAAAAaAZ9xakJ/AAADAEN+Oo+KCuD68MzB5eDmap8AAABxQZt2SahBbJlMCG///oywAABGAvbyel4ZihgAARk6YRMQcjHUcafUFJC9RVO/5LBRACrmefRopQW5HCnG95P7g+axaw9SLqjG5cEdrgiUX0SMg0MjWxI3opNX1Hjyz8ktlb8ydlESjxnXN1d2re8WqWEAAAAwQZ+URRUsK/8AABa1Kzl2Y3JmZHhva0AOOpJjSTffxf0ntxqdvkzO6/xRT4MxM7PhAAAAHAGfs3RCfwAAI6v4W3gSnWsKs5nm1kGIn1PjJmAAAAAeAZ+1akJ/AAANNJ2rvbcQ2DQ684jteSUuU4ZG6d+ZAAAAf0GbukmoQWyZTAhv//6MsAAARgIFeT0VXD8sJ5AEI7yl3QUfvk4qZ9J/s+Q9W/kX3fbrA4LEiTrwu0pbOy5B1fTPjAbWt5fQNpkdvUBlq+t4msCwle6xFkdLoNBnWLCqmajms8I3AxICf1ej57PZ9TGzc4g4QdwJCTp+psdzNzAAAAA7QZ/YRRUsK/8AABazK7UGAQIIAa2wFiuRtiWzTMuoGBy1z8favLfwinOKZLsxk2PhURsOPKsJ0APLl80AAAAjAZ/3dEJ/AAAjq/hdVswjjWADXTGAP62SNrYyFxumUdyPEfMAAAAZAZ/5akJ/AAAjscwJb6lvshVJISWOFZ/hAwAAAFZBm/1JqEFsmUwIb//+jLAAAEYC9vLWgEV/8O8InNhIegWZm/ZmgY4gImufTUUcl4VkjqwbyzDXQaAinv9rY6vRbibiF+a8PzccvZ7EwJhRHlhED0PQYAAAADBBnhtFFSwr/wAAFrxDzbcVzKyZST4HQo4vZHZGGsMAC9YrgZmbvQLpXCHMMJjI+YEAAAAaAZ48akJ/AAAjscwJb6lvshVI+87CgRgAocAAAACQQZohSahBbJlMCG///oywAABGAgV5PTJ9LhpLnUFaoAaoqIexuctsqMkMRRFF4sMbYMPQZDiu4L6/1bFCggkbeltsz2yEfgv+Wc0xOEQzOzsIjOsT6lWSv1/MlV+x2YC4AtzgXuvQU6pmeZwDgsNYS/fREk+leXN8W8d8/5SDUh8OyP+wXRCnsftVShrbvo8lAAAAL0GeX0UVLCv/AAAWsyu1BgDWRWvF7ZdTsxT0fwEstT9xfko1VLc3YzmHBKBxeZp8AAAAHQGefnRCfwAAI6v4W3gSnWgjiBGeugLGb1ZYv6e/AAAAHgGeYGpCfwAAI7HMCW+pb7IfkxBE45i/Bln+QXU/MQAAAGdBmmVJqEFsmUwIb//+jLAAAEYCBWslwJbtQOqX00AAtrdvd9WZomezE7iHkGwJev1H9kpMmQfUve8DRXYFtrmghfauu4jnz0QFqh++0FlD4pVy6PdAOQ60eCJFywI+0Tdht/hC7ujhAAAAMUGeg0UVLCv/AAAWsyu1BgDWRWvF7Zd5AK8GYHrIACMgynPf4uN3FtpFO57w0ZNJpjsAAAAbAZ6idEJ/AAAjq/hbeBKdaCOIEZ6T5HjDAoGAAAAAJgGepGpCfwAAI7HMD3Z1dXQAllUydsoP0liX/jQcQck8SEM9Kn4MAAAAcUGaqUmoQWyZTAhv//6MsAAARgC6tY6dAH6BmJZg5JULOPeAxDoHDjA6ClI99z1xVrW4QSYo+xjDU8wZd8PLu6Ddc10bKbRU8H2mns3eQcFrBSn+Up1eDFZfGdCI83yoCn2FiH1kRAK3Lr1Rn1lhu3RRAAAANEGex0UVLCv/AAAWsyu1BboP/I5tSEALfUWxufNJi0DwZkTlXeXim2VBUNIWmDDq+qnp4MAAAAA2AZ7mdEJ/AAAjq/hcK5kDmSUIOYH+kq6ORK7akP0ssIwzTnUuyVsDGs/QlnhQAfYGUpN1yueDAAAAIQGe6GpCfwAAI7HME6Mec26kNEpiVAO0Z/ADMnypV8B4VwAAAMlBmu1JqEFsmUwIb//+jLAAAEZ/vgUDzIWxeRUGJCTHmmlk/Omb94XURYYzUkhPid7hxR3R9G8IcJeQ4RdYqfF2fhToA62h87Ckbci8IyGp0/wJHJsRlyJyqR5xjlRFUSgS3O2kgUXcHdFVCCWPFFkKpNy5WkZmRIIBZli+6TjQuXESOlHthoYJKq/xsGKogNvvhEjixy5yrQoDAXQKa0esOA2rGSNO1eGXbRuuWW28ykJmEwl+PrNZcUXjWafMZT9bAvnaWvKcpIEAAAAyQZ8LRRUsK/8AABa1DvJvKb7NJWJl+TNVhykALXe9wRR5Cwc3EHA8z9pAxmaPp0FYtp8AAAAmAZ8qdEJ/AAAjq/hZ0nUBdH50yJ8zow6/B+7uaZmvhDVAkDK0zyoAAAAqAZ8sakJ/AAAisjyvVEuXglnGd/T4IDSL5OKoOuL8qW65rXKLoqc8g0YLAAAAjEGbMUmoQWyZTAhv//6MsAAARnpvRDh1GvVkPSrdBkEJLGvt1tJcJBgTd18YJHNoJjKrTjLkdQ2lkccZqD4C6HtjnT06zj3JvuCX3BhZFoOMuNran/H9AWCOuMoTfgrP3Bmk+f0fAKvuleumJOOkjozd8tF3KbNx2C0h291nbIisSTwStmf8mnnqkLcDAAAAL0GfT0UVLCv/AAAWIywDlEhkWD1097cUKEiCU77hmmWZ4jn6+JFdCBku9vxQ+Am9AAAAJAGfbnRCfwAAIqnP7rk+3stdy03B+Hm3btZII8qsm43vjNezegAAACsBn3BqQn8AACK/BCICOZs4poIdW9C4ecN0Q6+tLbTXQVcyr/pVCVzvS1p9AAAAcEGbdUmoQWyZTAhv//6MsAAARAD22J6BKGpUftvsPKSPV6fPZmdh8hjACh/Q0lFrzACuh2A1LmDYB1JHiPL4rvIiRLmx1yuJkxR3QbVD5B9aji2oGQ2KAmftw1aa29QyDHJUTqKhpScodVGmVDZm1ioAAAA3QZ+TRRUsK/8AABYinwafSZBGoUUG9TzNMRxRPi7oDdNOxfRqRRCQgldXbXa1vbrLI/xZKPauLQAAADMBn7J0Qn8AACKr+Ft4J5H0gkgAXUAgpGWUArBhiZRf9LbeujAyKVP3Q12+t1qRSQtBj4EAAAAmAZ+0akJ/AAAirjEv0XudZm+uss80S/5EuZ+Ywh++imcJgW8Nb0AAAABmQZu5SahBbJlMCG///oywAABEAgV5PQJQTw4cs8dsSnJxdb03MfM+Nm33VT+xgCFBEx+ViAz8yR54febxdyArSYCwAWFmnxqIUTHEjjSqwer1fdXG9c1cojGeHtBK6accqBf6wv1xAAAAJ0Gf10UVLCv/AAAWIyu1BbkcL+XQiXr7NFXOtd4U3LPvSpWgheFHTAAAACgBn/Z0Qn8AACLDF2ipnfHJuOswiNrQhKL989ykD4J/WrXiUQy8MfJtAAAAJgGf+GpCfwAAIrHMCW+iXaxgT8k5ulgT3vipfJAUB/MZKwMB/+9BAAAAZ0Gb/UmoQWyZTAhv//6MsAAARAEKzxZAA2KlSKtEH+buzhYMe0M/gGXaoVrMNOURzQVr6AnuayH3p53oQgltHgNpTh6yjoPscrTJXgjnNSsBFtKesq5Fuu6u+HaN4KDZeOLe7CZA3rgAAAAxQZ4bRRUsK/8AABYrX2K2jMazPFvZCSOIEuzqk5Ag1RHYaAXGB+wILgjUX7vbcgesMwAAACYBnjp0Qn8AACLAuN/ALGCkfniFat1oCP4XSSTSA5ABIe5d2YH5NwAAACQBnjxqQn8AACKxzA923N8r7973sRgFxS4kHCJ068ytYy0y0NoAAABXQZogSahBbJlMCG///oywAABEEJSqu3yrABuMBkNNXDzXwIMUbnHYADPEiGSdTaXq8RLqocrLuaELeB5oaEwB4lF4ieK/RmpJAYY4+WukbtKqa8RPAzt1AAAALkGeXkUVLCv/AAAWIp7eNxtGeOUF8q5CujOrZ1pj/UtXkqDn7m/i9rDPVrcyupAAAAAkAZ5/akJ/AAAirjBvvsllsmGQeP0Sfpa8FqEsJZpMuHMVZx1RAAAAhUGaZEmoQWyZTAhv//6MsAAARHpvPcNlYPZZ+nktu6xApNq8gq/TzBL98IPU03hnCxxGARNXwUARU0cvISLiTXuAVLwTbYNOd5odcQSqtpa8kW2iEE/lnHKLrZR2SXEsQlDA3Kfvg2SwcY29Ws+8yeY7sxOjOvOqodxS6B/L2BBqaGFz43EAAAA4QZ6CRRUsK/8AABYrlFSx0v4oAPl0xbaWYavrBrnh/8dka1Vhom11JMik+622jGlfi1hzeU6nCoEAAAApAZ6hdEJ/AAAiwxdoqZ3xVwok9tPY8w8nCbbsIPhcDNi5QmtvegCQKMEAAAA1AZ6jakJ/AAAiscEOa3XYU4gWgxsQpa2Ol/IRafPU6LgpYZkd5QuLwACHVpaxcO0eL/0twqAAAACDQZqoSahBbJlMCG///oywAABCJRzDhCAN4kwWz/2+fJHevZIOP9pGG8CtfgQWsh/fe0VJ7SwzAIhRI8fxyw6+UW73IMeo12ihLF/+zCq/cFDXCsp4Jmg3hm2dlnN5exsT9mGdloe8uGg3elvjjlmmrxSTp5x7N+C6J7IL1cBQ4XDyFMAAAAAsQZ7GRRUsK/8AABWTLAOZ3iXlCQ0fOCr0e7kVNsCep2B3uJSwPWFCI1zQcqEAAAAkAZ7ldEJ/AAAhwz4N2qcpCap51m99W9akMu6nY4BEJw4q/IOOAAAAKwGe52pCfwAAIbHMD3hmQAsyzdi8KEjkPElVCbDehqoWg+5duuRk44h+RUgAAABjQZrsSahBbJlMCG///oywAABCAUbYtaAavlN30dZ9J4YyCfQ38yU5VMknxuX/pvXLQSwII5IffuuzwUDZsKc+KxOiBwADqgs1OMR4M8+JBRUIrP9ALmbMQoej3Gd/S5+k1NPDAAAAMEGfCkUVLCv/AAAVkp6os6JE4zSFyvq8rQjfaM0Lcm/GGbhQiP/BsxCTFXCOMlXTAwAAADQBnyl0Qn8AACGpz1TO1RmQAsxOJ76uVCP+Va0INzxY9Y4bZWlejdSWkoxbKDRGH8C3SjjhAAAAIgGfK2pCfwAAIa4xL9F7nWZvrozFz09qVjmZgY+S8NWX4eAAAABGQZswSahBbJlMCG///oywAABCAPbYnoEnVYN56J/c4rXzCXpbNZdMwAtrZRkhIKeElbwoxULHFSN4h4O9M0nSko5zRvOp9QAAACNBn05FFSwr/wAAFZKe3jca8/08mUnDmKI8IRdhU9CZHjRKMQAAACUBn210Qn8AACHDF1CB2R+sEig3EvcOmy+sKQVuto5hy/OVJuUYAAAAIgGfb2pCfwAAIa4xL9Fnq81yXSm70HCFwLsh7G9uL7MilGAAAABJQZt0SahBbJlMCG///oywAABCAQrEwVeB9EdRGZsddpZOx5DAER6RI2h+1yiZBX6ruYevTNYF3svetvl39b3orUycyhBw2/IcuwAAAC1Bn5JFFSwr/wAAFZuUNV3QyGeon2rL8Ui3xqarYOWZ3lwlOe/bj2sv7Iz+r0wAAAAoAZ+xdEJ/AAAhwxdSg/pjkWJ3oqQtUfXId4RYygvlDPiezjOqoACKgQAAACoBn7NqQn8AACG9la264mCqSzWbwennTV4/HofH8YhcYbSg1dZOEzTyHcEAAABFQZu1SahBbJlMCG///oywAAADA42cjQfdfjW9UclKiJD2Mn44AVnzUwxTaqSzcFCTE3oVTGjvXyipro+q3dQRq+3lq1ggAAAAnEGb2UnhClJlMCG//oywAABCfiqA2PFXQCFglDDXGWav7dlz4xsxVa1z7SSJrtPK0NCziH5HmIrdYYrabBJpRfhcrkS1nqPm0ex0RJjWpqbTwxcl4BeSzaWOTdQvQkJk9a6qdr/OsPRD/5lrtIG+N1AlkkN5u4ED1WNnLlRTNeVegpSCnWS8DtvbrkjcNKh6FgBGweT8I8baPT5scQAAAEBBn/dFNEwr/wAAFZMr+UBClpGkGR6KfqGKvtYABczm4I73zNgVMa36yDOTaBcTVUUNj1yDx6t7Lu7oSMle3AIrAAAAIwGeFnRCfwAAIanOxZOFdDbkrX+kiELc6PKM34dcqzkdVOzBAAAAKQGeGGpCfwAAIbHMCcFkWY/QYfpQ0W3Fb2T4LKsA2L9GVvCDfA4ocq/vAAAAjkGaHUmoQWiZTAhv//6MsAAAQAFG0cG0EUq8767kFdsN9I0GI+ITEKDvUmhbkAU5n8VD4E1ZrIW3xrlE4+5nXi8bFAuQE5Z9JdEIdEHCC0IqBDE+5+iDeBHLD6QlPNwUOW2p0FTzCNwdZjGrZcqEaAPF0zMZthCUxC++jlLmMCQ6c7ndPSPLUCWlhuM2zaoAAAAxQZ47RREsK/8AABUCnwnO7MQdnpvVY8LhWUEAArnkyW1eZVzJhCDAC6ZU3J4T1lXDnwAAACMBnlp0Qn8AACCpz+65LgsxgIwTQv0ALkIEWVBKJ1EvKeO3TQAAACIBnlxqQn8AACCuMS/Rf9zoILZFJbYh8M/OLgZ/eTRg1M+AAAAAWEGaQUmoQWyZTAhv//6MsAAAQAD22LWgENjdRaSVmI3VxtEvix+o0CDE/+U2UviSopA+GCN7b/gqJyMIKsAhPXHD9SXppHUmaAdbUe0edRMQKOmZ+E0dZaEAAAAoQZ5/RRUsK/8AABUCnt43G0cL96HKYEMRVwpOXR2rqg1hRF1aHQWMNgAAACYBnp50Qn8AACCr+FoC1gKF7h0cCCMpeupQh2YAWA2l4nai53wjlQAAACABnoBqQn8AACCuMS/ReUOzzbZAZTCEUUuyxg2VvJ1KsQAAAFFBmoVJqEFsmUwIb//+jLAAAEAA9tiegSdVhBAgBBHnTfPPt0mLOjEkyIFOoFFIx8X9byR7VXRHDAb2wzf2bqRmbAQbIU6iISYMwD/8hD0N2pEAAAAvQZ6jRRUsK/8AABUCnt43G0cL+XQ17GXhyE5XMVGWC/3G4mAgBCtmpntsatX0umEAAAAuAZ7CdEJ/AAAgq/hZNHDIxFEAIwQYr+tEwE7m0k9wvP69SgyscDio25inEVHKsAAAAB8BnsRqQn8AACCuMS/ReUOzzbZAZScg7ELO+55ZMPNgAAAAaEGayUmoQWyZTAhv//6MsAAAQAD4YMAbXLCOlGx0wi74gBDL0NJXSPIuYzhkciZpvcnOSZCxw19ZQUURlkWRyoStzh9XnGfm56nle2+j2z+HlzsHXbWGTeM7yg6eXAtVoooKteG4vJ9BAAAAK0Ge50UVLCv/AAAVAyu5SeWGWSK3oAbiIinxfQLQ+OBaGWclb7mTVuiRXegAAAAwAZ8GdEJ/AAAgqc9UztSlQMUAATJMM5nyQiceGREbAGkAfxznb9oWDwPO/GYXtWr0AAAAHwGfCGpCfwAAIL8EJxLJaZq4VlMfKjt+BqtLmbr09IEAAACXQZsNSahBbJlMCG///oywAABAem9Bg84LOly8v5iADc2V7c/O89xz9tdE1eNFY6E7mQEppV61chbIjBVItLLFWhvijMygK55WZwmOIT+5IkXx4Y8K4kT5LKUjEEUEQxNOJMrUDfzwYOOrVqbRgDBlCTIMJ++lO0ENs8LFMyeLgGGjgjTbtQYFpEypcSlGhe6UPgs83x/BoQAAADVBnytFFSwr/wAAFQUl/UyrDkFYqMOIREqCIgHX1byT5KVFtwAJo7arPWacjaOmju4MDKDBOQAAACYBn0p0Qn8AACCpz1TO1KqqaCO3BI2pJQnDoL/eY4KmmXAKuw13oAAAAEgBn0xqQn8AAB+5qAgeOgOcCeyAC3CTCfyUwh/zrK5w6TOYljyM3PLuLFhw70Is68hkuwQAKiS2/s96wO7VD7CkkMHckctzXoAAAABuQZtRSahBbJlMCG///oywAAA+Z8zI9gIgq4uOpjc8J3oxPOpK0GYMPeQOxowjwvvpcJa6ShIJSsFipGgKaJx8k3kwdYFbxZv/GrhhIo76mNq3ZzKq5yOMjqf3KJ5rEnCcuYwtmlCvyyLn2qU5U0EAAAAuQZ9vRRUsK/8AABRynwnfatBoAfQNHLvcxFtjKUFp72Qc4dxIG6SYhHxnzCN1IAAAACABn450Qn8AAB/LIlNTVl0OX9kFvbwnsYxpgU0iGBIvQAAAADMBn5BqQn8AAB+5pvIEgIapM2ERnvvvLWg+y/kxJOzo74VWfwRm1Jm2OH+iof9ITwzyp3UAAACLQZuVSahBbJlMCG///oywAAA+XGzvceEnM8FABc+4CBwJ7vYkbk5vK0OcW1gxru/r3WbdoPhS+47oK4h7PX8IdbXts3aYqbhlwEM4wKpsTDd9AC2kE8+iizQ96xsvuU5WvImuEd28/B8m5lLzpNXef3cUCJ1008wlhkQzOlAKmjXsvyI4Tj6H9nHDuAAAACRBn7NFFSwr/wAAFHKeqLQ808GL5sKnrunFVAmAIFkuKdj64jEAAAAkAZ/SdEJ/AAAfyMpZFCtlKSzlhwi9qmKWp2ttaH4duw5H70sxAAAAHwGf1GpCfwAAH7nz3+C/MypCcyAyk5Bk8G2bniJIkpAAAABNQZvZSahBbJlMCG///oywAAA+XDs/cdwxFUGeJntFmAJAApMyC8co0SWeOJ8nOVdgIQ0zZrPrRsNSedS0MAdxjMPWEWq5YwC5OndqP4EAAAArQZ/3RRUsK/8AABR7lDVd3hX2Y9+sHs1xHT0+upXvaiGTfuuAooZF7NIu6AAAADYBnhZ0Qn8AAB+4fabCFuuA3lMiJh7FQSNIp1KIPF4SmN8gAEJ+yPevjFYM4jsHXSog98mzCUkAAAAfAZ4YakJ/AAAfuaZ/UXlDs9BPtnEAkBjsHHM6SJgLuwAAAH1Bmh1JqEFsmUwIb//+jLAAAD6/1bY3mqGfugAsLVeMS0pgytri9YSX6ZwNkYgRlvqWY2Su3rgn88569aTCiY+F99OHjIyhosfVUrz+0FKOPCQ0tLLrHHL+Hd2/tpetST/k6UQQUjsZwCmIw17VuCTTUq2Egpv29qZgCVjolwAAAC9BnjtFFSwr/wAAFHKe3jcbRyp28JH5I7QTOUKDllNckCvWxjdYMrZP5IToeie7YAAAACABnlp0Qn8AAB+26Hr68kJf6FHIC4hC3OjyjWwtYUlXdQAAACIBnlxqQn8AAB/Go5YJvc5hAI+rQKPAXUbG8Lg/aawfGvRgAAAAqUGaQUmoQWyZTAhv//6MsAAAPPxs3fTruqvFSwq/5LIQFav+JR2inFbVAqk43urxJZJwnewUmMAQ62P44/ln8BSue5D969XCB3j+jCfbfHqnuYY14zQvyzEz3UwdDIFM+O9YrWJq2MkSp4qH4WGi3af1GQ5vavbRIizMt1w8Zm5e9rAAwyaKvznRwwbOLbX7ywL0TtSAyrYlyc2uT3/JGPcrOSZnrxqAtSEAAAAzQZ5/RRUsK/8AABPinwnfazdPkvo2FxEbfgvSyIGJ1T8N4R5KmZhmtf/NwVPkcLf6lx8IAAAALwGennRCfwAAHxjK9/GIW3NEnxHcd1wVtceWWZYqfqOhuEOiALEDW/0rH82IO/E1AAAAJgGegGpCfwAAHwmn/7UQjNjsWzgejTxGOEopSRaodrBWMDLPzsmhAAAAj0GahUmoQWyZTAhv//6MsAAAPPxuNuAOTt6QEC266R46JnL2OgOnluUuLrNX9Sn/RgIBChfZeCZ764Et6/nPSUQtn41oo7G//YRnJSzWPGycIfboGgwrFpktv6YUk91WX4YgwQRha7Y3LB/sd0kRHuh2mZSUq3q7rjF5xzUM09KIV/BgtO06TssAhwGiVLOVAAAAPEGeo0UVLCv/AAAT4p6otFidUuS7Qc1gJF9vwYYj/OG6tBeB2t8md8Gz0+2h+Go6Whl7ygaAM7O//yXdmQAAACsBnsJ0Qn8AAB8G6Hr68kJf6E2rc1pNwJqlT3eEq5L4YQzdhcFN5i5dHP6QAAAAKgGexGpCfwAAHwmmf0r5QiRY/sc/QG9m733py+DFqZ4gqeSKupfmg0dxWAAAAGdBmslJqEFsmUwIb//+jLAAADz8bQ47UQuYgA2lV6eTN6wGVlp6K8KwSR7L2KlCaO6ogy9r11d5C+/wA8+fe+/vS1uaJCFedwwUUbaJ7kc9kGRMPBbC8pukmOxpPJJJ/pFUrDo5SQGJAAAAPkGe50UVLCv/AAAT4p7eNvcfK7/NVDoAA3+bmepStWK+cx8FO2OlDwb//6g9UypExIJbYESkoYd2f+yAJpjgAAAAJwGfBnRCfwAAHwboevti+28syq68sPoqslqHy2QXupI/vBGkqsh9wAAAACoBnwhqQn8AAB8Jpn9L7taAEsi0ibc954RZh/DP7bkKuTJN6UVbkc0iTMEAAACiQZsNSahBbJlMCG///oywAAA9X9DVA9utScJ4GO1iAswfkh3A9paW/OSsArqEWjpnFDpXq1S/2g8mAIE9OKGOkSmxdP3Zd5buuYTtUSDOMXeUr+JMR/goZ3AnadUvH7lZqAPeYyx4Cm3h9OX2YMFN0osmDU4M58JXQ/hP+oegb6OKw5WClCd3zl2zZ44FeJiq840jkZRTiFNFx60+qt9uMkXxAAAAMkGfK0UVLCv/AAAT4p8EwMJikV85oDHVjedxA/V+/5n0hTIVEGoIgSaqkTGHXq2T35bTAAAAIgGfSnRCfwAAHwboevryQl/oUcgLiELc6PMcLMwFEgZUTMAAAAAqAZ9MakJ/AAAfDI2Iz3tRxWszh7fLbf/XhHXdLY2fpqnGiuDK2evRDRmAAAAAX0GbUUmoQWyZTAhv//6MsAAAPVwmQGjnCPG4DtLKCVTigsn6Svlf5rDXl3kq84Jslkh/9T0mv8oASq/DFx3XOqbdU3KMt8+aU7aQwtW3jQPHCPq0wRFe9jYRmqyHGJOBAAAAOkGfb0UVLCv/AAATVi7gt3ZjGn5kujXar1jmKvlKowqH32e9X9PgF++/ZYGN7OoiMZQMe7lctWWt2egAAAAkAZ+OdEJ/AAAeVul7r6bJz0VvJE+lKUQMZ47N63N4h20z3QKgAAAALQGfkGpCfwAAHlmm8gSEikMVIY5s0KajKAEezCMx2qmAQv4XJGFjVR6dmAng7QAAAFRBm5VJqEFsmUwIb//+jLAAADuch030D7TLu7eMGyJGC13y1fNAmMJa6EANGKeo5Y6oN2jVTrCZHh5xvf6qEshwMKHVg9Jugwj80fwH6CsuopUBWbAAAAA7QZ+zRRUsK/8AABNdX0/ysdVb/ES1AAa0JXWQ9XrIHw4pA1WMYPby0D3BW8d8u0EJq5H63xIpV6UMt80AAAAlAZ/SdEJ/AAAeaMpZFCgOS7VkmsSe37r1QiU0mgM33KSqHnx/KQAAACcBn9RqQn8AAB5Zpn9ReUN3XokucdlrLR7r78HX7ffBxAvRMsAfo+0AAABsQZvZSahBbJlMCG///oywAAA7nGzRPi5JCzGlvxDOHRxbJEAJX1uiooVWYta942D1cVKLjFOvVs66vNka+TTpzpq5AXJ0dYKyS226hf8Klj7V4doQbK3RS5bt4ArKiob3v3pdnlGb7ldQGJSZAAAAMkGf90UVLCv/AAATVi7Hi4yGNQgBrXuded2OvRfOYPubuJ1pl8kcJUAYYwA43EoOUQvdAAAAJwGeFnRCfwAAHmjJdzpuHIwP6nQeRSC2eAz8KUsNZc3yhvjVasr5gQAAACwBnhhqQn8AAB5n6WyfKWzpcpTmWWRuS2dNx+w54zobJPR7oKwncWqWwE+XoQAAAGpBmh1JqEFsmUwIb//+jLAAADv8J0GDzgs6XLULJ6crMiLfnJ0EwJELIEAJS37z7kTxxK4nZVwqViXXsFUlZIYDiOnGYY7wqgxWscNhVHZi2w8v2ZxgX1q6HO0ylF59HGDe2pOnebHqpGAsAAAAPUGeO0UVLCv/AAATXSD9D1KsW7WAABbPf7j9i4OEiHvRA1MBRDYzyEhI4U2z2sldhSrEalLbpcuVwO0/J/gAAAAoAZ5adEJ/AAAeVuh6+vJCX+hRyDYAALYmGnMY6OIwjyHmmF11n49Z/wAAACgBnlxqQn8AAB5cjYjoxvBjkcc5j/WQh0LcTvxe6Qdhjhg+qJ46hTXQAAAAVEGaQUmoQWyZTAhn//44QAAA4hliCKBeVF1RzRYUsiDkAIwBZ0mXoGfknJf8o979E1gbLpkrqiKRtfmoLXNCmH+VTBEoTEHDDzvuEEKhMY4vnE7S5QAAADNBnn9FFSwr/wAAEtYuqGEn96ey2AAbqTTTwlCTvg5U7ww63KSUW85Q4obNG6pSTdQqfNAAAAAvAZ6edEJ/AAAdpukHaraRprcaqhrYEP+c6sEMPrQXUYpDKXIqsPlvMB1X0+Zs44EAAAAqAZ6AakJ/AAAdqaZ/UXlDs9PdACS6QDxNvBn3cQPKw3wSZXEE9NVmK78PAAAAWEGahUmoQWyZTAhf//3xAAADAim9Bx10ITOzivb5O2Fv15UezvedQi5+P45hcOl9SAAk/qYrtAxaZmG1xgxLB9WeB2gF3+UgBV0Ayv760AaV76lsxDwnblsAAAAoQZ6jRRUsK/8AABLdX0/ys+D4nddrrL63LkcECKhBtvnfGn7M9+9QWQAAACMBnsJ0Qn8AAB24ylkUK2TV2Sj8W4Oi3dN+7TAj69zcUXn/4AAAACMBnsRqQn8AAB2o7Ta9CGDs822nSk2PVNTNKLsY0gX3GHbQWAAAADVBmshJqEFsmUwIT//8hAAADXfQv+otYh9QTzZDhc0Ea2rVMbcgbnTFFqv65BdhHsnG1xrnIQAAACxBnuZFFSwr/wAAEt5DzbcVzKyZSOrxmNrWg+EHb0VjQcSOlVuUzSYZEAwQWAAAAC4BnwdqQn8AAB2o7Ta9A5fXhXJqZQAllLgr754td3H79cerqFC1NxIr42GAlaCwAAAxzW1vb3YAAABsbXZoZAAAAAAAAAAAAAAAAAAAA+gAAILcAAEAAAEAAAAAAAAAAAAAAAABAAAAAAAAAAAAAAAAAAAAAQAAAAAAAAAAAAAAAAAAQAAAAAAAAAAAAAAAAAAAAAAAAAAAAAAAAAAAAAAAAAIAADD3dHJhawAAAFx0a2hkAAAAAwAAAAAAAAAAAAAAAQAAAAAAAILcAAAAAAAAAAAAAAAAAAAAAAABAAAAAAAAAAAAAAAAAAAAAQAAAAAAAAAAAAAAAAAAQAAAAAJgAAABkAAAAAAAJGVkdHMAAAAcZWxzdAAAAAAAAAABAACC3AAABAAAAQAAAAAwb21kaWEAAAAgbWRoZAAAAAAAAAAAAAAAAAAAPAAAB9oAVcQAAAAAAC1oZGxyAAAAAAAAAAB2aWRlAAAAAAAAAAAAAAAAVmlkZW9IYW5kbGVyAAAAMBptaW5mAAAAFHZtaGQAAAABAAAAAAAAAAAAAAAkZGluZgAAABxkcmVmAAAAAAAAAAEAAAAMdXJsIAAAAAEAAC/ac3RibAAAAK5zdHNkAAAAAAAAAAEAAACeYXZjMQAAAAAAAAABAAAAAAAAAAAAAAAAAAAAAAJgAZAASAAAAEgAAAAAAAAAAQAAAAAAAAAAAAAAAAAAAAAAAAAAAAAAAAAAAAAAAAAAABj//wAAADRhdmNDAWQAHv/hABhnZAAerNlAmDOhAAADAAEAAAMAPA8WLZYBAAVo6+csi/34+AAAAAAUYnRydAAAAAAAADxcAAA8XAAAABhzdHRzAAAAAAAAAAEAAAPtAAACAAAAACRzdHNzAAAAAAAAAAUAAAABAAAAygAAAZMAAAJcAAADJQAAHvBjdHRzAAAAAAAAA9wAAAABAAAEAAAAAAEAAAoAAAAAAQAABAAAAAABAAAAAAAAAAEAAAIAAAAAAQAACgAAAAABAAAEAAAAAAEAAAAAAAAAAQAAAgAAAAABAAAKAAAAAAEAAAQAAAAAAQAAAAAAAAABAAACAAAAAAEAAAoAAAAAAQAABAAAAAABAAAAAAAAAAEAAAIAAAAAAQAACgAAAAABAAAEAAAAAAEAAAAAAAAAAQAAAgAAAAABAAAKAAAAAAEAAAQAAAAAAQAAAAAAAAABAAACAAAAAAEAAAoAAAAAAQAABAAAAAABAAAAAAAAAAEAAAIAAAAAAQAABgAAAAABAAACAAAAAAEAAAoAAAAAAQAABAAAAAABAAAAAAAAAAEAAAIAAAAAAQAACgAAAAABAAAEAAAAAAEAAAAAAAAAAQAAAgAAAAABAAAKAAAAAAEAAAQAAAAAAQAAAAAAAAABAAACAAAAAAEAAAoAAAAAAQAABAAAAAABAAAAAAAAAAEAAAIAAAAAAQAACgAAAAABAAAEAAAAAAEAAAAAAAAAAQAAAgAAAAABAAAKAAAAAAEAAAQAAAAAAQAAAAAAAAABAAACAAAAAAEAAAoAAAAAAQAABAAAAAABAAAAAAAAAAEAAAIAAAAAAQAACgAAAAABAAAEAAAAAAEAAAAAAAAAAQAAAgAAAAABAAAKAAAAAAEAAAQAAAAAAQAAAAAAAAABAAACAAAAAAEAAAoAAAAAAQAABAAAAAABAAAAAAAAAAEAAAIAAAAAAQAACgAAAAABAAAEAAAAAAEAAAAAAAAAAQAAAgAAAAABAAAGAAAAAAEAAAIAAAAAAQAACgAAAAABAAAEAAAAAAEAAAAAAAAAAQAAAgAAAAABAAAKAAAAAAEAAAQAAAAAAQAAAAAAAAABAAACAAAAAAEAAAgAAAAAAgAAAgAAAAABAAAIAAAAAAIAAAIAAAAAAQAACgAAAAABAAAEAAAAAAEAAAAAAAAAAQAAAgAAAAABAAAKAAAAAAEAAAQAAAAAAQAAAAAAAAABAAACAAAAAAEAAAoAAAAAAQAABAAAAAABAAAAAAAAAAEAAAIAAAAAAQAACgAAAAABAAAEAAAAAAEAAAAAAAAAAQAAAgAAAAABAAAKAAAAAAEAAAQAAAAAAQAAAAAAAAABAAACAAAAAAEAAAoAAAAAAQAABAAAAAABAAAAAAAAAAEAAAIAAAAAAQAACgAAAAABAAAEAAAAAAEAAAAAAAAAAQAAAgAAAAABAAAKAAAAAAEAAAQAAAAAAQAAAAAAAAABAAACAAAAAAEAAAoAAAAAAQAABAAAAAABAAAAAAAAAAEAAAIAAAAAAQAACgAAAAABAAAEAAAAAAEAAAAAAAAAAQAAAgAAAAABAAAKAAAAAAEAAAQAAAAAAQAAAAAAAAABAAACAAAAAAEAAAoAAAAAAQAABAAAAAABAAAAAAAAAAEAAAIAAAAAAQAACgAAAAABAAAEAAAAAAEAAAAAAAAAAQAAAgAAAAABAAAKAAAAAAEAAAQAAAAAAQAAAAAAAAABAAACAAAAAAEAAAoAAAAAAQAABAAAAAABAAAAAAAAAAEAAAIAAAAAAQAACgAAAAABAAAEAAAAAAEAAAAAAAAAAQAAAgAAAAABAAAKAAAAAAEAAAQAAAAAAQAAAAAAAAABAAACAAAAAAEAAAoAAAAAAQAABAAAAAABAAAAAAAAAAEAAAIAAAAAAQAACgAAAAABAAAEAAAAAAEAAAAAAAAAAQAAAgAAAAABAAAGAAAAAAEAAAIAAAAAAQAABAAAAAABAAAKAAAAAAEAAAQAAAAAAQAAAAAAAAABAAACAAAAAAEAAAoAAAAAAQAABAAAAAABAAAAAAAAAAEAAAIAAAAAAQAACgAAAAABAAAEAAAAAAEAAAAAAAAAAQAAAgAAAAABAAAKAAAAAAEAAAQAAAAAAQAAAAAAAAABAAACAAAAAAEAAAoAAAAAAQAABAAAAAABAAAAAAAAAAEAAAIAAAAAAQAACgAAAAABAAAEAAAAAAEAAAAAAAAAAQAAAgAAAAABAAAKAAAAAAEAAAQAAAAAAQAAAAAAAAABAAACAAAAAAEAAAgAAAAAAgAAAgAAAAABAAAEAAAAAAEAAAoAAAAAAQAABAAAAAABAAAAAAAAAAEAAAIAAAAAAQAACgAAAAABAAAEAAAAAAEAAAAAAAAAAQAAAgAAAAABAAAKAAAAAAEAAAQAAAAAAQAAAAAAAAABAAACAAAAAAEAAAoAAAAAAQAABAAAAAABAAAAAAAAAAEAAAIAAAAAAQAACgAAAAABAAAEAAAAAAEAAAAAAAAAAQAAAgAAAAABAAAKAAAAAAEAAAQAAAAAAQAAAAAAAAABAAACAAAAAAEAAAoAAAAAAQAABAAAAAABAAAAAAAAAAEAAAIAAAAAAQAACgAAAAABAAAEAAAAAAEAAAAAAAAAAQAAAgAAAAABAAAKAAAAAAEAAAQAAAAAAQAAAAAAAAABAAACAAAAAAEAAAYAAAAAAQAAAgAAAAABAAAEAAAAAAEAAAoAAAAAAQAABAAAAAABAAAAAAAAAAEAAAIAAAAAAQAACgAAAAABAAAEAAAAAAEAAAAAAAAAAQAAAgAAAAABAAAGAAAAAAEAAAIAAAAAAQAACgAAAAABAAAEAAAAAAEAAAAAAAAAAQAAAgAAAAABAAAKAAAAAAEAAAQAAAAAAQAAAAAAAAABAAACAAAAAAEAAAoAAAAAAQAABAAAAAABAAAAAAAAAAEAAAIAAAAAAQAACgAAAAABAAAEAAAAAAEAAAAAAAAAAQAAAgAAAAABAAAKAAAAAAEAAAQAAAAAAQAAAAAAAAABAAACAAAAAAEAAAoAAAAAAQAABAAAAAABAAAAAAAAAAEAAAIAAAAAAQAACgAAAAABAAAEAAAAAAEAAAAAAAAAAQAAAgAAAAABAAAKAAAAAAEAAAQAAAAAAQAAAAAAAAABAAACAAAAAAEAAAoAAAAAAQAABAAAAAABAAAAAAAAAAEAAAIAAAAAAQAACgAAAAABAAAEAAAAAAEAAAAAAAAAAQAAAgAAAAABAAAKAAAAAAEAAAQAAAAAAQAAAAAAAAABAAACAAAAAAEAAAYAAAAAAQAAAgAAAAABAAAKAAAAAAEAAAQAAAAAAQAAAAAAAAABAAACAAAAAAEAAAoAAAAAAQAABAAAAAABAAAAAAAAAAEAAAIAAAAAAQAACgAAAAABAAAEAAAAAAEAAAAAAAAAAQAAAgAAAAABAAAKAAAAAAEAAAQAAAAAAQAAAAAAAAABAAACAAAAAAEAAAoAAAAAAQAABAAAAAABAAAAAAAAAAEAAAIAAAAAAQAACgAAAAABAAAEAAAAAAEAAAAAAAAAAQAAAgAAAAABAAAKAAAAAAEAAAQAAAAAAQAAAAAAAAABAAACAAAAAAEAAAoAAAAAAQAABAAAAAABAAAAAAAAAAEAAAIAAAAAAQAACgAAAAABAAAEAAAAAAEAAAAAAAAAAQAAAgAAAAABAAAKAAAAAAEAAAQAAAAAAQAAAAAAAAABAAACAAAAAAEAAAgAAAAAAgAAAgAAAAABAAAKAAAAAAEAAAQAAAAAAQAAAAAAAAABAAACAAAAAAEAAAoAAAAAAQAABAAAAAABAAAAAAAAAAEAAAIAAAAAAQAACgAAAAABAAAEAAAAAAEAAAAAAAAAAQAAAgAAAAABAAAKAAAAAAEAAAQAAAAAAQAAAAAAAAABAAACAAAAAAEAAAoAAAAAAQAABAAAAAABAAAAAAAAAAEAAAIAAAAAAQAACgAAAAABAAAEAAAAAAEAAAAAAAAAAQAAAgAAAAABAAAKAAAAAAEAAAQAAAAAAQAAAAAAAAABAAACAAAAAAEAAAoAAAAAAQAABAAAAAABAAAAAAAAAAEAAAIAAAAAAQAACgAAAAABAAAEAAAAAAEAAAAAAAAAAQAAAgAAAAABAAAKAAAAAAEAAAQAAAAAAQAAAAAAAAABAAACAAAAAAEAAAoAAAAAAQAABAAAAAABAAAAAAAAAAEAAAIAAAAAAQAACgAAAAABAAAEAAAAAAEAAAAAAAAAAQAAAgAAAAABAAAKAAAAAAEAAAQAAAAAAQAAAAAAAAABAAACAAAAAAEAAAgAAAAAAgAAAgAAAAABAAAIAAAAAAIAAAIAAAAAAQAACgAAAAABAAAEAAAAAAEAAAAAAAAAAQAAAgAAAAABAAAEAAAAAAEAAAoAAAAAAQAABAAAAAABAAAAAAAAAAEAAAIAAAAAAQAACgAAAAABAAAEAAAAAAEAAAAAAAAAAQAAAgAAAAABAAAKAAAAAAEAAAQAAAAAAQAAAAAAAAABAAACAAAAAAEAAAoAAAAAAQAABAAAAAABAAAAAAAAAAEAAAIAAAAAAQAACgAAAAABAAAEAAAAAAEAAAAAAAAAAQAAAgAAAAABAAAKAAAAAAEAAAQAAAAAAQAAAAAAAAABAAACAAAAAAEAAAgAAAAAAgAAAgAAAAABAAAKAAAAAAEAAAQAAAAAAQAAAAAAAAABAAACAAAAAAEAAAgAAAAAAgAAAgAAAAABAAAGAAAAAAEAAAIAAAAAAQAACgAAAAABAAAEAAAAAAEAAAAAAAAAAQAAAgAAAAABAAAKAAAAAAEAAAQAAAAAAQAAAAAAAAABAAACAAAAAAEAAAoAAAAAAQAABAAAAAABAAAAAAAAAAEAAAIAAAAAAQAACgAAAAABAAAEAAAAAAEAAAAAAAAAAQAAAgAAAAABAAAKAAAAAAEAAAQAAAAAAQAAAAAAAAABAAACAAAAAAEAAAoAAAAAAQAABAAAAAABAAAAAAAAAAEAAAIAAAAAAQAACgAAAAABAAAEAAAAAAEAAAAAAAAAAQAAAgAAAAABAAAKAAAAAAEAAAQAAAAAAQAAAAAAAAABAAACAAAAAAEAAAoAAAAAAQAABAAAAAABAAAAAAAAAAEAAAIAAAAAAQAACgAAAAABAAAEAAAAAAEAAAAAAAAAAQAAAgAAAAABAAAKAAAAAAEAAAQAAAAAAQAAAAAAAAABAAACAAAAAAEAAAoAAAAAAQAABAAAAAABAAAAAAAAAAEAAAIAAAAAAQAACgAAAAABAAAEAAAAAAEAAAAAAAAAAQAAAgAAAAABAAAKAAAAAAEAAAQAAAAAAQAAAAAAAAABAAACAAAAAAEAAAoAAAAAAQAABAAAAAABAAAAAAAAAAEAAAIAAAAAAQAACgAAAAABAAAEAAAAAAEAAAAAAAAAAQAAAgAAAAABAAAKAAAAAAEAAAQAAAAAAQAAAAAAAAABAAACAAAAAAEAAAoAAAAAAQAABAAAAAABAAAAAAAAAAEAAAIAAAAAAQAABgAAAAABAAACAAAAAAEAAAoAAAAAAQAABAAAAAABAAAAAAAAAAEAAAIAAAAAAQAACgAAAAABAAAEAAAAAAEAAAAAAAAAAQAAAgAAAAABAAAKAAAAAAEAAAQAAAAAAQAAAAAAAAABAAACAAAAAAEAAAoAAAAAAQAABAAAAAABAAAAAAAAAAEAAAIAAAAAAQAACgAAAAABAAAEAAAAAAEAAAAAAAAAAQAAAgAAAAABAAAKAAAAAAEAAAQAAAAAAQAAAAAAAAABAAACAAAAAAEAAAoAAAAAAQAABAAAAAABAAAAAAAAAAEAAAIAAAAAAQAACgAAAAABAAAEAAAAAAEAAAAAAAAAAQAAAgAAAAABAAAKAAAAAAEAAAQAAAAAAQAAAAAAAAABAAACAAAAAAEAAAYAAAAAAQAAAgAAAAABAAAKAAAAAAEAAAQAAAAAAQAAAAAAAAABAAACAAAAAAEAAAYAAAAAAQAAAgAAAAABAAAKAAAAAAEAAAQAAAAAAQAAAAAAAAABAAACAAAAAAEAAAoAAAAAAQAABAAAAAABAAAAAAAAAAEAAAIAAAAAAQAACgAAAAABAAAEAAAAAAEAAAAAAAAAAQAAAgAAAAABAAAKAAAAAAEAAAQAAAAAAQAAAAAAAAABAAACAAAAAAEAAAoAAAAAAQAABAAAAAABAAAAAAAAAAEAAAIAAAAAAQAACgAAAAABAAAEAAAAAAEAAAAAAAAAAQAAAgAAAAABAAAKAAAAAAEAAAQAAAAAAQAAAAAAAAABAAACAAAAAAEAAAQAAAAAAQAACgAAAAABAAAEAAAAAAEAAAAAAAAAAQAAAgAAAAABAAAIAAAAAAIAAAIAAAAAAQAACgAAAAABAAAEAAAAAAEAAAAAAAAAAQAAAgAAAAABAAAKAAAAAAEAAAQAAAAAAQAAAAAAAAABAAACAAAAAAEAAAYAAAAAAQAAAgAAAAABAAAEAAAAAAEAAAoAAAAAAQAABAAAAAABAAAAAAAAAAEAAAIAAAAAAQAACgAAAAABAAAEAAAAAAEAAAAAAAAAAQAAAgAAAAABAAAKAAAAAAEAAAQAAAAAAQAAAAAAAAABAAACAAAAAAEAAAoAAAAAAQAABAAAAAABAAAAAAAAAAEAAAIAAAAAAQAACgAAAAABAAAEAAAAAAEAAAAAAAAAAQAAAgAAAAABAAAKAAAAAAEAAAQAAAAAAQAAAAAAAAABAAACAAAAAAEAAAoAAAAAAQAABAAAAAABAAAAAAAAAAEAAAIAAAAAAQAACAAAAAACAAACAAAAAAEAAAoAAAAAAQAABAAAAAABAAAAAAAAAAEAAAIAAAAAAQAACgAAAAABAAAEAAAAAAEAAAAAAAAAAQAAAgAAAAABAAAKAAAAAAEAAAQAAAAAAQAAAAAAAAABAAACAAAAAAEAAAoAAAAAAQAABAAAAAABAAAAAAAAAAEAAAIAAAAAAQAACgAAAAABAAAEAAAAAAEAAAAAAAAAAQAAAgAAAAABAAAKAAAAAAEAAAQAAAAAAQAAAAAAAAABAAACAAAAAAEAAAQAAAAAAQAACgAAAAABAAAEAAAAAAEAAAAAAAAAAQAAAgAAAAABAAAKAAAAAAEAAAQAAAAAAQAAAAAAAAABAAACAAAAAAEAAAYAAAAAAQAAAgAAAAABAAAKAAAAAAEAAAQAAAAAAQAAAAAAAAABAAACAAAAAAEAAAoAAAAAAQAABAAAAAABAAAAAAAAAAEAAAIAAAAAAQAACgAAAAABAAAEAAAAAAEAAAAAAAAAAQAAAgAAAAABAAAKAAAAAAEAAAQAAAAAAQAAAAAAAAABAAACAAAAAAEAAAoAAAAAAQAABAAAAAABAAAAAAAAAAEAAAIAAAAAAQAACAAAAAACAAACAAAAAAEAAAoAAAAAAQAABAAAAAABAAAAAAAAAAEAAAIAAAAAAQAABgAAAAABAAACAAAAAAEAAAoAAAAAAQAABAAAAAABAAAAAAAAAAEAAAIAAAAAAQAACgAAAAABAAAEAAAAAAEAAAAAAAAAAQAAAgAAAAABAAAKAAAAAAEAAAQAAAAAAQAAAAAAAAABAAACAAAAAAEAAAoAAAAAAQAABAAAAAABAAAAAAAAAAEAAAIAAAAAAQAACgAAAAABAAAEAAAAAAEAAAAAAAAAAQAAAgAAAAABAAAIAAAAAAIAAAIAAAAAAQAACgAAAAABAAAEAAAAAAEAAAAAAAAAAQAAAgAAAAABAAAKAAAAAAEAAAQAAAAAAQAAAAAAAAABAAACAAAAAAEAAAoAAAAAAQAABAAAAAABAAAAAAAAAAEAAAIAAAAAAQAACgAAAAABAAAEAAAAAAEAAAAAAAAAAQAAAgAAAAABAAAKAAAAAAEAAAQAAAAAAQAAAAAAAAABAAACAAAAAAEAAAoAAAAAAQAABAAAAAABAAAAAAAAAAEAAAIAAAAAAQAACgAAAAABAAAEAAAAAAEAAAAAAAAAAQAAAgAAAAABAAAKAAAAAAEAAAQAAAAAAQAAAAAAAAABAAACAAAAAAEAAAoAAAAAAQAABAAAAAABAAAAAAAAAAEAAAIAAAAAAQAACgAAAAABAAAEAAAAAAEAAAAAAAAAAQAAAgAAAAABAAAKAAAAAAEAAAQAAAAAAQAAAAAAAAABAAACAAAAAAEAAAoAAAAAAQAABAAAAAABAAAAAAAAAAEAAAIAAAAAAQAACgAAAAABAAAEAAAAAAEAAAAAAAAAAQAAAgAAAAABAAAKAAAAAAEAAAQAAAAAAQAAAAAAAAABAAACAAAAAAEAAAoAAAAAAQAABAAAAAABAAAAAAAAAAEAAAIAAAAAAQAACgAAAAABAAAEAAAAAAEAAAAAAAAAAQAAAgAAAAABAAAKAAAAAAEAAAQAAAAAAQAAAAAAAAABAAACAAAAAAEAAAoAAAAAAQAABAAAAAABAAAAAAAAAAEAAAIAAAAAAQAACgAAAAABAAAEAAAAAAEAAAAAAAAAAQAAAgAAAAABAAAKAAAAAAEAAAQAAAAAAQAAAAAAAAABAAACAAAAAAEAAAYAAAAAAQAAAgAAAAABAAAEAAAAAAEAAAoAAAAAAQAABAAAAAABAAAAAAAAAAEAAAIAAAAAAQAACgAAAAABAAAEAAAAAAEAAAAAAAAAAQAAAgAAAAABAAAKAAAAAAEAAAQAAAAAAQAAAAAAAAABAAACAAAAAAEAAAoAAAAAAQAABAAAAAABAAAAAAAAAAEAAAIAAAAAAQAACgAAAAABAAAEAAAAAAEAAAAAAAAAAQAAAgAAAAABAAAKAAAAAAEAAAQAAAAAAQAAAAAAAAABAAACAAAAAAEAAAoAAAAAAQAABAAAAAABAAAAAAAAAAEAAAIAAAAAAQAACgAAAAABAAAEAAAAAAEAAAAAAAAAAQAAAgAAAAABAAAKAAAAAAEAAAQAAAAAAQAAAAAAAAABAAACAAAAAAEAAAoAAAAAAQAABAAAAAABAAAAAAAAAAEAAAIAAAAAAQAACAAAAAACAAACAAAAAAEAAAgAAAAAAgAAAgAAAAABAAAKAAAAAAEAAAQAAAAAAQAAAAAAAAABAAACAAAAAAEAAAoAAAAAAQAABAAAAAABAAAAAAAAAAEAAAIAAAAAAQAACgAAAAABAAAEAAAAAAEAAAAAAAAAAQAAAgAAAAABAAAIAAAAAAIAAAIAAAAAAQAACgAAAAABAAAEAAAAAAEAAAAAAAAAAQAAAgAAAAABAAAKAAAAAAEAAAQAAAAAAQAAAAAAAAABAAACAAAAAAEAAAoAAAAAAQAABAAAAAABAAAAAAAAAAEAAAIAAAAAAQAACgAAAAABAAAEAAAAAAEAAAAAAAAAAQAAAgAAAAABAAAKAAAAAAEAAAQAAAAAAQAAAAAAAAABAAACAAAAAAEAAAoAAAAAAQAABAAAAAABAAAAAAAAAAEAAAIAAAAAAQAACgAAAAABAAAEAAAAAAEAAAAAAAAAAQAAAgAAAAABAAAKAAAAAAEAAAQAAAAAAQAAAAAAAAABAAACAAAAAAEAAAgAAAAAAgAAAgAAAAABAAAKAAAAAAEAAAQAAAAAAQAAAAAAAAABAAACAAAAAAEAAAoAAAAAAQAABAAAAAABAAAAAAAAAAEAAAIAAAAAAQAACgAAAAABAAAEAAAAAAEAAAAAAAAAAQAAAgAAAAABAAAKAAAAAAEAAAQAAAAAAQAAAAAAAAABAAACAAAAAAEAAAoAAAAAAQAABAAAAAABAAAAAAAAAAEAAAIAAAAAAQAABAAAAAABAAAKAAAAAAEAAAQAAAAAAQAAAAAAAAABAAACAAAAAAEAAAoAAAAAAQAABAAAAAABAAAAAAAAAAEAAAIAAAAAAQAACgAAAAABAAAEAAAAAAEAAAAAAAAAAQAAAgAAAAABAAAKAAAAAAEAAAQAAAAAAQAAAAAAAAABAAACAAAAAAEAAAoAAAAAAQAABAAAAAABAAAAAAAAAAEAAAIAAAAAAQAACgAAAAABAAAEAAAAAAEAAAAAAAAAAQAAAgAAAAABAAAKAAAAAAEAAAQAAAAAAQAAAAAAAAABAAACAAAAAAEAAAoAAAAAAQAABAAAAAABAAAAAAAAAAEAAAIAAAAAAQAACgAAAAABAAAEAAAAAAEAAAAAAAAAAQAAAgAAAAABAAAKAAAAAAEAAAQAAAAAAQAAAAAAAAABAAACAAAAAAEAAAoAAAAAAQAABAAAAAABAAAAAAAAAAEAAAIAAAAAAQAACgAAAAABAAAEAAAAAAEAAAAAAAAAAQAAAgAAAAABAAAKAAAAAAEAAAQAAAAAAQAAAAAAAAABAAACAAAAAAEAAAoAAAAAAQAABAAAAAABAAAAAAAAAAEAAAIAAAAAAQAACgAAAAABAAAEAAAAAAEAAAAAAAAAAQAAAgAAAAABAAAKAAAAAAEAAAQAAAAAAQAAAAAAAAABAAACAAAAAAEAAAoAAAAAAQAABAAAAAABAAAAAAAAAAEAAAIAAAAAAQAACgAAAAABAAAEAAAAAAEAAAAAAAAAAQAAAgAAAAABAAAKAAAAAAEAAAQAAAAAAQAAAAAAAAABAAACAAAAAAEAAAoAAAAAAQAABAAAAAABAAAAAAAAAAEAAAIAAAAAAQAACAAAAAACAAACAAAAABxzdHNjAAAAAAAAAAEAAAABAAAD7QAAAAEAAA/Ic3RzegAAAAAAAAAAAAAD7QAABPEAAABrAAAALwAAABcAAABCAAAAZAAAAEQAAAAkAAAAHgAAAEwAAAAxAAAAGgAAACoAAAA/AAAAPAAAACQAAAAfAAAAoAAAACsAAAAlAAAAKAAAAFIAAABPAAAAJwAAADEAAACmAAAAPAAAAC4AAAAqAAAAQwAAADAAAACQAAAALAAAACwAAAAgAAAAWQAAADEAAAAqAAAAMwAAAHMAAAAwAAAALgAAAC8AAACPAAAANwAAAC0AAAApAAAAaQAAADAAAAA2AAAAKQAAAIsAAAA5AAAAJgAAACgAAAB/AAAAKgAAACsAAAApAAAAfAAAAEEAAAAwAAAALAAAAG8AAAA4AAAAMQAAACoAAABMAAAALwAAACoAAAAkAAAAsgAAADgAAAAuAAAAMAAAAFQAAAAsAAAAYQAAADgAAAAzAAAAKAAAAE0AAAA7AAAANQAAACkAAABmAAAAMgAAAC0AAAC0AAAANwAAAC4AAACeAAAAOwAAAC4AAAApAAAAcgAAADoAAAAnAAAAMQAAAGMAAAA3AAAAPAAAAC8AAAB6AAAAPwAAADAAAAArAAAAcwAAADEAAAAvAAAAMwAAAGYAAAA3AAAAKQAAACcAAABNAAAALQAAACQAAAAsAAAAbQAAAEcAAAAxAAAAKQAAAE0AAABBAAAAKgAAACsAAABmAAAAOQAAACkAAAAmAAAAXAAAADkAAAA4AAAAJwAAAH4AAAA4AAAAKgAAADsAAABeAAAANQAAACoAAAA8AAAAagAAADIAAAAiAAAALAAAAG8AAAAvAAAAKgAAACoAAAC6AAAANAAAACYAAAAwAAAAiwAAADMAAAAzAAAAPAAAAGgAAAApAAAAKwAAACUAAABZAAAAKwAAAC0AAAAmAAAAUAAAACUAAAA6AAAAewAAAD4AAAAtAAAAKgAAAG4AAAAuAAAAKAAAADoAAABIAAAALgAAACYAAAAsAAAAYwAAADQAAAAnAAAALwAAAH8AAAA7AAAAIQAAADUAAAB4AAAAOAAAACoAAAAuAAAATgAAAD0AAAAvAAAALAAAAEAAAAApAAAAJwAAAb4AAABOAAAAJwAAABoAAAAjAAAAXAAAACQAAAASAAAAIAAAAHcAAAAiAAAAEgAAACEAAABeAAAAIQAAACMAAAASAAAAUgAAACEAAAAgAAAAEwAAADYAAAAnAAAALgAAABIAAABFAAAAIQAAACEAAAASAAAAbwAAADgAAAAiAAAAIwAAAEYAAAAqAAAAGgAAADgAAABPAAAAIAAAAEAAAADGAAAAMAAAADMAAAAvAAAArgAAADYAAAAvAAAAKAAAAF8AAAA8AAAAbAAAADkAAAAtAAAAKgAAAGUAAAAtAAAAKwAAACEAAABjAAAAMAAAADIAAAAoAAAAeQAAAD0AAAAnAAAAMAAAAFsAAAAqAAAAJwAAACUAAABjAAAALwAAACoAAAAiAAAAYwAAADEAAAAuAAAAIgAAAEcAAAAoAAAAJwAAACQAAABdAAAANAAAACMAAAAoAAAAmQAAADcAAAArAAAAMQAAAJMAAABDAAAALAAAACQAAADAAAAAMwAAAFYAAAA1AAAALQAAACYAAABfAAAALwAAACcAAAAjAAAAagAAAEIAAAAtAAAAKwAAAKkAAABGAAAAKgAAACoAAACpAAAAPAAAADIAAAAtAAAAmAAAAEUAAAA6AAAALAAAAF4AAAAtAAAAJQAAACsAAACTAAAAPAAAACcAAAAsAAAAcgAAADgAAAAvAAAAMgAAAFcAAAAtAAAALAAAACsAAABeAAAAKwAAACcAAACBAAAAPgAAADIAAAAyAAAAbwAAADsAAAAqAAAAKAAAAHUAAAAvAAAAMAAAACkAAABTAAAAOAAAACUAAAAxAAAAaQAAADYAAAArAAAAMgAAAGUAAAA/AAAANgAAACgAAABaAAAANQAAACcAAAAnAAAAVgAAADQAAAAoAAAALgAAAGgAAABHAAAALAAAADUAAABlAAAAPQAAACoAAAA4AAAASwAAADQAAAAqAAAAMwAAAFIAAAAxAAAALAAAADEAAAB2AAAAOAAAACoAAAAuAAAAZQAAADIAAAAnAAAATgAAAEQAAAA1AAAAOAAAADoAAAApAAAAJwAAAhMAAACWAAAAMgAAACIAAAAjAAAAfgAAACIAAAAfAAAAFAAAAB8AAAAWAAAAPwAAABIAAABgAAAALwAAABoAAAAiAAAAOgAAACQAAAAVAAAAGwAAAEkAAAAxAAAAGgAAACMAAABhAAAAJQAAAB8AAABBAAAAJQAAABIAAAAxAAAAeQAAADYAAAAuAAAAeQAAAB8AAACXAAAAMAAAACMAAAAiAAAAmAAAADwAAAAqAAAAJwAAAHgAAAAwAAAAMgAAADcAAABEAAAALQAAACIAAAAiAAAAYAAAADIAAAAqAAAAIgAAAGwAAAAtAAAAKwAAACcAAAB1AAAAMAAAACQAAAAqAAAAwgAAADEAAAAvAAAAJgAAAJQAAAA+AAAALgAAADcAAAB9AAAANAAAACgAAAAlAAAAaQAAACwAAAAoAAAAJQAAAKcAAAAuAAAAKgAAACgAAACOAAAAOwAAAC0AAAAtAAAASAAAADEAAAA0AAAAOgAAAFoAAAAnAAAAJwAAACMAAACOAAAAKQAAACYAAAAmAAAAbwAAADMAAAApAAAAKAAAAI0AAAAsAAAAMQAAADMAAABwAAAAJwAAAGMAAAAyAAAAKgAAACoAAACKAAAAPgAAAC4AAAAwAAAAagAAADIAAAApAAAANgAAAFEAAAAsAAAAJQAAACkAAABXAAAAQAAAACoAAAAyAAAAfgAAADEAAAAwAAAAMAAAAHMAAABCAAAALgAAADUAAABtAAAAJwAAACUAAAAnAAAAaAAAAC8AAAArAAAAKAAAAEwAAAAnAAAAlgAAAEoAAAAnAAAALAAAAHkAAAApAAAAZAAAACoAAAAuAAAAJQAAAFwAAAAwAAAALAAAACkAAABTAAAALwAAAC8AAAAnAAAAeQAAAEMAAAA0AAAAKgAAAGQAAAA6AAAAKQAAACQAAABUAAAAPAAAAC4AAAApAAAAaAAAADMAAAAnAAAAKAAAADcAAACDAAAAOgAAACoAAAAuAAAAiQAAADIAAAA1AAAAdAAAADoAAAAyAAAALwAAAEEAAAA3AAAAKAAAACkAAAA2AAAAJAAAAasAAABEAAAAIAAAAB4AAAAWAAAAaAAAACQAAAAjAAAAFAAAAHAAAAA3AAAAJAAAADIAAAA2AAAAMwAAABoAAAAeAAAANgAAADIAAAAfAAAAGwAAADIAAAAqAAAAHwAAABwAAAB/AAAALgAAACEAAAAdAAAAPQAAACYAAAAgAAAAfAAAAC0AAAAvAAAALQAAAKMAAAA5AAAAKAAAAC8AAACYAAAAQAAAACYAAAAtAAAAUAAAACcAAAAvAAAAJAAAAGoAAAA3AAAANAAAACgAAAByAAAALAAAACEAAAAxAAAAYwAAAJ8AAAAzAAAALQAAACsAAACBAAAAQgAAAC0AAAAyAAAAZAAAACoAAABuAAAAPgAAACsAAAAtAAAAbQAAAD4AAAAmAAAAKQAAALcAAABDAAAANgAAAC0AAABzAAAAOgAAADAAAAAqAAAAfAAAADUAAAA2AAAAKAAAAG4AAAAvAAAAJAAAAJkAAABAAAAALwAAACsAAABpAAAANQAAAFkAAAAxAAAAKwAAACkAAABvAAAAKQAAACYAAAAnAAAAnAAAAEUAAAA+AAAALwAAAGsAAAA5AAAALQAAACoAAABaAAAAKwAAACsAAAAqAAAAaAAAADIAAAAvAAAAgQAAAC8AAAAxAAAAKgAAAGsAAAAzAAAALQAAACUAAABjAAAANgAAACsAAAAqAAAAWgAAADUAAAAoAAAAKgAAAHEAAAAzAAAANwAAACcAAABcAAAASAAAADIAAAArAAAATQAAADAAAAAqAAAAKAAAAFkAAAAuAAAAKAAAACoAAABlAAAAQQAAADIAAAAnAAAAbAAAADwAAAAxAAAAKgAAAFgAAAAuAAAAMAAAACkAAABkAAAAJgAAACQAAAAmAAAAcgAAAE8AAAAsAAAAMwAAAFoAAABFAAAAKwAAACwAAABdAAAANQAAACcAAAAmAAAAZAAAACwAAAAkAAAAKwAAAIEAAABDAAAAJwAAACoAAACCAAAANwAAACoAAAApAAAAUgAAACoAAAAuAAAAJwAAADwAAAA1AAAAKAAAAC4AAAA1AAAAMAAAAoEAAAC0AAAAMQAAAB4AAAAhAAAAYwAAACgAAAAUAAAAIwAAAB4AAAAWAAAANgAAABIAAAApAAAAFgAAABQAAAASAAAAWgAAACQAAAAeAAAAGQAAACYAAAAaAAAAGQAAABIAAACCAAAAIQAAACAAAAAjAAAARwAAACAAAAAeAAAAJAAAAIwAAAA3AAAAHgAAACQAAABiAAAAIgAAABgAAAAfAAAAKwAAAB0AAAA5AAAAbAAAAC8AAAA6AAAAegAAACkAAAAiAAAAHgAAAHUAAAA0AAAAIAAAACIAAACDAAAAPwAAACcAAAAdAAAAWgAAADQAAAAeAAAAlAAAADMAAAAhAAAAIgAAAGsAAAA1AAAAHwAAACoAAAB1AAAAOAAAADoAAAAlAAAAzQAAADYAAAAqAAAALgAAAJAAAAAzAAAAKAAAAC8AAAB0AAAAOwAAADcAAAAqAAAAagAAACsAAAAsAAAAKgAAAGsAAAA1AAAAKgAAACgAAABbAAAAMgAAACgAAACJAAAAPAAAAC0AAAA5AAAAhwAAADAAAAAoAAAALwAAAGcAAAA0AAAAOAAAACYAAABKAAAAJwAAACkAAAAmAAAATQAAADEAAAAsAAAALgAAAEkAAACgAAAARAAAACcAAAAtAAAAkgAAADUAAAAnAAAAJgAAAFwAAAAsAAAAKgAAACQAAABVAAAAMwAAADIAAAAjAAAAbAAAAC8AAAA0AAAAIwAAAJsAAAA5AAAAKgAAAEwAAAByAAAAMgAAACQAAAA3AAAAjwAAACgAAAAoAAAAIwAAAFEAAAAvAAAAOgAAACMAAACBAAAAMwAAACQAAAAmAAAArQAAADcAAAAzAAAAKgAAAJMAAABAAAAALwAAAC4AAABrAAAAQgAAACsAAAAuAAAApgAAADYAAAAmAAAALgAAAGMAAAA+AAAAKAAAADEAAABYAAAAPwAAACkAAAArAAAAcAAAADYAAAArAAAAMAAAAG4AAABBAAAALAAAACwAAABYAAAANwAAADMAAAAuAAAAXAAAACwAAAAnAAAAJwAAADkAAAAwAAAAMgAAABRzdGNvAAAAAAAAAAEAAAAwAAAAYnVkdGEAAABabWV0YQAAAAAAAAAhaGRscgAAAAAAAAAAbWRpcmFwcGwAAAAAAAAAAAAAAAAtaWxzdAAAACWpdG9vAAAAHWRhdGEAAAABAAAAAExhdmY1OC43Ni4xMDA=\" type=\"video/mp4\">\n",
              "  Your browser does not support the video tag.\n",
              "  </video>"
            ]
          },
          "metadata": {},
          "execution_count": 110
        }
      ]
    },
    {
      "cell_type": "code",
      "source": [
        "create_policy_eval_video(random_policy, \"random-agent\")"
      ],
      "metadata": {
        "colab": {
          "base_uri": "https://localhost:8080/",
          "height": 539
        },
        "id": "6VI91ZVrYvES",
        "outputId": "6be78053-27db-4ea9-f848-3c635964105d"
      },
      "execution_count": 111,
      "outputs": [
        {
          "output_type": "stream",
          "name": "stderr",
          "text": [
            "WARNING:root:IMAGEIO FFMPEG_WRITER WARNING: input image is not divisible by macro_block_size=16, resizing from (400, 600) to (400, 608) to ensure video compatibility with most codecs and players. To prevent resizing, make your input image divisible by the macro_block_size or set the macro_block_size to None (risking incompatibility). You may also see a FFMPEG warning concerning speedloss due to data not being aligned.\n"
          ]
        },
        {
          "output_type": "execute_result",
          "data": {
            "text/plain": [
              "<IPython.core.display.HTML object>"
            ],
            "text/html": [
              "\n",
              "  <video width=\"640\" height=\"480\" controls>\n",
              "    <source src=\"data:video/mp4;base64,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\" type=\"video/mp4\">\n",
              "  Your browser does not support the video tag.\n",
              "  </video>"
            ]
          },
          "metadata": {},
          "execution_count": 111
        }
      ]
    }
  ]
}