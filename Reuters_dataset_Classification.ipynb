{
  "nbformat": 4,
  "nbformat_minor": 0,
  "metadata": {
    "colab": {
      "provenance": [],
      "toc_visible": true,
      "authorship_tag": "ABX9TyPbDknPNImVnyvJfbPgNRAr",
      "include_colab_link": true
    },
    "kernelspec": {
      "name": "python3",
      "display_name": "Python 3"
    },
    "language_info": {
      "name": "python"
    }
  },
  "cells": [
    {
      "cell_type": "markdown",
      "metadata": {
        "id": "view-in-github",
        "colab_type": "text"
      },
      "source": [
        "<a href=\"https://colab.research.google.com/github/chrisouma/chrisouma/blob/main/Reuters_dataset_Classification.ipynb\" target=\"_parent\"><img src=\"https://colab.research.google.com/assets/colab-badge.svg\" alt=\"Open In Colab\"/></a>"
      ]
    },
    {
      "cell_type": "code",
      "execution_count": null,
      "metadata": {
        "colab": {
          "base_uri": "https://localhost:8080/"
        },
        "id": "ZY1AsrhH-aWH",
        "outputId": "d4cfa6d2-469b-4446-a58b-7adc63780221"
      },
      "outputs": [
        {
          "output_type": "stream",
          "name": "stdout",
          "text": [
            "Model: \"sequential_2\"\n",
            "_________________________________________________________________\n",
            " Layer (type)                Output Shape              Param #   \n",
            "=================================================================\n",
            " dense_6 (Dense)             (None, 32)                25120     \n",
            "                                                                 \n",
            " dense_7 (Dense)             (None, 64)                2112      \n",
            "                                                                 \n",
            " dense_8 (Dense)             (None, 10)                650       \n",
            "                                                                 \n",
            "=================================================================\n",
            "Total params: 27882 (108.91 KB)\n",
            "Trainable params: 27882 (108.91 KB)\n",
            "Non-trainable params: 0 (0.00 Byte)\n",
            "_________________________________________________________________\n"
          ]
        }
      ],
      "source": [
        "import matplotlib.pyplot as plt\n",
        "from tensorflow.keras import layers, models\n",
        "\n",
        "# Define the model\n",
        "model = models.Sequential()\n",
        "\n",
        "# Add an Input layer\n",
        "model.add(layers.Input(shape=(784,)))\n",
        "\n",
        "# Add a Dense layer\n",
        "model.add(layers.Dense(32))\n",
        "\n",
        "# Add more layers as needed\n",
        "model.add(layers.Dense(64, activation='relu'))\n",
        "model.add(layers.Dense(10, activation='softmax'))\n",
        "\n",
        "# Print the model summary\n",
        "model.summary()"
      ]
    },
    {
      "cell_type": "code",
      "source": [
        "from tensorflow.keras import layers, models\n",
        "\n",
        "# Define the model\n",
        "model = models.Sequential()\n",
        "\n",
        "# Add an Input layer with shape (784,)\n",
        "model.add(layers.Input(shape=(784,)))\n",
        "\n",
        "# Add a Dense layer with 32 units and ReLU activation\n",
        "model.add(layers.Dense(32, activation='relu'))\n",
        "\n",
        "# Add more layers as needed\n",
        "model.add(layers.Dense(64, activation='relu'))\n",
        "model.add(layers.Dense(10, activation='softmax'))\n",
        "\n",
        "# Print the model summary\n",
        "model.summary()"
      ],
      "metadata": {
        "colab": {
          "base_uri": "https://localhost:8080/"
        },
        "id": "vQrQb3mKAHLI",
        "outputId": "a57a9fe1-247e-4dc4-d6b3-c05b13839de2"
      },
      "execution_count": null,
      "outputs": [
        {
          "output_type": "stream",
          "name": "stdout",
          "text": [
            "Model: \"sequential_3\"\n",
            "_________________________________________________________________\n",
            " Layer (type)                Output Shape              Param #   \n",
            "=================================================================\n",
            " dense_9 (Dense)             (None, 32)                25120     \n",
            "                                                                 \n",
            " dense_10 (Dense)            (None, 64)                2112      \n",
            "                                                                 \n",
            " dense_11 (Dense)            (None, 10)                650       \n",
            "                                                                 \n",
            "=================================================================\n",
            "Total params: 27882 (108.91 KB)\n",
            "Trainable params: 27882 (108.91 KB)\n",
            "Non-trainable params: 0 (0.00 Byte)\n",
            "_________________________________________________________________\n"
          ]
        }
      ]
    },
    {
      "cell_type": "code",
      "source": [
        "#Loading the Reuters dataset\n",
        "from keras.datasets import reuters\n",
        "(train_data, train_labels), (test_data, test_labels) = reuters.load_data(num_words=10000)"
      ],
      "metadata": {
        "colab": {
          "base_uri": "https://localhost:8080/"
        },
        "id": "_yQVzfn5bu8O",
        "outputId": "31c64527-c2ae-40c8-d6fc-2b3990eeeaa9"
      },
      "execution_count": null,
      "outputs": [
        {
          "output_type": "stream",
          "name": "stdout",
          "text": [
            "Downloading data from https://storage.googleapis.com/tensorflow/tf-keras-datasets/reuters.npz\n",
            "2110848/2110848 [==============================] - 0s 0us/step\n"
          ]
        }
      ]
    },
    {
      "cell_type": "code",
      "source": [
        "len(train_data)"
      ],
      "metadata": {
        "colab": {
          "base_uri": "https://localhost:8080/"
        },
        "id": "wpYAmKmWc7sl",
        "outputId": "9d81467d-4e9a-4332-a062-a5622df1c296"
      },
      "execution_count": null,
      "outputs": [
        {
          "output_type": "execute_result",
          "data": {
            "text/plain": [
              "8982"
            ]
          },
          "metadata": {},
          "execution_count": 5
        }
      ]
    },
    {
      "cell_type": "code",
      "source": [
        "len(test_data)"
      ],
      "metadata": {
        "colab": {
          "base_uri": "https://localhost:8080/"
        },
        "id": "Uvh5IU45dgXM",
        "outputId": "a73bb609-b841-4da1-e72b-a6e9e3d946a0"
      },
      "execution_count": null,
      "outputs": [
        {
          "output_type": "execute_result",
          "data": {
            "text/plain": [
              "2246"
            ]
          },
          "metadata": {},
          "execution_count": 6
        }
      ]
    },
    {
      "cell_type": "code",
      "source": [
        "train_data[20]"
      ],
      "metadata": {
        "colab": {
          "base_uri": "https://localhost:8080/"
        },
        "id": "O18mHn1Hd_iK",
        "outputId": "1d5a6ee9-d921-4252-f49d-9134e6dc428c"
      },
      "execution_count": null,
      "outputs": [
        {
          "output_type": "execute_result",
          "data": {
            "text/plain": [
              "[1,\n",
              " 779,\n",
              " 37,\n",
              " 38,\n",
              " 465,\n",
              " 278,\n",
              " 6623,\n",
              " 55,\n",
              " 900,\n",
              " 6,\n",
              " 2,\n",
              " 172,\n",
              " 4,\n",
              " 2,\n",
              " 2,\n",
              " 66,\n",
              " 474,\n",
              " 10,\n",
              " 920,\n",
              " 24,\n",
              " 41,\n",
              " 6432,\n",
              " 9691,\n",
              " 1333,\n",
              " 136,\n",
              " 4,\n",
              " 37,\n",
              " 38,\n",
              " 309,\n",
              " 2276,\n",
              " 198,\n",
              " 2020,\n",
              " 364,\n",
              " 2061,\n",
              " 6,\n",
              " 439,\n",
              " 2249,\n",
              " 1327,\n",
              " 5,\n",
              " 37,\n",
              " 38,\n",
              " 465,\n",
              " 247,\n",
              " 348,\n",
              " 4,\n",
              " 460,\n",
              " 356,\n",
              " 990,\n",
              " 1589,\n",
              " 8,\n",
              " 136,\n",
              " 1053,\n",
              " 3373,\n",
              " 634,\n",
              " 330,\n",
              " 116,\n",
              " 2061,\n",
              " 1185,\n",
              " 6,\n",
              " 2,\n",
              " 198,\n",
              " 236,\n",
              " 1176,\n",
              " 6,\n",
              " 3037,\n",
              " 6448,\n",
              " 1693,\n",
              " 238,\n",
              " 1720,\n",
              " 990,\n",
              " 309,\n",
              " 415,\n",
              " 265,\n",
              " 5992,\n",
              " 8945,\n",
              " 1149,\n",
              " 9118,\n",
              " 23,\n",
              " 779,\n",
              " 10,\n",
              " 103,\n",
              " 5,\n",
              " 465,\n",
              " 278,\n",
              " 6623,\n",
              " 7,\n",
              " 42,\n",
              " 1267,\n",
              " 6,\n",
              " 6432,\n",
              " 4,\n",
              " 3373,\n",
              " 7,\n",
              " 269,\n",
              " 10,\n",
              " 583,\n",
              " 43,\n",
              " 6,\n",
              " 2070,\n",
              " 1762,\n",
              " 6,\n",
              " 30,\n",
              " 3069,\n",
              " 13,\n",
              " 4,\n",
              " 1185,\n",
              " 199,\n",
              " 8,\n",
              " 4,\n",
              " 6623,\n",
              " 348,\n",
              " 990,\n",
              " 313,\n",
              " 415,\n",
              " 265,\n",
              " 6016,\n",
              " 5731,\n",
              " 1149,\n",
              " 7108,\n",
              " 9816,\n",
              " 2,\n",
              " 1149,\n",
              " 2,\n",
              " 1460,\n",
              " 2,\n",
              " 1149,\n",
              " 2,\n",
              " 1251,\n",
              " 2,\n",
              " 1149,\n",
              " 2,\n",
              " 9,\n",
              " 2,\n",
              " 2,\n",
              " 1324,\n",
              " 6131,\n",
              " 75,\n",
              " 91,\n",
              " 2,\n",
              " 172,\n",
              " 4,\n",
              " 66,\n",
              " 474,\n",
              " 10,\n",
              " 1220,\n",
              " 6,\n",
              " 6592,\n",
              " 1968,\n",
              " 398,\n",
              " 9,\n",
              " 2841,\n",
              " 22,\n",
              " 342,\n",
              " 203,\n",
              " 4,\n",
              " 1220,\n",
              " 6132,\n",
              " 27,\n",
              " 2953,\n",
              " 2412,\n",
              " 2,\n",
              " 1324,\n",
              " 2775,\n",
              " 41,\n",
              " 6717,\n",
              " 4,\n",
              " 5513,\n",
              " 5,\n",
              " 182,\n",
              " 7,\n",
              " 4441,\n",
              " 552,\n",
              " 58,\n",
              " 45,\n",
              " 203,\n",
              " 62,\n",
              " 3045,\n",
              " 8091,\n",
              " 6,\n",
              " 37,\n",
              " 38,\n",
              " 398,\n",
              " 2,\n",
              " 474,\n",
              " 7718,\n",
              " 22,\n",
              " 10,\n",
              " 105,\n",
              " 534,\n",
              " 27,\n",
              " 4,\n",
              " 141,\n",
              " 66,\n",
              " 259,\n",
              " 24,\n",
              " 203,\n",
              " 22,\n",
              " 392,\n",
              " 5,\n",
              " 2043,\n",
              " 2,\n",
              " 51,\n",
              " 45,\n",
              " 1744,\n",
              " 8976,\n",
              " 9,\n",
              " 2478,\n",
              " 1968,\n",
              " 62,\n",
              " 2,\n",
              " 37,\n",
              " 38,\n",
              " 398,\n",
              " 4,\n",
              " 8315,\n",
              " 8749,\n",
              " 57,\n",
              " 4095,\n",
              " 392,\n",
              " 40,\n",
              " 2169,\n",
              " 3769,\n",
              " 898,\n",
              " 5,\n",
              " 2043,\n",
              " 6022,\n",
              " 31,\n",
              " 1744,\n",
              " 1968,\n",
              " 17,\n",
              " 12]"
            ]
          },
          "metadata": {},
          "execution_count": 7
        }
      ]
    },
    {
      "cell_type": "code",
      "source": [
        "#Decoding newswires back to text\n",
        "word_index=reuters.get_word_index()\n",
        "reverse_word_index=dict([(value,key) for (key,value) in word_index.items()])\n",
        "decoded_newswire=''.join([reverse_word_index.get(i -3,'?') for i in train_data[0]])"
      ],
      "metadata": {
        "id": "lt61nZoWpNOF"
      },
      "execution_count": null,
      "outputs": []
    },
    {
      "cell_type": "code",
      "source": [
        "train_labels[20]"
      ],
      "metadata": {
        "colab": {
          "base_uri": "https://localhost:8080/"
        },
        "id": "cOlJXjN-qhnd",
        "outputId": "aca80f46-4658-48eb-c1a7-ac61999e27a3"
      },
      "execution_count": null,
      "outputs": [
        {
          "output_type": "execute_result",
          "data": {
            "text/plain": [
              "11"
            ]
          },
          "metadata": {},
          "execution_count": 12
        }
      ]
    },
    {
      "cell_type": "code",
      "source": [
        "#Data preparation\n",
        "import numpy as np\n",
        "def vectorize_sequences(sequences,dimension=10000):\n",
        "  results=np.zeros((len(sequences),dimension))\n",
        "  for i, sequence in enumerate(sequences):\n",
        "    results[i,sequence]=1.\n",
        "    return results\n",
        "x_train=vectorize_sequences(train_data)\n",
        "x_test=vectorize_sequences(test_data)"
      ],
      "metadata": {
        "id": "0kax9U6fqpUZ"
      },
      "execution_count": null,
      "outputs": []
    },
    {
      "cell_type": "code",
      "source": [
        "def to_one_hot(labels,dimension=54):\n",
        "  results=np.zeros((len(labels),dimension))\n",
        "  for i, label in enumerate(labels):\n",
        "    results[i,label]=1.\n",
        "    return results\n",
        "  one_hot_train_labels=to_one_hot(train_labels)\n",
        "  one_hot_test_labels=to_one_hot(test_labels)"
      ],
      "metadata": {
        "id": "oOMObAj_sNVy"
      },
      "execution_count": null,
      "outputs": []
    },
    {
      "cell_type": "code",
      "source": [
        "from keras.utils import to_categorical\n",
        "one_hot_train_labels = to_categorical(train_labels)\n",
        "one_hot_test_labels = to_categorical(test_labels)"
      ],
      "metadata": {
        "id": "1Uneo5vn26KC"
      },
      "execution_count": null,
      "outputs": []
    },
    {
      "cell_type": "code",
      "source": [
        "#Model definition\n",
        "from tensorflow import keras\n",
        "\n",
        "model = keras.models.Sequential([\n",
        "    keras.layers.Dense(64, activation=\"relu\", input_shape=(10000,)),\n",
        "    keras.layers.Dense(64, activation=\"relu\"),\n",
        "    keras.layers.Dense(46, activation=\"softmax\"),\n",
        "])\n",
        "#print model summary\n",
        "model.summary()"
      ],
      "metadata": {
        "colab": {
          "base_uri": "https://localhost:8080/"
        },
        "id": "_zcF6xcI6c6i",
        "outputId": "01ea0742-b6ac-45f9-aa35-e4ffb567bc6f"
      },
      "execution_count": null,
      "outputs": [
        {
          "output_type": "stream",
          "name": "stdout",
          "text": [
            "Model: \"sequential_2\"\n",
            "_________________________________________________________________\n",
            " Layer (type)                Output Shape              Param #   \n",
            "=================================================================\n",
            " dense_6 (Dense)             (None, 64)                640064    \n",
            "                                                                 \n",
            " dense_7 (Dense)             (None, 64)                4160      \n",
            "                                                                 \n",
            " dense_8 (Dense)             (None, 46)                2990      \n",
            "                                                                 \n",
            "=================================================================\n",
            "Total params: 647214 (2.47 MB)\n",
            "Trainable params: 647214 (2.47 MB)\n",
            "Non-trainable params: 0 (0.00 Byte)\n",
            "_________________________________________________________________\n"
          ]
        }
      ]
    },
    {
      "cell_type": "code",
      "source": [
        "#Model compilation\n",
        "model.compile(optimizer=\"rmsprop\",loss='categorical_crossentropy',metrics=['accuracy'])"
      ],
      "metadata": {
        "id": "vNDJlQmXBaoI"
      },
      "execution_count": null,
      "outputs": []
    },
    {
      "cell_type": "code",
      "source": [
        "#Approach validation\n",
        "x_val=x_train[:2000]\n",
        "partial_x_train=x_train[2000:]\n",
        "y_val=one_hot_train_labels[:2000]\n",
        "partial_y_train=one_hot_train_labels[2000:]"
      ],
      "metadata": {
        "id": "TdYwtugyCwkl"
      },
      "execution_count": null,
      "outputs": []
    },
    {
      "cell_type": "code",
      "source": [
        "#model training\n",
        "history=model.fit(partial_x_train,partial_y_train,epochs=20,batch_size=512,validation_data=(x_val,y_val))"
      ],
      "metadata": {
        "colab": {
          "base_uri": "https://localhost:8080/"
        },
        "id": "vbQ6EYyLDi4p",
        "outputId": "7dc43cb9-d5e1-4778-b56c-e376643fc7a0"
      },
      "execution_count": null,
      "outputs": [
        {
          "output_type": "stream",
          "name": "stdout",
          "text": [
            "Epoch 1/20\n",
            "14/14 [==============================] - 1s 82ms/step - loss: 3.6041 - accuracy: 0.3551 - val_loss: 3.5963 - val_accuracy: 0.3395\n",
            "Epoch 2/20\n",
            "14/14 [==============================] - 1s 62ms/step - loss: 3.5878 - accuracy: 0.3551 - val_loss: 3.5801 - val_accuracy: 0.3395\n",
            "Epoch 3/20\n",
            "14/14 [==============================] - 1s 52ms/step - loss: 3.5716 - accuracy: 0.3551 - val_loss: 3.5640 - val_accuracy: 0.3395\n",
            "Epoch 4/20\n",
            "14/14 [==============================] - 1s 61ms/step - loss: 3.5555 - accuracy: 0.3551 - val_loss: 3.5481 - val_accuracy: 0.3395\n",
            "Epoch 5/20\n",
            "14/14 [==============================] - 1s 60ms/step - loss: 3.5396 - accuracy: 0.3551 - val_loss: 3.5322 - val_accuracy: 0.3395\n",
            "Epoch 6/20\n",
            "14/14 [==============================] - 1s 57ms/step - loss: 3.5237 - accuracy: 0.3551 - val_loss: 3.5166 - val_accuracy: 0.3395\n",
            "Epoch 7/20\n",
            "14/14 [==============================] - 1s 85ms/step - loss: 3.5080 - accuracy: 0.3551 - val_loss: 3.5010 - val_accuracy: 0.3395\n",
            "Epoch 8/20\n",
            "14/14 [==============================] - 1s 91ms/step - loss: 3.4924 - accuracy: 0.3551 - val_loss: 3.4855 - val_accuracy: 0.3395\n",
            "Epoch 9/20\n",
            "14/14 [==============================] - 1s 88ms/step - loss: 3.4769 - accuracy: 0.3551 - val_loss: 3.4702 - val_accuracy: 0.3395\n",
            "Epoch 10/20\n",
            "14/14 [==============================] - 1s 78ms/step - loss: 3.4616 - accuracy: 0.3551 - val_loss: 3.4550 - val_accuracy: 0.3395\n",
            "Epoch 11/20\n",
            "14/14 [==============================] - 1s 57ms/step - loss: 3.4464 - accuracy: 0.3551 - val_loss: 3.4399 - val_accuracy: 0.3395\n",
            "Epoch 12/20\n",
            "14/14 [==============================] - 1s 58ms/step - loss: 3.4313 - accuracy: 0.3551 - val_loss: 3.4249 - val_accuracy: 0.3395\n",
            "Epoch 13/20\n",
            "14/14 [==============================] - 1s 52ms/step - loss: 3.4163 - accuracy: 0.3551 - val_loss: 3.4100 - val_accuracy: 0.3395\n",
            "Epoch 14/20\n",
            "14/14 [==============================] - 1s 52ms/step - loss: 3.4014 - accuracy: 0.3551 - val_loss: 3.3953 - val_accuracy: 0.3395\n",
            "Epoch 15/20\n",
            "14/14 [==============================] - 1s 52ms/step - loss: 3.3866 - accuracy: 0.3551 - val_loss: 3.3807 - val_accuracy: 0.3395\n",
            "Epoch 16/20\n",
            "14/14 [==============================] - 1s 56ms/step - loss: 3.3720 - accuracy: 0.3551 - val_loss: 3.3662 - val_accuracy: 0.3395\n",
            "Epoch 17/20\n",
            "14/14 [==============================] - 1s 56ms/step - loss: 3.3575 - accuracy: 0.3551 - val_loss: 3.3519 - val_accuracy: 0.3395\n",
            "Epoch 18/20\n",
            "14/14 [==============================] - 1s 61ms/step - loss: 3.3432 - accuracy: 0.3551 - val_loss: 3.3377 - val_accuracy: 0.3395\n",
            "Epoch 19/20\n",
            "14/14 [==============================] - 1s 61ms/step - loss: 3.3290 - accuracy: 0.3551 - val_loss: 3.3236 - val_accuracy: 0.3395\n",
            "Epoch 20/20\n",
            "14/14 [==============================] - 1s 58ms/step - loss: 3.3149 - accuracy: 0.3551 - val_loss: 3.3097 - val_accuracy: 0.3395\n"
          ]
        }
      ]
    },
    {
      "cell_type": "code",
      "source": [
        "print(history)"
      ],
      "metadata": {
        "colab": {
          "base_uri": "https://localhost:8080/"
        },
        "id": "egvvZHXELSYd",
        "outputId": "9714c409-8c20-4810-fc87-06e08a3256de"
      },
      "execution_count": null,
      "outputs": [
        {
          "output_type": "stream",
          "name": "stdout",
          "text": [
            "<keras.src.callbacks.History object at 0x7916a388e920>\n"
          ]
        }
      ]
    },
    {
      "cell_type": "code",
      "source": [
        "#plotting the training and validation loss\n",
        "import matplotlib.pyplot as plt\n",
        "loss=history.history['loss']\n",
        "val_loss=history.history['val_loss']\n",
        "epochs=range(1,len(loss)+1)\n",
        "plt.plot(epochs,loss,'bo')\n",
        "plt.plot(epochs,val_loss,'b')\n",
        "plt.title('Training and validation loss')\n",
        "plt.xlabel('Epochs')\n",
        "plt.ylabel('loss')\n",
        "plt.legend()\n",
        "plt.show()"
      ],
      "metadata": {
        "colab": {
          "base_uri": "https://localhost:8080/",
          "height": 509
        },
        "id": "xIxLx4nAQCtN",
        "outputId": "240b3129-fdb1-46af-e627-32b9460748ea"
      },
      "execution_count": null,
      "outputs": [
        {
          "output_type": "stream",
          "name": "stderr",
          "text": [
            "WARNING:matplotlib.legend:No artists with labels found to put in legend.  Note that artists whose label start with an underscore are ignored when legend() is called with no argument.\n"
          ]
        },
        {
          "output_type": "display_data",
          "data": {
            "text/plain": [
              "<Figure size 640x480 with 1 Axes>"
            ],
            "image/png": "[encoded data removed]"
          },
          "metadata": {}
        }
      ]
    },
    {
      "cell_type": "code",
      "source": [
        "#Plotting the training and validation accuracy\n",
        "plt.clf()\n",
        "acc = history.history['accuracy']  # Note: Use 'accuracy' instead of 'acc'\n",
        "val_acc = history.history['val_accuracy']  # Note: Use 'val_accuracy' instead of 'val_acc'\n",
        "epochs = range(1, len(acc) + 1)\n",
        "plt.plot(epochs, acc, 'bo', label='Training acc')\n",
        "plt.plot(epochs, val_acc, 'b', label='Validation acc')\n",
        "plt.title('Training and validation accuracy')\n",
        "plt.xlabel('Epochs')\n",
        "plt.ylabel('Accuracy')\n",
        "plt.legend()\n",
        "plt.show()"
      ],
      "metadata": {
        "colab": {
          "base_uri": "https://localhost:8080/",
          "height": 472
        },
        "id": "o9E3px0eZw82",
        "outputId": "082a7728-ac73-498c-ba08-1c9adf0d811d"
      },
      "execution_count": null,
      "outputs": [
        {
          "output_type": "display_data",
          "data": {
            "text/plain": [
              "<Figure size 640x480 with 1 Axes>"
            ],
            "image/png": "[encoded data removed]"
          },
          "metadata": {}
        }
      ]
    },
    {
      "cell_type": "code",
      "source": [
        "#retraining the model\n",
        "from keras.models import Sequential\n",
        "from keras import layers\n",
        "from keras.layers import Dense\n",
        "model=models.Sequential()\n",
        "model.add(layers.Dense(64,activation='relu',input_shape=(10000,)))\n",
        "model.add(layers.Dense(64,activation='relu'))\n",
        "model.add(layers.Dense(46,activation='softmax'))\n",
        "model.compile(optimizer='rmsprop',loss='categorical_crossentropy',metrics=['accuracy'])\n",
        "model.fit(partial_x_train,partial_y_train,epochs=12,batch_size=512,validation_data=(x_val,y_val))\n",
        "results=model.evaluate(x_test,one_hot_test_labels)"
      ],
      "metadata": {
        "colab": {
          "base_uri": "https://localhost:8080/"
        },
        "id": "18jJMD7ReS93",
        "outputId": "5fec9de8-65fe-4cec-9d69-0efa5d27fc50"
      },
      "execution_count": null,
      "outputs": [
        {
          "output_type": "stream",
          "name": "stdout",
          "text": [
            "Epoch 1/12\n",
            "14/14 [==============================] - 3s 134ms/step - loss: 3.8134 - accuracy: 0.2213 - val_loss: 3.8005 - val_accuracy: 0.3395\n",
            "Epoch 2/12\n",
            "14/14 [==============================] - 1s 69ms/step - loss: 3.7918 - accuracy: 0.3551 - val_loss: 3.7819 - val_accuracy: 0.3395\n",
            "Epoch 3/12\n",
            "14/14 [==============================] - 1s 60ms/step - loss: 3.7736 - accuracy: 0.3551 - val_loss: 3.7643 - val_accuracy: 0.3395\n",
            "Epoch 4/12\n",
            "14/14 [==============================] - 1s 56ms/step - loss: 3.7561 - accuracy: 0.3551 - val_loss: 3.7469 - val_accuracy: 0.3395\n",
            "Epoch 5/12\n",
            "14/14 [==============================] - 1s 60ms/step - loss: 3.7387 - accuracy: 0.3551 - val_loss: 3.7298 - val_accuracy: 0.3395\n",
            "Epoch 6/12\n",
            "14/14 [==============================] - 1s 56ms/step - loss: 3.7215 - accuracy: 0.3551 - val_loss: 3.7127 - val_accuracy: 0.3395\n",
            "Epoch 7/12\n",
            "14/14 [==============================] - 1s 56ms/step - loss: 3.7044 - accuracy: 0.3551 - val_loss: 3.6957 - val_accuracy: 0.3395\n",
            "Epoch 8/12\n",
            "14/14 [==============================] - 1s 54ms/step - loss: 3.6874 - accuracy: 0.3551 - val_loss: 3.6788 - val_accuracy: 0.3395\n",
            "Epoch 9/12\n",
            "14/14 [==============================] - 1s 58ms/step - loss: 3.6705 - accuracy: 0.3551 - val_loss: 3.6621 - val_accuracy: 0.3395\n",
            "Epoch 10/12\n",
            "14/14 [==============================] - 1s 60ms/step - loss: 3.6538 - accuracy: 0.3551 - val_loss: 3.6455 - val_accuracy: 0.3395\n",
            "Epoch 11/12\n",
            "14/14 [==============================] - 1s 59ms/step - loss: 3.6371 - accuracy: 0.3551 - val_loss: 3.6290 - val_accuracy: 0.3395\n",
            "Epoch 12/12\n",
            "14/14 [==============================] - 1s 52ms/step - loss: 3.6206 - accuracy: 0.3551 - val_loss: 3.6126 - val_accuracy: 0.3395\n",
            "71/71 [==============================] - 0s 4ms/step - loss: 3.6151 - accuracy: 0.3615\n"
          ]
        }
      ]
    },
    {
      "cell_type": "code",
      "source": [
        "results"
      ],
      "metadata": {
        "colab": {
          "base_uri": "https://localhost:8080/"
        },
        "id": "808X1x69m82I",
        "outputId": "ea35ddea-2bbc-4c1b-92ae-236d6adc55ce"
      },
      "execution_count": null,
      "outputs": [
        {
          "output_type": "execute_result",
          "data": {
            "text/plain": [
              "[3.6151082515716553, 0.3615316152572632]"
            ]
          },
          "metadata": {},
          "execution_count": 48
        }
      ]
    },
    {
      "cell_type": "code",
      "source": [
        "import copy\n",
        "test_labels_copy=copy.copy(test_labels)\n",
        "np.random.shuffle(test_labels_copy)\n",
        "hits_array=np.array(test_labels)==np.array(test_labels_copy)\n",
        "float(np.sum(hits_array))/len(test_labels)"
      ],
      "metadata": {
        "colab": {
          "base_uri": "https://localhost:8080/"
        },
        "id": "ablNjSRSnOEc",
        "outputId": "b778b2e0-05a3-49b5-8064-cd3ebbfde64f"
      },
      "execution_count": null,
      "outputs": [
        {
          "output_type": "execute_result",
          "data": {
            "text/plain": [
              "0.21059661620658948"
            ]
          },
          "metadata": {},
          "execution_count": 49
        }
      ]
    },
    {
      "cell_type": "code",
      "source": [
        "#Generating preditions on new data\n",
        "predictions=model.predict(x_test)"
      ],
      "metadata": {
        "colab": {
          "base_uri": "https://localhost:8080/"
        },
        "id": "ZZ8nKX_soC97",
        "outputId": "0370dfa4-761a-49ee-d9b5-b1665cd18bc0"
      },
      "execution_count": null,
      "outputs": [
        {
          "output_type": "stream",
          "name": "stdout",
          "text": [
            "71/71 [==============================] - 1s 5ms/step\n"
          ]
        }
      ]
    },
    {
      "cell_type": "code",
      "source": [
        "predictions[0].shape"
      ],
      "metadata": {
        "colab": {
          "base_uri": "https://localhost:8080/"
        },
        "id": "5QBKliC3oS29",
        "outputId": "a1fa9940-2475-4ab2-cd30-c8c0bb436469"
      },
      "execution_count": null,
      "outputs": [
        {
          "output_type": "execute_result",
          "data": {
            "text/plain": [
              "(46,)"
            ]
          },
          "metadata": {},
          "execution_count": 52
        }
      ]
    },
    {
      "cell_type": "code",
      "source": [
        "np.sum(predictions[0])"
      ],
      "metadata": {
        "colab": {
          "base_uri": "https://localhost:8080/"
        },
        "id": "JX79HiGOodJi",
        "outputId": "ff38368f-811d-4555-e250-91d88db8ca52"
      },
      "execution_count": null,
      "outputs": [
        {
          "output_type": "execute_result",
          "data": {
            "text/plain": [
              "0.9999999"
            ]
          },
          "metadata": {},
          "execution_count": 53
        }
      ]
    },
    {
      "cell_type": "code",
      "source": [
        "#handling labels and loss\n",
        "y_train=np.array(train_labels)\n",
        "y_test=np.array(test_labels)\n"
      ],
      "metadata": {
        "id": "g0_xT-DHq_jf"
      },
      "execution_count": null,
      "outputs": []
    }
  ]
}