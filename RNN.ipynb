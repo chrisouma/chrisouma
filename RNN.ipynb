{
  "nbformat": 4,
  "nbformat_minor": 0,
  "metadata": {
    "colab": {
      "provenance": [],
      "authorship_tag": "ABX9TyNxQoUomI89lohD91gM3yJU",
      "include_colab_link": true
    },
    "kernelspec": {
      "name": "python3",
      "display_name": "Python 3"
    },
    "language_info": {
      "name": "python"
    }
  },
  "cells": [
    {
      "cell_type": "markdown",
      "metadata": {
        "id": "view-in-github",
        "colab_type": "text"
      },
      "source": [
        "<a href=\"https://colab.research.google.com/github/chrisouma/chrisouma/blob/main/RNN.ipynb\" target=\"_parent\"><img src=\"https://colab.research.google.com/assets/colab-badge.svg\" alt=\"Open In Colab\"/></a>"
      ]
    },
    {
      "cell_type": "code",
      "execution_count": null,
      "metadata": {
        "id": "f0U671VWxNOL"
      },
      "outputs": [],
      "source": [
        "#Pseudocode RNN\n",
        "input_sequence=[0.1,0.2,0.3]\n",
        "state_t=0\n",
        "def f(input_t, state_t):\n",
        "  for input_t in input_sequence:\n",
        "    output_t=f(input_t,state_t)\n",
        "  state_t=output_t\n",
        "  return state_t"
      ]
    },
    {
      "cell_type": "code",
      "source": [
        "import numpy as np\n",
        "from numpy import dot\n",
        "state_t=0\n",
        "W=np.array([0.8])\n",
        "U=np.array([0.8])\n",
        "b=np.array([0.3])\n",
        "for input_t in input_sequence:\n",
        "  def activation(x):\n",
        "    return np.tanh(x)\n",
        "  output_t=activation(dot(W,input_t)+dot(U,state_t)+b)\n",
        "  state_t=output_t"
      ],
      "metadata": {
        "id": "QnjEO29f2TSi"
      },
      "execution_count": null,
      "outputs": []
    },
    {
      "cell_type": "code",
      "source": [
        "import numpy as np\n",
        "timesteps=200\n",
        "input_features=64\n",
        "output_features=128\n",
        "inputs=np.random.random((output_features,input_features))\n",
        "state_t=np.zeros((output_features,))\n",
        "W=np.random.random((output_features,input_features))\n",
        "U=np.random.random((output_features,output_features))\n",
        "b=np.random.random((output_features,))\n",
        "successive_outputs=[]\n",
        "for input_t in inputs:\n",
        "  output_t=np.tanh(np.dot(W,input_t)+np.dot(U,state_t)+b)\n",
        "  successive_outputs.append(output_t)\n",
        "  state_t=output_t\n",
        "  final_output_sequence=np.concatenate(successive_outputs,axis=0)\n",
        "\n"
      ],
      "metadata": {
        "id": "0tbitclo4Zad"
      },
      "execution_count": null,
      "outputs": []
    },
    {
      "cell_type": "code",
      "source": [
        "print(W.shape)\n",
        "print(input_t.shape)"
      ],
      "metadata": {
        "colab": {
          "base_uri": "https://localhost:8080/"
        },
        "id": "0HPLU063EmZp",
        "outputId": "533321db-183c-458a-f165-cd044c33868c"
      },
      "execution_count": null,
      "outputs": [
        {
          "output_type": "stream",
          "name": "stdout",
          "text": [
            "(128, 64)\n",
            "(64,)\n"
          ]
        }
      ]
    },
    {
      "cell_type": "code",
      "source": [
        "output_t=np.tanh(np.dot(W,input_t)+np.dot(U,state_t)+b)"
      ],
      "metadata": {
        "id": "XjD5CYnfIakq"
      },
      "execution_count": null,
      "outputs": []
    },
    {
      "cell_type": "code",
      "source": [
        "print(final_output_sequence)\n",
        "print(output_t)"
      ],
      "metadata": {
        "colab": {
          "base_uri": "https://localhost:8080/"
        },
        "id": "QaKKRg_MIrsZ",
        "outputId": "b7e8a865-914e-4b35-ba44-7f8a6df53fd7"
      },
      "execution_count": null,
      "outputs": [
        {
          "output_type": "stream",
          "name": "stdout",
          "text": [
            "[1. 1. 1. ... 1. 1. 1.]\n",
            "[1. 1. 1. 1. 1. 1. 1. 1. 1. 1. 1. 1. 1. 1. 1. 1. 1. 1. 1. 1. 1. 1. 1. 1.\n",
            " 1. 1. 1. 1. 1. 1. 1. 1. 1. 1. 1. 1. 1. 1. 1. 1. 1. 1. 1. 1. 1. 1. 1. 1.\n",
            " 1. 1. 1. 1. 1. 1. 1. 1. 1. 1. 1. 1. 1. 1. 1. 1. 1. 1. 1. 1. 1. 1. 1. 1.\n",
            " 1. 1. 1. 1. 1. 1. 1. 1. 1. 1. 1. 1. 1. 1. 1. 1. 1. 1. 1. 1. 1. 1. 1. 1.\n",
            " 1. 1. 1. 1. 1. 1. 1. 1. 1. 1. 1. 1. 1. 1. 1. 1. 1. 1. 1. 1. 1. 1. 1. 1.\n",
            " 1. 1. 1. 1. 1. 1. 1. 1.]\n"
          ]
        }
      ]
    },
    {
      "cell_type": "code",
      "source": [
        "#Recurrent layer in Keras\n",
        "from keras.models import Sequential\n",
        "from keras.layers import Embedding, SimpleRNN\n",
        "model = Sequential()\n",
        "model.add(Embedding(20000,64))\n",
        "model.add(SimpleRNN(64))\n",
        "model.summary()"
      ],
      "metadata": {
        "colab": {
          "base_uri": "https://localhost:8080/"
        },
        "id": "r_0uS1ZhJOtP",
        "outputId": "47fdb748-2bc1-49e7-cd9a-a4fd9a258ddd"
      },
      "execution_count": null,
      "outputs": [
        {
          "output_type": "stream",
          "name": "stdout",
          "text": [
            "Model: \"sequential\"\n",
            "_________________________________________________________________\n",
            " Layer (type)                Output Shape              Param #   \n",
            "=================================================================\n",
            " embedding (Embedding)       (None, None, 64)          1280000   \n",
            "                                                                 \n",
            " simple_rnn (SimpleRNN)      (None, 64)                8256      \n",
            "                                                                 \n",
            "=================================================================\n",
            "Total params: 1288256 (4.91 MB)\n",
            "Trainable params: 1288256 (4.91 MB)\n",
            "Non-trainable params: 0 (0.00 Byte)\n",
            "_________________________________________________________________\n"
          ]
        }
      ]
    },
    {
      "cell_type": "code",
      "source": [
        "model=Sequential()\n",
        "model.add(Embedding(20000,64))\n",
        "model.add(SimpleRNN(64,return_sequences=True))\n",
        "model.summary()"
      ],
      "metadata": {
        "colab": {
          "base_uri": "https://localhost:8080/"
        },
        "id": "-WGOAuxFMfLp",
        "outputId": "1715281b-a57f-4307-ccb7-687d7eb17540"
      },
      "execution_count": null,
      "outputs": [
        {
          "output_type": "stream",
          "name": "stdout",
          "text": [
            "Model: \"sequential_1\"\n",
            "_________________________________________________________________\n",
            " Layer (type)                Output Shape              Param #   \n",
            "=================================================================\n",
            " embedding_1 (Embedding)     (None, None, 64)          1280000   \n",
            "                                                                 \n",
            " simple_rnn_1 (SimpleRNN)    (None, None, 64)          8256      \n",
            "                                                                 \n",
            "=================================================================\n",
            "Total params: 1288256 (4.91 MB)\n",
            "Trainable params: 1288256 (4.91 MB)\n",
            "Non-trainable params: 0 (0.00 Byte)\n",
            "_________________________________________________________________\n"
          ]
        }
      ]
    },
    {
      "cell_type": "code",
      "source": [
        "model=Sequential()\n",
        "model.add(Embedding(20000,64))\n",
        "model.add(SimpleRNN(64,return_sequences=True))\n",
        "model.add(SimpleRNN(64,return_sequences=True))\n",
        "model.add(SimpleRNN(64,return_sequences=True))\n",
        "model.add(SimpleRNN(64))\n",
        "model.summary()"
      ],
      "metadata": {
        "colab": {
          "base_uri": "https://localhost:8080/"
        },
        "id": "zkUec5Q4P9PM",
        "outputId": "69d4ea3c-d2e8-4277-f0f7-e1832b7d9a29"
      },
      "execution_count": null,
      "outputs": [
        {
          "output_type": "stream",
          "name": "stdout",
          "text": [
            "Model: \"sequential_2\"\n",
            "_________________________________________________________________\n",
            " Layer (type)                Output Shape              Param #   \n",
            "=================================================================\n",
            " embedding_2 (Embedding)     (None, None, 64)          1280000   \n",
            "                                                                 \n",
            " simple_rnn_2 (SimpleRNN)    (None, None, 64)          8256      \n",
            "                                                                 \n",
            " simple_rnn_3 (SimpleRNN)    (None, None, 64)          8256      \n",
            "                                                                 \n",
            " simple_rnn_4 (SimpleRNN)    (None, None, 64)          8256      \n",
            "                                                                 \n",
            " simple_rnn_5 (SimpleRNN)    (None, 64)                8256      \n",
            "                                                                 \n",
            "=================================================================\n",
            "Total params: 1313024 (5.01 MB)\n",
            "Trainable params: 1313024 (5.01 MB)\n",
            "Non-trainable params: 0 (0.00 Byte)\n",
            "_________________________________________________________________\n"
          ]
        }
      ]
    },
    {
      "cell_type": "code",
      "source": [
        "#preparing the IMDB data\n",
        "from keras.datasets import imdb\n",
        "from keras.preprocessing import sequence\n",
        "\n",
        "max_features = 20000\n",
        "maxlen = 1000\n",
        "batch_size = 32\n",
        "\n",
        "print('Loading data...')\n",
        "(input_train, y_train), (input_test, y_test) = imdb.load_data(\n",
        "     num_words=max_features)\n",
        "print(len(input_train), 'train sequences')\n",
        "print(len(input_test), 'test sequences')\n",
        "\n",
        "print('Pad sequences (samples x time)')\n",
        "input_train = sequence.pad_sequences(input_train, maxlen=maxlen)\n",
        "input_test = sequence.pad_sequences(input_test, maxlen=maxlen)\n",
        "print('input_train shape:', input_train.shape)\n",
        "print('input_test shape:', input_test.shape)"
      ],
      "metadata": {
        "id": "iIUNOWaJSB-4",
        "colab": {
          "base_uri": "https://localhost:8080/"
        },
        "outputId": "df7e4f10-4c8e-492d-c4c2-87d749a4dcdb"
      },
      "execution_count": null,
      "outputs": [
        {
          "output_type": "stream",
          "name": "stdout",
          "text": [
            "Loading data...\n",
            "25000 train sequences\n",
            "25000 test sequences\n",
            "Pad sequences (samples x time)\n",
            "input_train shape: (25000, 1000)\n",
            "input_test shape: (25000, 1000)\n"
          ]
        }
      ]
    },
    {
      "cell_type": "code",
      "source": [
        "#Training the model with Embedding and SimpleRNN layers\n",
        "from keras.layers import Dense\n",
        "model=Sequential()\n",
        "model.add(Embedding(max_features,32))\n",
        "model.add(SimpleRNN(32))\n",
        "model.add(Dense(1,activation='sigmoid'))\n",
        "model.compile(optimizer='rmsprop',loss='binary_crossentropy',metrics=['acc'])\n",
        "history=model.fit(input_train,y_train,epochs=20,batch_size=128,validation_split=0.2)"
      ],
      "metadata": {
        "colab": {
          "base_uri": "https://localhost:8080/"
        },
        "id": "LzM-5qHjkarG",
        "outputId": "ec0b87fc-5bfd-4b1f-a0c8-a06ae080b15d"
      },
      "execution_count": null,
      "outputs": [
        {
          "output_type": "stream",
          "name": "stdout",
          "text": [
            "Epoch 1/20\n",
            "157/157 [==============================] - 69s 428ms/step - loss: 0.6144 - acc: 0.6481 - val_loss: 0.4648 - val_acc: 0.7952\n",
            "Epoch 2/20\n",
            "157/157 [==============================] - 60s 381ms/step - loss: 0.3849 - acc: 0.8397 - val_loss: 0.3574 - val_acc: 0.8526\n",
            "Epoch 3/20\n",
            "157/157 [==============================] - 61s 387ms/step - loss: 0.2845 - acc: 0.8870 - val_loss: 0.4374 - val_acc: 0.7936\n",
            "Epoch 4/20\n",
            "157/157 [==============================] - 59s 379ms/step - loss: 0.2392 - acc: 0.9104 - val_loss: 0.3833 - val_acc: 0.8380\n",
            "Epoch 5/20\n",
            "157/157 [==============================] - 62s 393ms/step - loss: 0.1605 - acc: 0.9427 - val_loss: 0.4182 - val_acc: 0.8290\n",
            "Epoch 6/20\n",
            "157/157 [==============================] - 59s 378ms/step - loss: 0.1070 - acc: 0.9647 - val_loss: 0.4102 - val_acc: 0.8540\n",
            "Epoch 7/20\n",
            "157/157 [==============================] - 60s 384ms/step - loss: 0.0690 - acc: 0.9778 - val_loss: 0.4800 - val_acc: 0.8578\n",
            "Epoch 8/20\n",
            "157/157 [==============================] - 59s 378ms/step - loss: 0.0497 - acc: 0.9855 - val_loss: 0.5904 - val_acc: 0.7960\n",
            "Epoch 9/20\n",
            "157/157 [==============================] - 63s 404ms/step - loss: 0.0286 - acc: 0.9921 - val_loss: 0.6025 - val_acc: 0.8182\n",
            "Epoch 10/20\n",
            "157/157 [==============================] - 59s 377ms/step - loss: 0.0280 - acc: 0.9918 - val_loss: 0.5935 - val_acc: 0.8396\n",
            "Epoch 11/20\n",
            "157/157 [==============================] - 61s 389ms/step - loss: 0.0204 - acc: 0.9938 - val_loss: 0.6372 - val_acc: 0.8324\n",
            "Epoch 12/20\n",
            "157/157 [==============================] - 59s 375ms/step - loss: 0.0155 - acc: 0.9950 - val_loss: 0.7285 - val_acc: 0.8332\n",
            "Epoch 13/20\n",
            "157/157 [==============================] - 59s 377ms/step - loss: 0.0160 - acc: 0.9962 - val_loss: 0.8028 - val_acc: 0.7848\n",
            "Epoch 14/20\n",
            "157/157 [==============================] - 60s 383ms/step - loss: 0.0477 - acc: 0.9839 - val_loss: 0.6967 - val_acc: 0.8360\n",
            "Epoch 15/20\n",
            "157/157 [==============================] - 58s 372ms/step - loss: 0.0114 - acc: 0.9967 - val_loss: 0.7421 - val_acc: 0.8354\n",
            "Epoch 16/20\n",
            "157/157 [==============================] - 59s 376ms/step - loss: 0.0114 - acc: 0.9969 - val_loss: 0.7654 - val_acc: 0.8324\n",
            "Epoch 17/20\n",
            "157/157 [==============================] - 58s 373ms/step - loss: 0.0089 - acc: 0.9967 - val_loss: 0.8064 - val_acc: 0.8286\n",
            "Epoch 18/20\n",
            "157/157 [==============================] - 61s 391ms/step - loss: 0.0085 - acc: 0.9980 - val_loss: 0.8864 - val_acc: 0.8156\n",
            "Epoch 19/20\n",
            "157/157 [==============================] - 57s 366ms/step - loss: 0.0128 - acc: 0.9966 - val_loss: 0.9287 - val_acc: 0.8002\n",
            "Epoch 20/20\n",
            "157/157 [==============================] - 60s 384ms/step - loss: 0.0071 - acc: 0.9980 - val_loss: 0.9745 - val_acc: 0.8110\n"
          ]
        }
      ]
    },
    {
      "cell_type": "code",
      "source": [
        "#Plotting the results\n",
        "import matplotlib.pyplot as plt\n",
        "acc=history.history['acc']\n",
        "val_acc=history.history['val_acc']\n",
        "loss=history.history['loss']\n",
        "val_loss=history.history['val_loss']\n",
        "epochs=range(1,len(acc)+1)\n",
        "plt.plot(epochs,acc,'bo',label='Training acc')\n",
        "plt.plot(epochs,val_acc,'b',label='Validation acc')\n",
        "plt.title('Training and Validation accuracy')\n",
        "plt.legend()\n",
        "plt.figure()\n",
        "plt.plot(epochs,loss,'bo',label='Training loss')\n",
        "plt.plot(epochs,val_loss,'b',label='Validation loss')\n",
        "plt.title('Training and Validation loss')\n",
        "plt.legend()\n",
        "plt.show()\n"
      ],
      "metadata": {
        "colab": {
          "base_uri": "https://localhost:8080/",
          "height": 887
        },
        "id": "F-Lfk3psmg4x",
        "outputId": "a649adba-940e-472e-c593-fbb7b9e5b11c"
      },
      "execution_count": null,
      "outputs": [
        {
          "output_type": "display_data",
          "data": {
            "text/plain": [
              "<Figure size 640x480 with 1 Axes>"
            ],
            "image/png": "[encoded data removed]"
          },
          "metadata": {}
        },
        {
          "output_type": "display_data",
          "data": {
            "text/plain": [
              "<Figure size 640x480 with 1 Axes>"
            ],
            "image/png": "[encoded data removed]"
          },
          "metadata": {}
        }
      ]
    }
  ]
}